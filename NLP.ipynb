{
 "cells": [
  {
   "cell_type": "markdown",
   "id": "91eb355b",
   "metadata": {},
   "source": [
    "# 자연어 처리란?\n",
    "* <b>자연어</b> : 일상 생활에서 사용하는 언어\n",
    "* <b>자연어 처리</b> : 자연어의 의미를 분석하여 컴퓨터가 처리할 수 있도록 하는 일\n",
    "\n",
    "### 실습 환경 설정\n",
    "* <b>아나콘다</b> : 패키지들을 모아놓은 파이썬 배포판. Numpy, Pandas, Jupyter Notebook, IPython, scikit-learn, matplotlib, seaborn, nltk 등 사용할 대부분의 패키지를 전부 포함. <https://www.anaconda.com/distribution/>\n",
    "<br/><br/>\n",
    "* <b>텐서플로우</b> : 구글이 2015년에 공개한 머신 러닝 오픈소스 라이브러리 ``` > pip install tensorflow ```\n",
    "\n",
    "\n",
    "* <b>케라스</b> : 딥 러닝 프레임워크인 텐서플로우에 대한 추상화 된 API를 제공 ``` > pip install keras ```\n",
    "\n",
    "\n",
    "* <b>사이킷런</b> : 파이썬 머신러닝 라이브러리. 나이브 베이즈 분류, 서포트 벡터 머신 등 다양한 머신 러닝 모듈을 불러올 수 있음  ``` > pip install scikit-learn ```\n",
    "\n",
    "\n",
    "* <b>주피터 노트북</b> : 웹에서 코드를 작성하고 실행할 수 있는 오픈소스 웹 어플리케이션 ``` > pip install jupyter ```\n",
    "\n",
    "\n",
    "* <b>NLTK</b> : 자연어 처리를 위한 파이썬 패키지 ``` > pip install nltk ```. 추가로 NLTK Data라는 여러 데이터를 추가적으로 설치 ``` In [3]: nltk.download() ```\n",
    "\n",
    "\n",
    "* <b>KoNLPy</b> : 한국어 자연어 처리를 위한 형태소 분석기 패키지 ``` > pip install konlpy ```"
   ]
  },
  {
   "cell_type": "markdown",
   "id": "ad3ec485",
   "metadata": {},
   "source": [
    "# 데이터 분석을 위한 필수 패키지\n",
    "1. 판다스 : 파이썬 데이터 처리를 위한 라이브러리\n",
    "2. 넘파이\n",
    "3. 맷플롭립"
   ]
  },
  {
   "cell_type": "markdown",
   "id": "7256c82b",
   "metadata": {},
   "source": [
    "## 판다스 설치 및 확인\n",
    "``` > pip install pandas ```"
   ]
  },
  {
   "cell_type": "code",
   "execution_count": null,
   "id": "39b997ad",
   "metadata": {},
   "outputs": [],
   "source": [
    "import pandas as pd\n",
    "pd.__version__"
   ]
  },
  {
   "cell_type": "markdown",
   "id": "03206386",
   "metadata": {},
   "source": [
    "## 판다스의 세 가지 데이터 구조\n",
    "1. 시리즈(Series)\n",
    "2. 데이터프레임(DataFrame)\n",
    "3. 패널(Panel)"
   ]
  },
  {
   "cell_type": "markdown",
   "id": "8eca3b2a",
   "metadata": {},
   "source": [
    "### 1. 시리즈\n",
    "시리즈 클래스는 1차원 배열의 값에 각 값에 대응되는 인덱스를 부여할 수 있는 구조를 가짐"
   ]
  },
  {
   "cell_type": "code",
   "execution_count": null,
   "id": "4a71ff6b",
   "metadata": {},
   "outputs": [],
   "source": [
    "sr = pd.Series([17000, 18000, 1000, 5000], index={\"피자\", \"치킨\", \"콜라\", \"맥주\"})\n",
    "print(sr)"
   ]
  },
  {
   "cell_type": "code",
   "execution_count": null,
   "id": "258a9d4d",
   "metadata": {},
   "outputs": [],
   "source": [
    "print(sr.values)"
   ]
  },
  {
   "cell_type": "code",
   "execution_count": null,
   "id": "43d3fa04",
   "metadata": {},
   "outputs": [],
   "source": [
    "print(sr.index)"
   ]
  },
  {
   "cell_type": "markdown",
   "id": "9993c1ea",
   "metadata": {},
   "source": [
    "### 2. 데이터프레임\n",
    "2차원 리스트를 매개변수로 전달. 2차원이므로 행방향 인덱스와 열방향 인덱스가 존재. 즉 행과 열을 가지는 자료구조."
   ]
  },
  {
   "cell_type": "code",
   "execution_count": null,
   "id": "9f2d053d",
   "metadata": {},
   "outputs": [],
   "source": [
    "values = [\n",
    "    [1, 2, 3],\n",
    "    [4, 5, 6],\n",
    "    [7 ,8 ,9]\n",
    "]\n",
    "\n",
    "index = [ 'one' ,'two', 'three']\n",
    "\n",
    "columns = ['A', 'B', 'C']\n",
    "\n",
    "df = pd.DataFrame(values, index=index, columns=columns)\n",
    "print(df)"
   ]
  },
  {
   "cell_type": "code",
   "execution_count": null,
   "id": "52b1dc09",
   "metadata": {},
   "outputs": [],
   "source": [
    "print(df.index)"
   ]
  },
  {
   "cell_type": "code",
   "execution_count": null,
   "id": "9d1e062c",
   "metadata": {},
   "outputs": [],
   "source": [
    "print(df.columns)"
   ]
  },
  {
   "cell_type": "code",
   "execution_count": null,
   "id": "82603a44",
   "metadata": {},
   "outputs": [],
   "source": [
    "print(df.values)"
   ]
  },
  {
   "cell_type": "markdown",
   "id": "051ce6c6",
   "metadata": {},
   "source": [
    "### 3. 데이터프레임의 생성\n",
    "데이터프레임은 리스트, 시리즈, 딕셔너리, Numpy의 ndarrays, 또 다른 데이터프레임으로 생성할 수 있음"
   ]
  },
  {
   "cell_type": "code",
   "execution_count": null,
   "id": "83618166",
   "metadata": {},
   "outputs": [],
   "source": [
    "#리스트로 생성하기\n",
    "data = [\n",
    "    ['1000', 'Steve', 90.72], \n",
    "    ['1001', 'James', 78.09], \n",
    "    ['1002', 'Doyeon', 98.43], \n",
    "    ['1003', 'Jane', 64.19], \n",
    "    ['1004', 'Pilwoong', 81.30],\n",
    "    ['1005', 'Tony', 99.14],\n",
    "]\n",
    "df = pd.DataFrame(data)\n",
    "print(df)"
   ]
  },
  {
   "cell_type": "markdown",
   "id": "229ec2ea",
   "metadata": {},
   "source": [
    "생성된 데이터프레임에 열 지정"
   ]
  },
  {
   "cell_type": "code",
   "execution_count": null,
   "id": "d8c1eb27",
   "metadata": {},
   "outputs": [],
   "source": [
    "df = pd.DataFrame(data, columns=['학번', '이름', '점수'])\n",
    "print(df)"
   ]
  },
  {
   "cell_type": "code",
   "execution_count": null,
   "id": "177e020a",
   "metadata": {},
   "outputs": [],
   "source": [
    "#딕셔너리로 생성하기\n",
    "data = {\n",
    "    '학번' : ['1000', '1001', '1002', '1003', '1004', '1005'],\n",
    "    '이름' : [ 'Steve', 'James', 'Doyeon', 'Jane', 'Pilwoong', 'Tony'],\n",
    "    '점수': [90.72, 78.09, 98.43, 64.19, 81.30, 99.14]\n",
    "}\n",
    "df = pd.DataFrame(data)\n",
    "print(df)"
   ]
  },
  {
   "cell_type": "markdown",
   "id": "dd85bca5",
   "metadata": {},
   "source": [
    "### 4. 데이터프레임 조회하기\n",
    "데이터프레임에서 원하는 구간만 확인하기 위한 명령어\n",
    "    1. df.head(n) = 앞 부분을 n개만 확인\n",
    "    2. df.tail(n) = 뒷 부분을 n개만 확인\n",
    "    3. df['열이름'] = 해당되는 열을 확인"
   ]
  },
  {
   "cell_type": "code",
   "execution_count": null,
   "id": "7c913622",
   "metadata": {},
   "outputs": [],
   "source": [
    "print(df.head(3)) # 앞 부분 3개만 확인"
   ]
  },
  {
   "cell_type": "code",
   "execution_count": null,
   "id": "48d24455",
   "metadata": {},
   "outputs": [],
   "source": [
    "print(df.tail(3)) # 뒷 부분 3개만 확인"
   ]
  },
  {
   "cell_type": "code",
   "execution_count": null,
   "id": "0085cfa7",
   "metadata": {},
   "outputs": [],
   "source": [
    "print(df['학번']) # '학번'에 해당되는 열을 확인"
   ]
  },
  {
   "cell_type": "markdown",
   "id": "eab750a1",
   "metadata": {},
   "source": [
    "## 넘파이 설치 및 확인\n",
    "``` > pip install numpy ```"
   ]
  },
  {
   "cell_type": "code",
   "execution_count": null,
   "id": "b141b478",
   "metadata": {},
   "outputs": [],
   "source": [
    "import numpy as np\n",
    "np.__version__"
   ]
  },
  {
   "cell_type": "markdown",
   "id": "68fe0a04",
   "metadata": {},
   "source": [
    "### Numpy의 주요 모듈\n",
    "1. np.array() # 리스트, 튜플, 배열로 부터 ndarray 생성\n",
    "2. np.asarray() # 기존의 array로 부터 ndarray 생성\n",
    "3. np.arange() # range와 비슷\n",
    "4. np.linspace(start, end, num) # [start, end] 균일한 간격으로 num개 생성\n",
    "5. np.logspace(start, end, num) # [start, end] log scale 간격으로 num개 생성"
   ]
  },
  {
   "cell_type": "markdown",
   "id": "fdb28117",
   "metadata": {},
   "source": [
    "### np.array()\n",
    "ndarray는 Numpy의 핵심. np.array()는 리스트, 튜플, 배열로부터 ndarray를 생성. 0-based index"
   ]
  },
  {
   "cell_type": "code",
   "execution_count": null,
   "id": "6e49a4fc",
   "metadata": {},
   "outputs": [],
   "source": [
    "a = np.array([1, 2, 3, 4, 5]) # 리스트를 가지고 1차원 배열 생성\n",
    "print(type(a))\n",
    "print(a)"
   ]
  },
  {
   "cell_type": "markdown",
   "id": "50d5ea40",
   "metadata": {},
   "source": [
    "리스트를 가지고 2차원 배열을 만들기 위해서는 array()가 하나의 리스트만 받기 때문에 리스트 안에 리스트를 넣어서 2차원 배열을 만들어야 됨"
   ]
  },
  {
   "cell_type": "code",
   "execution_count": null,
   "id": "327377e2",
   "metadata": {},
   "outputs": [],
   "source": [
    "b = np.array([[10, 20, 30],[60, 70, 80]]) # 리스트를 가지고 2차원 배열 생성\n",
    "print(b)"
   ]
  },
  {
   "cell_type": "code",
   "execution_count": null,
   "id": "7907bfbf",
   "metadata": {},
   "outputs": [],
   "source": [
    "print(b.ndim) #차원 출력\n",
    "print(b.shape) #크기 출력"
   ]
  },
  {
   "cell_type": "markdown",
   "id": "9d092217",
   "metadata": {},
   "source": [
    "### ndarray의 초기화\n",
    "* zeros() : 배열에 모두 0을 삽입"
   ]
  },
  {
   "cell_type": "code",
   "execution_count": null,
   "id": "205acfcc",
   "metadata": {},
   "outputs": [],
   "source": [
    "a = np.zeros((2,3))\n",
    "print(a)"
   ]
  },
  {
   "cell_type": "markdown",
   "id": "c98bd8ff",
   "metadata": {},
   "source": [
    "* ones() : 배열에 모두 1을 삽입"
   ]
  },
  {
   "cell_type": "code",
   "execution_count": null,
   "id": "a4d4a798",
   "metadata": {},
   "outputs": [],
   "source": [
    "a = np.ones((2, 3))\n",
    "print(a)"
   ]
  },
  {
   "cell_type": "markdown",
   "id": "bb7ad903",
   "metadata": {},
   "source": [
    "* full() : 사용자가 지정한 값을 삽입"
   ]
  },
  {
   "cell_type": "code",
   "execution_count": null,
   "id": "23427d48",
   "metadata": {},
   "outputs": [],
   "source": [
    "a = np.full((2,2), 7)\n",
    "print(a)"
   ]
  },
  {
   "cell_type": "markdown",
   "id": "9e27dad5",
   "metadata": {},
   "source": [
    "* eye() : 대각선으로는 1, 나머지는 0인 2차원 배열"
   ]
  },
  {
   "cell_type": "code",
   "execution_count": null,
   "id": "59d6b9b1",
   "metadata": {},
   "outputs": [],
   "source": [
    "a = np.eye(3)\n",
    "print(a)"
   ]
  },
  {
   "cell_type": "markdown",
   "id": "28020469",
   "metadata": {},
   "source": [
    "* random() : 임의의 값으로 값을 삽입"
   ]
  },
  {
   "cell_type": "code",
   "execution_count": null,
   "id": "a2f8480b",
   "metadata": {},
   "outputs": [],
   "source": [
    "a = np.random.random((2,2))\n",
    "print(a)"
   ]
  },
  {
   "cell_type": "markdown",
   "id": "81a254ca",
   "metadata": {},
   "source": [
    "### np.arange()\n",
    "지정해준 범위에 대해서 배열을 생성\n",
    "* numpy.arange(start, stop, step, dtype)\n",
    "* a = np.arange(n) # 0 .... n-1까지의 범위 지정\n",
    "* a = np.arange(i, j, k) # i부터 j-1까지 k씩 증가하는 배열"
   ]
  },
  {
   "cell_type": "code",
   "execution_count": null,
   "id": "1abf2690",
   "metadata": {},
   "outputs": [],
   "source": [
    "a = np.arange(10) # 0~9까지\n",
    "print(a)"
   ]
  },
  {
   "cell_type": "code",
   "execution_count": null,
   "id": "5b127976",
   "metadata": {},
   "outputs": [],
   "source": [
    "a = np.arange(1, 10, 2) # 1부터 9까지 +2씩 적용되는 범위\n",
    "print(a)"
   ]
  },
  {
   "cell_type": "markdown",
   "id": "57548336",
   "metadata": {},
   "source": [
    "### reshape()\n",
    "기존의 배열을 다차원으로 변형"
   ]
  },
  {
   "cell_type": "code",
   "execution_count": null,
   "id": "e2a64324",
   "metadata": {},
   "outputs": [],
   "source": [
    "a = np.array(np.arange(30)).reshape((5,6)) # 0부터 29까지의 1차원 배열을 만들고 다시 5x6의 2차원 배열로 변형\n",
    "print(a)"
   ]
  },
  {
   "cell_type": "markdown",
   "id": "e3b4e4db",
   "metadata": {},
   "source": [
    "### Numpy 슬라이싱"
   ]
  },
  {
   "cell_type": "code",
   "execution_count": null,
   "id": "d7a38744",
   "metadata": {},
   "outputs": [],
   "source": [
    "a = np.array([[1,2,3],[4,5,6]])\n",
    "b = a[0:2, 0:2]\n",
    "print(b)"
   ]
  },
  {
   "cell_type": "code",
   "execution_count": null,
   "id": "ec016bf8",
   "metadata": {},
   "outputs": [],
   "source": [
    "b=a[0, :] # 첫번째 행 출력\n",
    "print(b)"
   ]
  },
  {
   "cell_type": "code",
   "execution_count": null,
   "id": "bc23f7cf",
   "metadata": {},
   "outputs": [],
   "source": [
    "b=a[:, 1] # 두번째 열 출력\n",
    "print(b)"
   ]
  },
  {
   "cell_type": "markdown",
   "id": "c25c9c22",
   "metadata": {},
   "source": [
    "### Numpy 정수 인덱싱\n",
    "원본 배열로부터 부분 배열을 구함"
   ]
  },
  {
   "cell_type": "code",
   "execution_count": null,
   "id": "8fd34c62",
   "metadata": {},
   "outputs": [],
   "source": [
    "a = np.array([[1,2],[4,5],[7,8]])\n",
    "print(a)"
   ]
  },
  {
   "cell_type": "code",
   "execution_count": null,
   "id": "764f2ec4",
   "metadata": {},
   "outputs": [],
   "source": [
    "b = a[[2,1],[1,0]] # a[[row2, row1],[col1,col0]]을 의미\n",
    "print(b)"
   ]
  },
  {
   "cell_type": "markdown",
   "id": "f9a10b35",
   "metadata": {},
   "source": [
    "### Numpy 연산\n",
    "Numpy를 사용하면 배열간 연산을 쉽게 수행\n",
    "* +, -, *, /의 연산자를 사용\n",
    "* add(), subtract(), multiply(), divide() 함수를 사용"
   ]
  },
  {
   "cell_type": "code",
   "execution_count": null,
   "id": "36b5b852",
   "metadata": {},
   "outputs": [],
   "source": [
    "x = np.array([1,2,3])\n",
    "y = np.array([4,5,6])"
   ]
  },
  {
   "cell_type": "code",
   "execution_count": null,
   "id": "5b510711",
   "metadata": {},
   "outputs": [],
   "source": [
    "b = x + y\n",
    "print(b)"
   ]
  },
  {
   "cell_type": "code",
   "execution_count": null,
   "id": "e838f0a5",
   "metadata": {},
   "outputs": [],
   "source": [
    "b = x - y\n",
    "print(b)"
   ]
  },
  {
   "cell_type": "code",
   "execution_count": null,
   "id": "ae3d6784",
   "metadata": {},
   "outputs": [],
   "source": [
    "b = b * x\n",
    "print(b)"
   ]
  },
  {
   "cell_type": "code",
   "execution_count": null,
   "id": "14ee5a1d",
   "metadata": {},
   "outputs": [],
   "source": [
    "b = b / x\n",
    "print(b)"
   ]
  },
  {
   "cell_type": "markdown",
   "id": "4a4c2107",
   "metadata": {},
   "source": [
    "벡터와 행렬의 곱 또는 행렬곱을 위해서 dot() 함수를 사용"
   ]
  },
  {
   "cell_type": "code",
   "execution_count": null,
   "id": "8dcd49ef",
   "metadata": {},
   "outputs": [],
   "source": [
    "a = np.array([[1,2],[3,4]])\n",
    "b = np.array([[5,6],[7,8]])\n",
    "\n",
    "c = np.dot(a, b)\n",
    "print(c)"
   ]
  },
  {
   "cell_type": "markdown",
   "id": "15c62206",
   "metadata": {},
   "source": [
    "# 맷플롯립(Matplotlib)\n",
    "데이터를 차트(chart)나 플롯(plot)으로 시각화(visulaization)하는 패키지"
   ]
  },
  {
   "cell_type": "markdown",
   "id": "5db15542",
   "metadata": {},
   "source": [
    "## 맷플롯립 설치 밎 확인\n",
    "``` > pip install matplotlib ```"
   ]
  },
  {
   "cell_type": "code",
   "execution_count": null,
   "id": "ed52a6a5",
   "metadata": {},
   "outputs": [],
   "source": [
    "import matplotlib as mpl\n",
    "mpl.__version__"
   ]
  },
  {
   "cell_type": "markdown",
   "id": "46dcd544",
   "metadata": {},
   "source": [
    "### pyplot\n",
    "pyplot은 Matplotlib의 주요 모듈로 임포트할 때는 주로 plt라는 이름을 사용. \n",
    "\n",
    "실습을 위해서 주피터 노트북에 그림을 표시하도록 지정하는 %matplotlib inline를 우선 수행"
   ]
  },
  {
   "cell_type": "code",
   "execution_count": null,
   "id": "414ed6a1",
   "metadata": {},
   "outputs": [],
   "source": [
    "%matplotlib inline\n",
    "import matplotlib.pyplot as plt"
   ]
  },
  {
   "cell_type": "markdown",
   "id": "e564c975",
   "metadata": {},
   "source": [
    "### 라인 플롯 그리기\n",
    "plot()은 라인 플롯을 그리는 함수."
   ]
  },
  {
   "cell_type": "code",
   "execution_count": null,
   "id": "c2b9fd8b",
   "metadata": {},
   "outputs": [],
   "source": [
    "plt.title('test') # 그래프의 제목 지정\n",
    "plt.plot([1,5,10,15],[2,3.5,7,5]) # X축과 Y축의 값을 기재\n",
    "plt.show()"
   ]
  },
  {
   "cell_type": "markdown",
   "id": "99a48544",
   "metadata": {},
   "source": [
    "### 축 레이블 삽입\n",
    "* xlabel('x 축이름')\n",
    "* ylabel('y 축이름')"
   ]
  },
  {
   "cell_type": "code",
   "execution_count": null,
   "id": "a1a2183c",
   "metadata": {},
   "outputs": [],
   "source": [
    "plt.title('test')\n",
    "plt.plot([1,5,10,15],[2,3.5,7,5])\n",
    "plt.xlabel('hours')\n",
    "plt.ylabel('score')\n",
    "plt.show()"
   ]
  },
  {
   "cell_type": "markdown",
   "id": "07e1bdff",
   "metadata": {},
   "source": [
    "### 라인 추가와 범례 삽입하기\n",
    "여러개의 plot()을 사용하여 하나의 그래프에 나타낼 수 있음. 여러개의 라인 플롯을 동시에 사용할 경우에는 각 선이 어떤 데이터를 나타내는지를 보여주기 위해 범례(legend)를 사용해야 함"
   ]
  },
  {
   "cell_type": "code",
   "execution_count": null,
   "id": "f9f71a07",
   "metadata": {},
   "outputs": [],
   "source": [
    "plt.title('students')\n",
    "plt.plot([1,2,3,4],[5,4,8,15]) # 1번째 라인\n",
    "plt.plot([1, 2, 3, 4],[3,5,8,10]) # 2번째 라인\n",
    "plt.xlabel('hours')\n",
    "plt.ylabel('score')\n",
    "plt.legend(['A student', 'B student']) # 범례 삽입\n",
    "plt.show()"
   ]
  },
  {
   "cell_type": "markdown",
   "id": "8a6e63cf",
   "metadata": {},
   "source": [
    "# 판다스 프로파일링(Pandas-Profiling)\n",
    "좋은 머신 러닝 결과를 얻기 위해서는 데이터의 성격을 파악하는 과정이 선행되어야 함. 이 과정에서 데이터 내 값의 분포, 변수 간의 관계, Null 값과 같은 결측값(missing values) 존재 유무 등을 파악. 이와 같이 데이터를 파악하는 과정을 <b>EDA(Exploratory Data Analysis, 탐색적 데이터 분석)</b>이라고 함.\n",
    "\n",
    "판다스 프로파일링은 방대한 양의 데이터를 가진 데이터프레임을 탐색하는 패키지\n",
    "\n",
    "``` > pip install -U pandas-profiling ```\n",
    "\n",
    "실습파일 다운로드 링크 : <https://www.kaggle.com/uciml/sms-spam-collection-dataset>"
   ]
  },
  {
   "cell_type": "code",
   "execution_count": null,
   "id": "b06477c5",
   "metadata": {},
   "outputs": [],
   "source": [
    "import pandas as pd\n",
    "import pandas_profiling\n",
    "data = pd.read_csv(r'C:\\Users\\User\\NLP\\spam.csv',encoding='latin1')\n",
    "\n",
    "data[:5]"
   ]
  },
  {
   "cell_type": "markdown",
   "id": "43db6c7e",
   "metadata": {},
   "source": [
    "### 리포트 생성하기\n",
    "데이터를 프로파일링한 리포트를 생성해서 저장 할 수 있습니다."
   ]
  },
  {
   "cell_type": "code",
   "execution_count": null,
   "id": "52041650",
   "metadata": {},
   "outputs": [],
   "source": [
    "data.profile_report() # 생성해서 바로 확인"
   ]
  },
  {
   "cell_type": "code",
   "execution_count": null,
   "id": "0657491a",
   "metadata": {},
   "outputs": [],
   "source": [
    "pr = data.profile_report()\n",
    "pr.to_file('./pr_report.html') # html 파일로 저장"
   ]
  },
  {
   "attachments": {
    "%EB%A8%B8%EC%8B%A0_%EB%9F%AC%EB%8B%9D_%EC%9B%8C%ED%81%AC%ED%94%8C%EB%A1%9C%EC%9A%B0.png": {
     "image/png": "[encoded data removed]"
    }
   },
   "cell_type": "markdown",
   "id": "3eabad71",
   "metadata": {},
   "source": [
    "# 머신 러닝 워크플로우\n",
    "데이터를 수집하고 머신 러닝을 하는 과정을 크게 6가지로 나누면, 아래의 그림과 같음\n",
    "![%EB%A8%B8%EC%8B%A0_%EB%9F%AC%EB%8B%9D_%EC%9B%8C%ED%81%AC%ED%94%8C%EB%A1%9C%EC%9A%B0.png](attachment:%EB%A8%B8%EC%8B%A0_%EB%9F%AC%EB%8B%9D_%EC%9B%8C%ED%81%AC%ED%94%8C%EB%A1%9C%EC%9A%B0.png)\n",
    "\n",
    "## 수집(Acquisition)\n",
    "머신 러닝을 하기 위해서는 기계에 학습시켜야 할 데이터가 필요합니다. 자연어 처리의 경우, 자연어 데이터를 <b>말뭉치 또는 코퍼스(corpus)</b>라고 부르는데 코퍼스의 의미를 풀이하면, 조사나 연구 목적에 의해서 특정 도메인으로부터 수집된 텍스트 집합을 말함\n",
    "\n",
    "코퍼스. 즉, 텍스트 데이터의 파일 형식은 txt 파일, csv 파일, xml 파일 등 다양하며 그 출처도 음성 데이터, 웹 수집기를 통해 수집된 데이터, 영화 리뷰 등 다양함\n",
    "\n",
    "## 점검 및 탐색(Inspection and exploration)\n",
    "여기서는 데이터의 구조, 노이즈 데이터, 머신 러닝 적용을 위해서 데이터를 어떻게 정제해야하는지 등을 파악해야 합니다.\n",
    "\n",
    "이 단계를 <b>탐색적 데이터 분석(Exploratory Data Analysis, EDA)</b> 단계라고도 하는데 이는 독립 변수, 종속 변수, 변수 유형, 변수의 데이터 타입 등을 점검하며 데이터의 특징과 내재하는 구조적 관계를 알아내는 과정을 의미\n",
    "\n",
    "## 전처리 및 정제(Preprocessing and Cleaning)\n",
    "이 단계는 많은 단계를 포함하고 있는데, 가령 자연어 처리라면 토큰화, 정제, 정규화, 불용어 제거 등의 단계를 포함.\n",
    "\n",
    "## 모델링 및 훈련(Modeling and Training)\n",
    "데이터 전처리가 끝났다면, 머신 러닝에 대한 코드를 작성하는 단계인 모델링 단계에 들어갑니다. 적절한 머신 러닝 알고리즘을 선택하여 모델링이 끝났다면, 전처리가 완료 된 데이터를 머신 러닝 알고리즘을 통해 기계에게 학습(training)시킵니다. 이를 훈련이라고도 하는데, 이 두 용어를 혼용해서 사용합니다. \n",
    "\n",
    "## 평가(Evaluation)\n",
    "기계가 다 학습이 되었다면 테스트용 데이터로 성능을 평가. 평가 방법은 기계가 예측한 데이터가 테스트용 데이터의 실제 정답과 얼마나 가까운지를 측정\n",
    "\n",
    "## 배포(Deployment)\n",
    "평가 단계에서 기계가 성공적으로 훈련이 된 것으로 판단된다면, 완성된 모델이 배포되는 단계가 됩니다. "
   ]
  }
 ],
 "metadata": {
  "kernelspec": {
   "display_name": "Python 3",
   "language": "python",
   "name": "python3"
  },
  "language_info": {
   "codemirror_mode": {
    "name": "ipython",
    "version": 3
   },
   "file_extension": ".py",
   "mimetype": "text/x-python",
   "name": "python",
   "nbconvert_exporter": "python",
   "pygments_lexer": "ipython3",
   "version": "3.8.8"
  }
 },
 "nbformat": 4,
 "nbformat_minor": 5
}
