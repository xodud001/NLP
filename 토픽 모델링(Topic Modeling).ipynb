{
 "cells": [
  {
   "attachments": {
    "image.png": {
     "image/png": "[encoded data removed]"
    }
   },
   "cell_type": "markdown",
   "id": "964cc6a6",
   "metadata": {},
   "source": [
    "# 토픽 모델링(Topic Modeling)\n",
    "토픽 모델링(Topic Modeling)이란 기계 학습 및 자연어 처리 분야에서 토픽이라는 문서 집합의 추상적인 주제를 발견하기 위한 통계적 모델 중 하나\n",
    "\n",
    "텍스트 본문의 숨겨진 의미 구조를 발견하기 위해 사용되는 텍스트 마이닝 기법\n",
    "\n",
    "# 잠재 의미 분석(Latent Semantic Analysis, LSA)\n",
    "BoW에 기반한 DTM이나 TF-IDF는 기본적으로 단어의 빈도 수를 이용한 수치화 방법이기 때문에 단어의 의미를 고려하지 못한다는 단점이 있음\n",
    "\n",
    "이를 위한 대안으로 DTM의 잠재된(Latent) 의미를 이끌어내는 방법으로 잠재 의미 분석(Latent Semantic Analysis, LSA)이라는 방법이 있음\n",
    "\n",
    "LSA는 기본적으로 DTM이나 TF-IDF 행렬에 절단된 SVD(truncated SVD)를 사용하여 차원을 축소시키고, 단어들의 잠재적인 의미를 끌어낸다는 아이디어를 갖고 있음\n",
    "\n",
    "실습을 통해서 이해\n",
    "![image.png](attachment:image.png)\n",
    "\n",
    "위와 같은 DTM을 실제로 파이썬을 통해서 만들면 아래와 같음"
   ]
  },
  {
   "cell_type": "code",
   "execution_count": 2,
   "id": "534faefd",
   "metadata": {},
   "outputs": [
    {
     "name": "stderr",
     "output_type": "stream",
     "text": [
      "C:\\Users\\User\\anaconda3\\lib\\site-packages\\ipykernel\\ipkernel.py:287: DeprecationWarning: `should_run_async` will not call `transform_cell` automatically in the future. Please pass the result to `transformed_cell` argument and any exception that happen during thetransform in `preprocessing_exc_tuple` in IPython 7.17 and above.\n",
      "  and should_run_async(code)\n"
     ]
    },
    {
     "data": {
      "text/plain": [
       "(4, 9)"
      ]
     },
     "execution_count": 2,
     "metadata": {},
     "output_type": "execute_result"
    }
   ],
   "source": [
    "import numpy as np\n",
    "A=np.array([[0,0,0,1,0,1,1,0,0],[0,0,0,1,1,0,1,0,0],[0,1,1,0,2,0,0,0,0],[1,0,0,0,0,0,0,1,1]])\n",
    "np.shape(A)"
   ]
  },
  {
   "cell_type": "markdown",
   "id": "9fef9d0f",
   "metadata": {},
   "source": [
    "4 × 9의 크기를 가지는 DTM이 생성<br/>\n",
    "이에 대해서 풀 SVD(full SVD)를 수행"
   ]
  },
  {
   "cell_type": "code",
   "execution_count": 3,
   "id": "fca14488",
   "metadata": {},
   "outputs": [
    {
     "name": "stderr",
     "output_type": "stream",
     "text": [
      "C:\\Users\\User\\anaconda3\\lib\\site-packages\\ipykernel\\ipkernel.py:287: DeprecationWarning: `should_run_async` will not call `transform_cell` automatically in the future. Please pass the result to `transformed_cell` argument and any exception that happen during thetransform in `preprocessing_exc_tuple` in IPython 7.17 and above.\n",
      "  and should_run_async(code)\n"
     ]
    }
   ],
   "source": [
    "U, s, VT = np.linalg.svd(A, full_matrices = True)"
   ]
  },
  {
   "cell_type": "code",
   "execution_count": 4,
   "id": "c801cd60",
   "metadata": {},
   "outputs": [
    {
     "name": "stdout",
     "output_type": "stream",
     "text": [
      "[[-0.24  0.75  0.   -0.62]\n",
      " [-0.51  0.44 -0.    0.74]\n",
      " [-0.83 -0.49 -0.   -0.27]\n",
      " [-0.   -0.    1.    0.  ]]\n"
     ]
    },
    {
     "name": "stderr",
     "output_type": "stream",
     "text": [
      "C:\\Users\\User\\anaconda3\\lib\\site-packages\\ipykernel\\ipkernel.py:287: DeprecationWarning: `should_run_async` will not call `transform_cell` automatically in the future. Please pass the result to `transformed_cell` argument and any exception that happen during thetransform in `preprocessing_exc_tuple` in IPython 7.17 and above.\n",
      "  and should_run_async(code)\n"
     ]
    },
    {
     "data": {
      "text/plain": [
       "(4, 4)"
      ]
     },
     "execution_count": 4,
     "metadata": {},
     "output_type": "execute_result"
    }
   ],
   "source": [
    "print(U.round(2))\n",
    "np.shape(U)"
   ]
  },
  {
   "cell_type": "markdown",
   "id": "18967044",
   "metadata": {},
   "source": [
    "4 × 4의 크기를 가지는 직교 행렬 U가 생성됨. 이제 대각 행렬 S를 확인"
   ]
  },
  {
   "cell_type": "code",
   "execution_count": 5,
   "id": "6c9d022a",
   "metadata": {},
   "outputs": [
    {
     "name": "stdout",
     "output_type": "stream",
     "text": [
      "[2.69 2.05 1.73 0.77]\n"
     ]
    },
    {
     "name": "stderr",
     "output_type": "stream",
     "text": [
      "C:\\Users\\User\\anaconda3\\lib\\site-packages\\ipykernel\\ipkernel.py:287: DeprecationWarning: `should_run_async` will not call `transform_cell` automatically in the future. Please pass the result to `transformed_cell` argument and any exception that happen during thetransform in `preprocessing_exc_tuple` in IPython 7.17 and above.\n",
      "  and should_run_async(code)\n"
     ]
    },
    {
     "data": {
      "text/plain": [
       "(4,)"
      ]
     },
     "execution_count": 5,
     "metadata": {},
     "output_type": "execute_result"
    }
   ],
   "source": [
    "print(s.round(2))\n",
    "np.shape(s)"
   ]
  },
  {
   "cell_type": "markdown",
   "id": "909e525a",
   "metadata": {},
   "source": [
    "Numpy의 linalg.svd()는 특이값 분해의 결과로 대각 행렬이 아니라 특이값의 리스트를 반환.\n",
    "그러므로 앞서 본 수식의 형식으로 보려면 이를 다시 대각 행렬로 바꾸어 주어야 함"
   ]
  },
  {
   "cell_type": "code",
   "execution_count": 6,
   "id": "2b679b4b",
   "metadata": {},
   "outputs": [
    {
     "name": "stdout",
     "output_type": "stream",
     "text": [
      "[[2.69 0.   0.   0.   0.   0.   0.   0.   0.  ]\n",
      " [0.   2.05 0.   0.   0.   0.   0.   0.   0.  ]\n",
      " [0.   0.   1.73 0.   0.   0.   0.   0.   0.  ]\n",
      " [0.   0.   0.   0.77 0.   0.   0.   0.   0.  ]]\n"
     ]
    },
    {
     "name": "stderr",
     "output_type": "stream",
     "text": [
      "C:\\Users\\User\\anaconda3\\lib\\site-packages\\ipykernel\\ipkernel.py:287: DeprecationWarning: `should_run_async` will not call `transform_cell` automatically in the future. Please pass the result to `transformed_cell` argument and any exception that happen during thetransform in `preprocessing_exc_tuple` in IPython 7.17 and above.\n",
      "  and should_run_async(code)\n"
     ]
    },
    {
     "data": {
      "text/plain": [
       "(4, 9)"
      ]
     },
     "execution_count": 6,
     "metadata": {},
     "output_type": "execute_result"
    }
   ],
   "source": [
    "S = np.zeros((4, 9)) # 대각 행렬의 크기인 4 x 9의 임의의 행렬 생성\n",
    "S[:4, :4] = np.diag(s) # 특이값을 대각행렬에 삽입\n",
    "print(S.round(2))\n",
    "np.shape(S)"
   ]
  },
  {
   "cell_type": "markdown",
   "id": "1ddf6f36",
   "metadata": {},
   "source": [
    "4 × 9의 크기를 가지는 대각 행렬 S가 생성되었음. 2.69 > 2.05 > 1.73 > 0.77 순으로 값이 내림차순을 보이는 것을 확인"
   ]
  },
  {
   "cell_type": "code",
   "execution_count": 7,
   "id": "737dbb23",
   "metadata": {},
   "outputs": [
    {
     "name": "stdout",
     "output_type": "stream",
     "text": [
      "[[-0.   -0.31 -0.31 -0.28 -0.8  -0.09 -0.28 -0.   -0.  ]\n",
      " [ 0.   -0.24 -0.24  0.58 -0.26  0.37  0.58 -0.   -0.  ]\n",
      " [ 0.58 -0.    0.    0.   -0.    0.   -0.    0.58  0.58]\n",
      " [ 0.   -0.35 -0.35  0.16  0.25 -0.8   0.16 -0.   -0.  ]\n",
      " [-0.   -0.78 -0.01 -0.2   0.4   0.4  -0.2   0.    0.  ]\n",
      " [-0.29  0.31 -0.78 -0.24  0.23  0.23  0.01  0.14  0.14]\n",
      " [-0.29 -0.1   0.26 -0.59 -0.08 -0.08  0.66  0.14  0.14]\n",
      " [-0.5  -0.06  0.15  0.24 -0.05 -0.05 -0.19  0.75 -0.25]\n",
      " [-0.5  -0.06  0.15  0.24 -0.05 -0.05 -0.19 -0.25  0.75]]\n"
     ]
    },
    {
     "name": "stderr",
     "output_type": "stream",
     "text": [
      "C:\\Users\\User\\anaconda3\\lib\\site-packages\\ipykernel\\ipkernel.py:287: DeprecationWarning: `should_run_async` will not call `transform_cell` automatically in the future. Please pass the result to `transformed_cell` argument and any exception that happen during thetransform in `preprocessing_exc_tuple` in IPython 7.17 and above.\n",
      "  and should_run_async(code)\n"
     ]
    },
    {
     "data": {
      "text/plain": [
       "(9, 9)"
      ]
     },
     "execution_count": 7,
     "metadata": {},
     "output_type": "execute_result"
    }
   ],
   "source": [
    "print(VT.round(2))\n",
    "np.shape(VT)"
   ]
  },
  {
   "cell_type": "markdown",
   "id": "e9966138",
   "metadata": {},
   "source": [
    "9 × 9의 크기를 가지는 직교 행렬 VT(V의 전치 행렬)가 생성되었습니다. 즉, U × S × VT를 하면 기존의 행렬 A가 나와야 함.\n",
    "\n",
    "Numpy의 allclose()는 2개의 행렬이 동일하면 True를 리턴. Numpy의 allclose()는 2개의 행렬이 동일하면 True를 리턴"
   ]
  },
  {
   "cell_type": "code",
   "execution_count": 8,
   "id": "eb9ab0f2",
   "metadata": {},
   "outputs": [
    {
     "name": "stderr",
     "output_type": "stream",
     "text": [
      "C:\\Users\\User\\anaconda3\\lib\\site-packages\\ipykernel\\ipkernel.py:287: DeprecationWarning: `should_run_async` will not call `transform_cell` automatically in the future. Please pass the result to `transformed_cell` argument and any exception that happen during thetransform in `preprocessing_exc_tuple` in IPython 7.17 and above.\n",
      "  and should_run_async(code)\n"
     ]
    },
    {
     "data": {
      "text/plain": [
       "True"
      ]
     },
     "execution_count": 8,
     "metadata": {},
     "output_type": "execute_result"
    }
   ],
   "source": [
    "np.allclose(A, np.dot(np.dot(U,S), VT).round(2))"
   ]
  },
  {
   "cell_type": "markdown",
   "id": "2c22dd3b",
   "metadata": {},
   "source": [
    "지금까지 수행한 것은 풀 SVD(Full SVD). 이제 t를 정하고, 절단된 SVD(Truncated SVD)를 수행.\n",
    "\n",
    "여기서는 t=2로 지정."
   ]
  },
  {
   "cell_type": "code",
   "execution_count": 9,
   "id": "3d3858cd",
   "metadata": {},
   "outputs": [
    {
     "name": "stdout",
     "output_type": "stream",
     "text": [
      "[[2.69 0.  ]\n",
      " [0.   2.05]]\n"
     ]
    },
    {
     "name": "stderr",
     "output_type": "stream",
     "text": [
      "C:\\Users\\User\\anaconda3\\lib\\site-packages\\ipykernel\\ipkernel.py:287: DeprecationWarning: `should_run_async` will not call `transform_cell` automatically in the future. Please pass the result to `transformed_cell` argument and any exception that happen during thetransform in `preprocessing_exc_tuple` in IPython 7.17 and above.\n",
      "  and should_run_async(code)\n"
     ]
    }
   ],
   "source": [
    "S=S[:2,:2]\n",
    "print(S.round(2))"
   ]
  },
  {
   "cell_type": "markdown",
   "id": "b8507670",
   "metadata": {},
   "source": [
    "상위 2개의 값만 남기고 나머지는 모두 제거된 것을 볼 수 있음. 이제 직교 행렬 U에 대해서도 2개의 열만 남기고 제거"
   ]
  },
  {
   "cell_type": "code",
   "execution_count": 10,
   "id": "0a731364",
   "metadata": {},
   "outputs": [
    {
     "name": "stdout",
     "output_type": "stream",
     "text": [
      "[[-0.24  0.75]\n",
      " [-0.51  0.44]\n",
      " [-0.83 -0.49]\n",
      " [-0.   -0.  ]]\n"
     ]
    },
    {
     "name": "stderr",
     "output_type": "stream",
     "text": [
      "C:\\Users\\User\\anaconda3\\lib\\site-packages\\ipykernel\\ipkernel.py:287: DeprecationWarning: `should_run_async` will not call `transform_cell` automatically in the future. Please pass the result to `transformed_cell` argument and any exception that happen during thetransform in `preprocessing_exc_tuple` in IPython 7.17 and above.\n",
      "  and should_run_async(code)\n"
     ]
    }
   ],
   "source": [
    "U=U[:,:2]\n",
    "print(U.round(2))"
   ]
  },
  {
   "cell_type": "markdown",
   "id": "b750def4",
   "metadata": {},
   "source": [
    "2개의 열만 남기고 모두 제거된 것을 확인. 이제 행렬 V의 전치 행렬인 VT에 대해서 2개의 행만 남기고 제거. "
   ]
  },
  {
   "cell_type": "code",
   "execution_count": 11,
   "id": "5245ea31",
   "metadata": {},
   "outputs": [
    {
     "name": "stdout",
     "output_type": "stream",
     "text": [
      "[[-0.   -0.31 -0.31 -0.28 -0.8  -0.09 -0.28 -0.   -0.  ]\n",
      " [ 0.   -0.24 -0.24  0.58 -0.26  0.37  0.58 -0.   -0.  ]]\n"
     ]
    },
    {
     "name": "stderr",
     "output_type": "stream",
     "text": [
      "C:\\Users\\User\\anaconda3\\lib\\site-packages\\ipykernel\\ipkernel.py:287: DeprecationWarning: `should_run_async` will not call `transform_cell` automatically in the future. Please pass the result to `transformed_cell` argument and any exception that happen during thetransform in `preprocessing_exc_tuple` in IPython 7.17 and above.\n",
      "  and should_run_async(code)\n"
     ]
    }
   ],
   "source": [
    "VT=VT[:2,:]\n",
    "print(VT.round(2))"
   ]
  },
  {
   "cell_type": "markdown",
   "id": "58fc5bea",
   "metadata": {},
   "source": [
    "이제 축소된 행렬 U, S, VT에 대해서 다시 U × S × VT연산을 하면 기존의 A와는 다른 결과가 나오게 됨.\n",
    "\n",
    "값이 손실되었기 때문에 이 세 개의 행렬로는 이제 기존의 A행렬을 복구할 수 없습니다. U × S × VT연산을 해서 나오는 값을 A_prime이라 하고 기존의 행렬 A와 값을 비교"
   ]
  },
  {
   "cell_type": "code",
   "execution_count": 12,
   "id": "86b21216",
   "metadata": {},
   "outputs": [
    {
     "name": "stdout",
     "output_type": "stream",
     "text": [
      "[[0 0 0 1 0 1 1 0 0]\n",
      " [0 0 0 1 1 0 1 0 0]\n",
      " [0 1 1 0 2 0 0 0 0]\n",
      " [1 0 0 0 0 0 0 1 1]]\n",
      "[[ 0.   -0.17 -0.17  1.08  0.12  0.62  1.08 -0.   -0.  ]\n",
      " [ 0.    0.2   0.2   0.91  0.86  0.45  0.91  0.    0.  ]\n",
      " [ 0.    0.93  0.93  0.03  2.05 -0.17  0.03  0.    0.  ]\n",
      " [ 0.    0.    0.    0.    0.    0.    0.    0.    0.  ]]\n"
     ]
    },
    {
     "name": "stderr",
     "output_type": "stream",
     "text": [
      "C:\\Users\\User\\anaconda3\\lib\\site-packages\\ipykernel\\ipkernel.py:287: DeprecationWarning: `should_run_async` will not call `transform_cell` automatically in the future. Please pass the result to `transformed_cell` argument and any exception that happen during thetransform in `preprocessing_exc_tuple` in IPython 7.17 and above.\n",
      "  and should_run_async(code)\n"
     ]
    }
   ],
   "source": [
    "A_prime=np.dot(np.dot(U,S), VT)\n",
    "print(A)\n",
    "print(A_prime.round(2))"
   ]
  },
  {
   "cell_type": "markdown",
   "id": "0ff77f36",
   "metadata": {},
   "source": [
    "대체적으로 기존에 0인 값들은 0에 가가운 값이 나오고, 1인 값들은 1에 가까운 값이 나오는 것을 확인\n",
    "\n",
    "## 실습을 통한 이해\n",
    "사이킷런에서는 Twenty Newsgroups이라고 불리는 20개의 다른 주제를 가진 뉴스그룹 데이터를 제공\n",
    "\n",
    "여기서는 LSA를 사용해서 문서의 수를 원하는 토픽의 수로 압축한 뒤에 각 토픽당 가장 중요한 단어 5개를 출력하는 실습으로 토픽 모델링을 수행\n",
    "\n",
    "### 뉴스그룹 데이터에 대한 이해"
   ]
  },
  {
   "cell_type": "code",
   "execution_count": 13,
   "id": "faaa24eb",
   "metadata": {},
   "outputs": [
    {
     "name": "stderr",
     "output_type": "stream",
     "text": [
      "C:\\Users\\User\\anaconda3\\lib\\site-packages\\ipykernel\\ipkernel.py:287: DeprecationWarning: `should_run_async` will not call `transform_cell` automatically in the future. Please pass the result to `transformed_cell` argument and any exception that happen during thetransform in `preprocessing_exc_tuple` in IPython 7.17 and above.\n",
      "  and should_run_async(code)\n"
     ]
    },
    {
     "data": {
      "text/plain": [
       "11314"
      ]
     },
     "execution_count": 13,
     "metadata": {},
     "output_type": "execute_result"
    }
   ],
   "source": [
    "import pandas as pd\n",
    "from sklearn.datasets import fetch_20newsgroups\n",
    "dataset = fetch_20newsgroups(shuffle=True, random_state=1, remove=('headers', 'footers', 'quotes'))\n",
    "documents = dataset.data\n",
    "len(documents)"
   ]
  },
  {
   "cell_type": "markdown",
   "id": "e20ceddf",
   "metadata": {},
   "source": [
    "훈련에 사용할 뉴스그룹 데이터는 총 11,314개입니다. 이 중 첫번째 훈련용 샘플을 출력"
   ]
  },
  {
   "cell_type": "code",
   "execution_count": 14,
   "id": "73556282",
   "metadata": {},
   "outputs": [
    {
     "name": "stderr",
     "output_type": "stream",
     "text": [
      "C:\\Users\\User\\anaconda3\\lib\\site-packages\\ipykernel\\ipkernel.py:287: DeprecationWarning: `should_run_async` will not call `transform_cell` automatically in the future. Please pass the result to `transformed_cell` argument and any exception that happen during thetransform in `preprocessing_exc_tuple` in IPython 7.17 and above.\n",
      "  and should_run_async(code)\n"
     ]
    },
    {
     "data": {
      "text/plain": [
       "\"\\n\\n\\n\\n\\n\\n\\nYeah, do you expect people to read the FAQ, etc. and actually accept hard\\natheism?  No, you need a little leap of faith, Jimmy.  Your logic runs out\\nof steam!\\n\\n\\n\\n\\n\\n\\n\\nJim,\\n\\nSorry I can't pity you, Jim.  And I'm sorry that you have these feelings of\\ndenial about the faith you need to get by.  Oh well, just pretend that it will\\nall end happily ever after anyway.  Maybe if you start a new newsgroup,\\nalt.atheist.hard, you won't be bummin' so much?\\n\\n\\n\\n\\n\\n\\nBye-Bye, Big Jim.  Don't forget your Flintstone's Chewables!  :) \\n--\\nBake Timmons, III\""
      ]
     },
     "execution_count": 14,
     "metadata": {},
     "output_type": "execute_result"
    }
   ],
   "source": [
    "documents[1]"
   ]
  },
  {
   "cell_type": "markdown",
   "id": "c4943da0",
   "metadata": {},
   "source": [
    "뉴스그룹 데이터에는 특수문자가 포함된 다수의 영어문장으로 구성되어져 있음. 이런 형식의 샘플이 총 11,314개 존재합니다. 사이킷런이 제공하는 뉴스그룹 데이터에서 target_name에는 본래 이 뉴스그룹 데이터가 어떤 20개의 카테고리를 갖고있었는지가 저장되어져 있습니다. 이를 출력"
   ]
  },
  {
   "cell_type": "code",
   "execution_count": 15,
   "id": "7326a049",
   "metadata": {},
   "outputs": [
    {
     "name": "stdout",
     "output_type": "stream",
     "text": [
      "['alt.atheism', 'comp.graphics', 'comp.os.ms-windows.misc', 'comp.sys.ibm.pc.hardware', 'comp.sys.mac.hardware', 'comp.windows.x', 'misc.forsale', 'rec.autos', 'rec.motorcycles', 'rec.sport.baseball', 'rec.sport.hockey', 'sci.crypt', 'sci.electronics', 'sci.med', 'sci.space', 'soc.religion.christian', 'talk.politics.guns', 'talk.politics.mideast', 'talk.politics.misc', 'talk.religion.misc']\n"
     ]
    },
    {
     "name": "stderr",
     "output_type": "stream",
     "text": [
      "C:\\Users\\User\\anaconda3\\lib\\site-packages\\ipykernel\\ipkernel.py:287: DeprecationWarning: `should_run_async` will not call `transform_cell` automatically in the future. Please pass the result to `transformed_cell` argument and any exception that happen during thetransform in `preprocessing_exc_tuple` in IPython 7.17 and above.\n",
      "  and should_run_async(code)\n"
     ]
    }
   ],
   "source": [
    "print(dataset.target_names)"
   ]
  },
  {
   "cell_type": "markdown",
   "id": "c5847b36",
   "metadata": {},
   "source": [
    "## 텍스트 전처리\n",
    "작하기 앞서, 텍스트 데이터에 대해서 가능한한 정제 과정을 거쳐야만 함\n",
    "\n",
    "기본적인 아이디어는 알파벳을 제외한 구두점, 숫자, 특수 문자를 제거하는 것"
   ]
  },
  {
   "cell_type": "code",
   "execution_count": 16,
   "id": "7f1ac20a",
   "metadata": {},
   "outputs": [
    {
     "name": "stderr",
     "output_type": "stream",
     "text": [
      "C:\\Users\\User\\anaconda3\\lib\\site-packages\\ipykernel\\ipkernel.py:287: DeprecationWarning: `should_run_async` will not call `transform_cell` automatically in the future. Please pass the result to `transformed_cell` argument and any exception that happen during thetransform in `preprocessing_exc_tuple` in IPython 7.17 and above.\n",
      "  and should_run_async(code)\n",
      "<ipython-input-16-b4124dfb5e6a>:3: FutureWarning: The default value of regex will change from True to False in a future version.\n",
      "  news_df['clean_doc'] = news_df['document'].str.replace(\"[^a-zA-Z]\", \" \")\n"
     ]
    }
   ],
   "source": [
    "news_df = pd.DataFrame({'document':documents})\n",
    "# 특수 문자 제거\n",
    "news_df['clean_doc'] = news_df['document'].str.replace(\"[^a-zA-Z]\", \" \")\n",
    "# 길이가 3이하인 단어는 제거 (길이가 짧은 단어 제거)\n",
    "news_df['clean_doc'] = news_df['clean_doc'].apply(lambda x: ' '.join([w for w in x.split() if len(w)>3]))\n",
    "# 전체 단어에 대한 소문자 변환\n",
    "news_df['clean_doc'] = news_df['clean_doc'].apply(lambda x: x.lower())"
   ]
  },
  {
   "cell_type": "code",
   "execution_count": 17,
   "id": "54de97fd",
   "metadata": {},
   "outputs": [
    {
     "name": "stderr",
     "output_type": "stream",
     "text": [
      "C:\\Users\\User\\anaconda3\\lib\\site-packages\\ipykernel\\ipkernel.py:287: DeprecationWarning: `should_run_async` will not call `transform_cell` automatically in the future. Please pass the result to `transformed_cell` argument and any exception that happen during thetransform in `preprocessing_exc_tuple` in IPython 7.17 and above.\n",
      "  and should_run_async(code)\n"
     ]
    },
    {
     "data": {
      "text/plain": [
       "'yeah expect people read actually accept hard atheism need little leap faith jimmy your logic runs steam sorry pity sorry that have these feelings denial about faith need well just pretend that will happily ever after anyway maybe start newsgroup atheist hard bummin much forget your flintstone chewables bake timmons'"
      ]
     },
     "execution_count": 17,
     "metadata": {},
     "output_type": "execute_result"
    }
   ],
   "source": [
    "news_df['clean_doc'][1]"
   ]
  },
  {
   "cell_type": "markdown",
   "id": "09fc7dd8",
   "metadata": {},
   "source": [
    "불용어를 제거하기 위해서 토큰화를 우선 수행. 후에 불용어 제거"
   ]
  },
  {
   "cell_type": "code",
   "execution_count": 18,
   "id": "c85b43fa",
   "metadata": {},
   "outputs": [
    {
     "name": "stderr",
     "output_type": "stream",
     "text": [
      "C:\\Users\\User\\anaconda3\\lib\\site-packages\\ipykernel\\ipkernel.py:287: DeprecationWarning: `should_run_async` will not call `transform_cell` automatically in the future. Please pass the result to `transformed_cell` argument and any exception that happen during thetransform in `preprocessing_exc_tuple` in IPython 7.17 and above.\n",
      "  and should_run_async(code)\n"
     ]
    }
   ],
   "source": [
    "from nltk.corpus import stopwords\n",
    "stop_words = stopwords.words('english') # NLTK로부터 불용어를 받아옵니다.\n",
    "tokenized_doc = news_df['clean_doc'].apply(lambda x: x.split()) # 토큰화\n",
    "tokenized_doc = tokenized_doc.apply(lambda x: [item for item in x if item not in stop_words])\n",
    "# 불용어를 제거합니다."
   ]
  },
  {
   "cell_type": "code",
   "execution_count": 19,
   "id": "dea60f48",
   "metadata": {},
   "outputs": [
    {
     "name": "stdout",
     "output_type": "stream",
     "text": [
      "['yeah', 'expect', 'people', 'read', 'actually', 'accept', 'hard', 'atheism', 'need', 'little', 'leap', 'faith', 'jimmy', 'logic', 'runs', 'steam', 'sorry', 'pity', 'sorry', 'feelings', 'denial', 'faith', 'need', 'well', 'pretend', 'happily', 'ever', 'anyway', 'maybe', 'start', 'newsgroup', 'atheist', 'hard', 'bummin', 'much', 'forget', 'flintstone', 'chewables', 'bake', 'timmons']\n"
     ]
    },
    {
     "name": "stderr",
     "output_type": "stream",
     "text": [
      "C:\\Users\\User\\anaconda3\\lib\\site-packages\\ipykernel\\ipkernel.py:287: DeprecationWarning: `should_run_async` will not call `transform_cell` automatically in the future. Please pass the result to `transformed_cell` argument and any exception that happen during thetransform in `preprocessing_exc_tuple` in IPython 7.17 and above.\n",
      "  and should_run_async(code)\n"
     ]
    }
   ],
   "source": [
    "print(tokenized_doc[1])"
   ]
  },
  {
   "cell_type": "markdown",
   "id": "9eddd3e7",
   "metadata": {},
   "source": [
    "## TF-IDF 행렬 만들기\n",
    "불용어 제거를 위해 토큰화 작업을 수행하였지만, TfidfVectorizer(TF-IDF 챕터 참고)는 기본적으로 토큰화가 되어있지 않은 텍스트 데이터를 입력으로 사용.\n",
    "\n",
    "그렇기 때문에 TfidfVectorizer를 사용해서 TF-IDF 행렬을 만들기 위해서 다시 토큰화 작업을 역으로 취소하는 작업을 수행. 이를 역토큰화라 함"
   ]
  },
  {
   "cell_type": "code",
   "execution_count": 20,
   "id": "1e937d28",
   "metadata": {},
   "outputs": [
    {
     "name": "stderr",
     "output_type": "stream",
     "text": [
      "C:\\Users\\User\\anaconda3\\lib\\site-packages\\ipykernel\\ipkernel.py:287: DeprecationWarning: `should_run_async` will not call `transform_cell` automatically in the future. Please pass the result to `transformed_cell` argument and any exception that happen during thetransform in `preprocessing_exc_tuple` in IPython 7.17 and above.\n",
      "  and should_run_async(code)\n"
     ]
    },
    {
     "data": {
      "text/plain": [
       "'yeah expect people read actually accept hard atheism need little leap faith jimmy logic runs steam sorry pity sorry feelings denial faith need well pretend happily ever anyway maybe start newsgroup atheist hard bummin much forget flintstone chewables bake timmons'"
      ]
     },
     "execution_count": 20,
     "metadata": {},
     "output_type": "execute_result"
    }
   ],
   "source": [
    "# 역토큰화 (토큰화 작업을 역으로 되돌림)\n",
    "detokenized_doc = []\n",
    "for i in range(len(news_df)):\n",
    "    t = ' '.join(tokenized_doc[i])\n",
    "    detokenized_doc.append(t)\n",
    "\n",
    "news_df['clean_doc'] = detokenized_doc\n",
    "\n",
    "news_df['clean_doc'][1]"
   ]
  },
  {
   "cell_type": "markdown",
   "id": "31fc613a",
   "metadata": {},
   "source": [
    "정상적으로 불용어가 제거된 상태에서 역토큰화가 수행되었음을 확인\n",
    "\n",
    "이제 사이킷런의 TfidfVectorizer를 통해 단어 1,000개에 대한 TF-IDF 행렬을 만들 것"
   ]
  },
  {
   "cell_type": "code",
   "execution_count": 21,
   "id": "21d47689",
   "metadata": {},
   "outputs": [
    {
     "name": "stderr",
     "output_type": "stream",
     "text": [
      "C:\\Users\\User\\anaconda3\\lib\\site-packages\\ipykernel\\ipkernel.py:287: DeprecationWarning: `should_run_async` will not call `transform_cell` automatically in the future. Please pass the result to `transformed_cell` argument and any exception that happen during thetransform in `preprocessing_exc_tuple` in IPython 7.17 and above.\n",
      "  and should_run_async(code)\n"
     ]
    },
    {
     "data": {
      "text/plain": [
       "(11314, 1000)"
      ]
     },
     "execution_count": 21,
     "metadata": {},
     "output_type": "execute_result"
    }
   ],
   "source": [
    "from sklearn.feature_extraction.text import TfidfVectorizer\n",
    "\n",
    "vectorizer = TfidfVectorizer(stop_words='english', \n",
    "max_features= 1000, # 상위 1,000개의 단어를 보존 \n",
    "max_df = 0.5, \n",
    "smooth_idf=True)\n",
    "\n",
    "X = vectorizer.fit_transform(news_df['clean_doc'])\n",
    "X.shape # TF-IDF 행렬의 크기 확인"
   ]
  },
  {
   "cell_type": "markdown",
   "id": "fb0402cb",
   "metadata": {},
   "source": [
    "## 토픽 모델링(Topic Modeling)\n",
    "이제 TF-IDF 행렬을 다수의 행렬로 분해. 여기서는 사이킷런의 절단된 SVD(Truncated SVD)를 사용\n",
    "\n",
    "원래 기존 뉴스그룹 데이터가 20개의 카테고리를 갖고있었기 때문에, 20개의 토픽을 가졌다고 가정하고 토픽 모델링을 시도"
   ]
  },
  {
   "cell_type": "code",
   "execution_count": 22,
   "id": "250aacc9",
   "metadata": {},
   "outputs": [
    {
     "name": "stderr",
     "output_type": "stream",
     "text": [
      "C:\\Users\\User\\anaconda3\\lib\\site-packages\\ipykernel\\ipkernel.py:287: DeprecationWarning: `should_run_async` will not call `transform_cell` automatically in the future. Please pass the result to `transformed_cell` argument and any exception that happen during thetransform in `preprocessing_exc_tuple` in IPython 7.17 and above.\n",
      "  and should_run_async(code)\n"
     ]
    },
    {
     "data": {
      "text/plain": [
       "20"
      ]
     },
     "execution_count": 22,
     "metadata": {},
     "output_type": "execute_result"
    }
   ],
   "source": [
    "from sklearn.decomposition import TruncatedSVD\n",
    "svd_model = TruncatedSVD(n_components=20, algorithm='randomized', n_iter=100, random_state=122)\n",
    "svd_model.fit(X)\n",
    "len(svd_model.components_)"
   ]
  },
  {
   "cell_type": "code",
   "execution_count": 23,
   "id": "52af520b",
   "metadata": {},
   "outputs": [
    {
     "name": "stderr",
     "output_type": "stream",
     "text": [
      "C:\\Users\\User\\anaconda3\\lib\\site-packages\\ipykernel\\ipkernel.py:287: DeprecationWarning: `should_run_async` will not call `transform_cell` automatically in the future. Please pass the result to `transformed_cell` argument and any exception that happen during thetransform in `preprocessing_exc_tuple` in IPython 7.17 and above.\n",
      "  and should_run_async(code)\n"
     ]
    },
    {
     "data": {
      "text/plain": [
       "(20, 1000)"
      ]
     },
     "execution_count": 23,
     "metadata": {},
     "output_type": "execute_result"
    }
   ],
   "source": [
    "np.shape(svd_model.components_)#svd_modle은 VT에 해당"
   ]
  },
  {
   "cell_type": "markdown",
   "id": "838b68dc",
   "metadata": {},
   "source": [
    "정확하게 토픽의 수 t × 단어의 수의 크기를 가지는 것을 확인"
   ]
  },
  {
   "cell_type": "code",
   "execution_count": 24,
   "id": "44492f15",
   "metadata": {},
   "outputs": [
    {
     "name": "stdout",
     "output_type": "stream",
     "text": [
      "Topic 1: [('like', 0.21386), ('know', 0.20046), ('people', 0.19293), ('think', 0.17805), ('good', 0.15128)]\n",
      "Topic 2: [('thanks', 0.32888), ('windows', 0.29088), ('card', 0.18069), ('drive', 0.17455), ('mail', 0.15111)]\n",
      "Topic 3: [('game', 0.37064), ('team', 0.32443), ('year', 0.28154), ('games', 0.2537), ('season', 0.18419)]\n",
      "Topic 4: [('drive', 0.53324), ('scsi', 0.20165), ('hard', 0.15628), ('disk', 0.15578), ('card', 0.13994)]\n",
      "Topic 5: [('windows', 0.40399), ('file', 0.25436), ('window', 0.18044), ('files', 0.16078), ('program', 0.13894)]\n",
      "Topic 6: [('chip', 0.16114), ('government', 0.16009), ('mail', 0.15625), ('space', 0.1507), ('information', 0.13562)]\n",
      "Topic 7: [('like', 0.67086), ('bike', 0.14236), ('chip', 0.11169), ('know', 0.11139), ('sounds', 0.10371)]\n",
      "Topic 8: [('card', 0.46633), ('video', 0.22137), ('sale', 0.21266), ('monitor', 0.15463), ('offer', 0.14643)]\n",
      "Topic 9: [('know', 0.46047), ('card', 0.33605), ('chip', 0.17558), ('government', 0.1522), ('video', 0.14356)]\n",
      "Topic 10: [('good', 0.42756), ('know', 0.23039), ('time', 0.1882), ('bike', 0.11406), ('jesus', 0.09027)]\n",
      "Topic 11: [('think', 0.78469), ('chip', 0.10899), ('good', 0.10635), ('thanks', 0.09123), ('clipper', 0.07946)]\n",
      "Topic 12: [('thanks', 0.36824), ('good', 0.22729), ('right', 0.21559), ('bike', 0.21037), ('problem', 0.20894)]\n",
      "Topic 13: [('good', 0.36212), ('people', 0.33985), ('windows', 0.28385), ('know', 0.26232), ('file', 0.18422)]\n",
      "Topic 14: [('space', 0.39946), ('think', 0.23258), ('know', 0.18074), ('nasa', 0.15174), ('problem', 0.12957)]\n",
      "Topic 15: [('space', 0.31613), ('good', 0.3094), ('card', 0.22603), ('people', 0.17476), ('time', 0.14496)]\n",
      "Topic 16: [('people', 0.48156), ('problem', 0.19961), ('window', 0.15281), ('time', 0.14664), ('game', 0.12871)]\n",
      "Topic 17: [('time', 0.34465), ('bike', 0.27303), ('right', 0.25557), ('windows', 0.1997), ('file', 0.19118)]\n",
      "Topic 18: [('time', 0.5973), ('problem', 0.15504), ('file', 0.14956), ('think', 0.12847), ('israel', 0.10903)]\n",
      "Topic 19: [('file', 0.44163), ('need', 0.26633), ('card', 0.18388), ('files', 0.17453), ('right', 0.15448)]\n",
      "Topic 20: [('problem', 0.33006), ('file', 0.27651), ('thanks', 0.23578), ('used', 0.19206), ('space', 0.13185)]\n"
     ]
    },
    {
     "name": "stderr",
     "output_type": "stream",
     "text": [
      "C:\\Users\\User\\anaconda3\\lib\\site-packages\\ipykernel\\ipkernel.py:287: DeprecationWarning: `should_run_async` will not call `transform_cell` automatically in the future. Please pass the result to `transformed_cell` argument and any exception that happen during thetransform in `preprocessing_exc_tuple` in IPython 7.17 and above.\n",
      "  and should_run_async(code)\n"
     ]
    }
   ],
   "source": [
    "terms = vectorizer.get_feature_names() # 단어 집합. 1,000개의 단어가 저장됨.\n",
    "\n",
    "def get_topics(components, feature_names, n=5):\n",
    "    for idx, topic in enumerate(components):\n",
    "        print(\"Topic %d:\" % (idx+1), [(feature_names[i], topic[i].round(5)) for i in topic.argsort()[:-n - 1:-1]])\n",
    "get_topics(svd_model.components_,terms)"
   ]
  },
  {
   "cell_type": "markdown",
   "id": "1d00d6e6",
   "metadata": {},
   "source": [
    "## LSA의 장단점(Pros and Cons of LSA)\n",
    "정리해보면 LSA는 쉽고 빠르게 구현이 가능할 뿐만 아니라 단어의 잠재적인 의미를 이끌어낼 수 있어 문서의 유사도 계산 등에서 좋은 성능을 보여준다는 장점을 갖고 있음.\n",
    "\n",
    "하지만 SVD의 특성상 이미 계산된 LSA에 새로운 데이터를 추가하여 계산하려고하면 보통 처음부터 다시 계산해야 함\n",
    "\n",
    "# 잠재 디리클레 할당(Latent Dirichlet Allocation, LDA)\n",
    "잠재 디리클레 할당(Latent Dirichlet Allocation, LDA)은 토픽 모델링의 대표적인 알고리즘\n",
    "\n",
    "## 잠재 디리클레 할당(Latent Dirichlet Allocation, LDA) 개요\n",
    "우선 LDA의 내부 메커니즘에 대해서 이해하기 전에, LDA를 일종의 블랙 박스로 보고 LDA에 문서 집합을 입력하면, 어떤 결과를 보여주는지 간소화 된 예를 들어 보겠습니다.\n",
    "\n",
    "* 문서1 : 저는 사과랑 바나나를 먹어요\n",
    "* 문서2 : 우리는 귀여운 강아지가 좋아요\n",
    "* 문서3 : 저의 깜찍하고 귀여운 강아지가 바나나를 먹어요\n",
    "\n",
    "LDA를 수행할 때 문서 집합에서 토픽이 몇 개가 존재할지 가정하는 것은 사용자가 해야 할 일. 여기서는 LDA에 2개의 토픽을 찾으라고 요청\n",
    "\n",
    "LDA는 각 문서의 토픽 분포와 각 토픽 내의 단어 분포를 추정\n",
    "\n",
    "<b><각 문서의 토픽 분포></b><br/>\n",
    "문서1 : 토픽 A 100%<br/>\n",
    "문서2 : 토픽 B 100%<br/>\n",
    "문서3 : 토픽 B 60%, 토픽 A 40%<br/>\n",
    "\n",
    "<b><각 토픽의 단어 분포></b><br/>\n",
    "토픽A : 사과 20%, 바나나 40%, 먹어요 40%, 귀여운 0%, 강아지 0%, 깜찍하고 0%, 좋아요 0%<br/>\n",
    "토픽B : 사과 0%, 바나나 0%, 먹어요 0%, 귀여운 33%, 강아지 33%, 깜찍하고 16%, 좋아요 16%\n",
    "    \n",
    "LDA는 토픽의 제목을 정해주지 않지만, 이 시점에서 알고리즘의 사용자는 위 결과로부터 두 토픽이 각각 과일에 대한 토픽과 강아지에 대한 토픽이라고 판단해볼 수 있습니다"
   ]
  },
  {
   "cell_type": "markdown",
   "id": "91855011",
   "metadata": {},
   "source": [
    "## LDA의 가정\n",
    "LDA는 문서의 집합으로부터 어떤 토픽이 존재하는지를 알아내기 위한 알고리즘\n",
    "\n",
    "LDA는 단어의 순서는 신경쓰지 않음\n",
    "\n",
    "## LDA의 수행하기\n",
    "이제 LDA의 수행 과정을 정리\n",
    "\n",
    "<b>1) 사용자는 알고리즘에게 토픽의 개수 k를 알려줍니다.</b><br/>\n",
    "<b>2) 모든 단어를 k개 중 하나의 토픽에 할당합니다.</b><br/>\n",
    "<b>3) 이제 모든 문서의 모든 단어에 대해서 아래의 사항을 반복 진행합니다. (iterative)</b><br/>\n",
    "<b>3-1) 어떤 문서의 각 단어 w는 자신은 잘못된 토픽에 할당되어져 있지만, 다른 단어들은 전부 올바른 토픽에 할당되어져 있는 상태라고 가정합니다. 이에 따라 단어 w는 아래의 두 가지 기준에 따라서 토픽이 재할당됩니다.</b><br/>\n",
    "- p(topic t | document d) : 문서 d의 단어들 중 토픽 t에 해당하는 단어들의 비율\n",
    "- p(word w | topic t) : 각 토픽들 t에서 해당 단어 w의 분포\n",
    "\n",
    "## 잠재 디리클레 할당과 잠재 의미 분석의 차이\n",
    "LSA : DTM을 차원 축소 하여 축소 차원에서 근접 단어들을 토픽으로 묶는다.<br/>\n",
    "LDA : 단어가 특정 토픽에 존재할 확률과 문서에 특정 토픽이 존재할 확률을 결합확률로 추정하여 토픽을 추출한다.\n",
    "\n",
    "## 실습을 통한 이해\n",
    "이번 챕터에서는 gensim을 사용\n",
    "\n",
    "### 정수 인코딩과 단어 집합 만들기\n",
    "바로 이전 챕터인 LSA 챕터에서 사용하였던 Twenty Newsgroups이라고 불리는 20개의 다른 주제를 가진 뉴스 데이터를 다시 사용"
   ]
  },
  {
   "cell_type": "code",
   "execution_count": 25,
   "id": "d3a285e3",
   "metadata": {},
   "outputs": [
    {
     "name": "stderr",
     "output_type": "stream",
     "text": [
      "C:\\Users\\User\\anaconda3\\lib\\site-packages\\ipykernel\\ipkernel.py:287: DeprecationWarning: `should_run_async` will not call `transform_cell` automatically in the future. Please pass the result to `transformed_cell` argument and any exception that happen during thetransform in `preprocessing_exc_tuple` in IPython 7.17 and above.\n",
      "  and should_run_async(code)\n"
     ]
    },
    {
     "data": {
      "text/plain": [
       "0    [well, sure, story, seem, biased, disagree, st...\n",
       "1    [yeah, expect, people, read, actually, accept,...\n",
       "2    [although, realize, principle, strongest, poin...\n",
       "3    [notwithstanding, legitimate, fuss, proposal, ...\n",
       "4    [well, change, scoring, playoff, pool, unfortu...\n",
       "Name: clean_doc, dtype: object"
      ]
     },
     "execution_count": 25,
     "metadata": {},
     "output_type": "execute_result"
    }
   ],
   "source": [
    "tokenized_doc[:5]"
   ]
  },
  {
   "cell_type": "markdown",
   "id": "9312d7ca",
   "metadata": {},
   "source": [
    "여기서는 각 단어를 (word_id, word_frequency)의 형태로 바꾸고자 합니다\n",
    "\n",
    "word_id는 단어가 정수 인코딩된 값이고, word_frequency는 해당 뉴스에서의 해당 단어의 빈도수를 의미\n",
    "\n",
    "이는 gensim의 corpora.Dictionary()를 사용하여 손쉽게 구할 수 있음"
   ]
  },
  {
   "cell_type": "code",
   "execution_count": 26,
   "id": "197edcfe",
   "metadata": {},
   "outputs": [
    {
     "name": "stderr",
     "output_type": "stream",
     "text": [
      "C:\\Users\\User\\anaconda3\\lib\\site-packages\\ipykernel\\ipkernel.py:287: DeprecationWarning: `should_run_async` will not call `transform_cell` automatically in the future. Please pass the result to `transformed_cell` argument and any exception that happen during thetransform in `preprocessing_exc_tuple` in IPython 7.17 and above.\n",
      "  and should_run_async(code)\n",
      "C:\\Users\\User\\anaconda3\\lib\\site-packages\\scipy\\sparse\\sparsetools.py:21: DeprecationWarning: `scipy.sparse.sparsetools` is deprecated!\n",
      "scipy.sparse.sparsetools is a private module for scipy.sparse, and should not be used.\n",
      "  _deprecated()\n",
      "C:\\Users\\User\\anaconda3\\lib\\site-packages\\gensim\\similarities\\__init__.py:15: UserWarning: The gensim.similarities.levenshtein submodule is disabled, because the optional Levenshtein package <https://pypi.org/project/python-Levenshtein/> is unavailable. Install Levenhstein (e.g. `pip install python-Levenshtein`) to suppress this warning.\n",
      "  warnings.warn(msg)\n"
     ]
    },
    {
     "name": "stdout",
     "output_type": "stream",
     "text": [
      "[(52, 1), (55, 1), (56, 1), (57, 1), (58, 1), (59, 1), (60, 1), (61, 1), (62, 1), (63, 1), (64, 1), (65, 1), (66, 2), (67, 1), (68, 1), (69, 1), (70, 1), (71, 2), (72, 1), (73, 1), (74, 1), (75, 1), (76, 1), (77, 1), (78, 2), (79, 1), (80, 1), (81, 1), (82, 1), (83, 1), (84, 1), (85, 2), (86, 1), (87, 1), (88, 1), (89, 1)]\n"
     ]
    }
   ],
   "source": [
    "from gensim import corpora\n",
    "dictionary = corpora.Dictionary(tokenized_doc)\n",
    "corpus = [dictionary.doc2bow(text) for text in tokenized_doc]\n",
    "print(corpus[1]) # 수행된 결과에서 두번째 뉴스 출력. 첫번째 문서의 인덱스는 0"
   ]
  },
  {
   "cell_type": "markdown",
   "id": "5ee8555d",
   "metadata": {},
   "source": [
    "위의 출력 결과 중에서 (66, 2)는 정수 인코딩이 66으로 할당된 단어가 두번째 뉴스에서는 두 번 등장하였음을 의미"
   ]
  },
  {
   "cell_type": "code",
   "execution_count": 27,
   "id": "ed68cb0f",
   "metadata": {},
   "outputs": [
    {
     "name": "stdout",
     "output_type": "stream",
     "text": [
      "faith\n"
     ]
    },
    {
     "name": "stderr",
     "output_type": "stream",
     "text": [
      "C:\\Users\\User\\anaconda3\\lib\\site-packages\\ipykernel\\ipkernel.py:287: DeprecationWarning: `should_run_async` will not call `transform_cell` automatically in the future. Please pass the result to `transformed_cell` argument and any exception that happen during thetransform in `preprocessing_exc_tuple` in IPython 7.17 and above.\n",
      "  and should_run_async(code)\n"
     ]
    }
   ],
   "source": [
    "print(dictionary[66])"
   ]
  },
  {
   "cell_type": "markdown",
   "id": "76a58b76",
   "metadata": {},
   "source": [
    "기존에는 단어 'faith'이었음을 알 수 있습니다. 총 학습된 단어의 개수를 확인해보겠습니다. 이는 dictionary의 길이를 확인"
   ]
  },
  {
   "cell_type": "code",
   "execution_count": 28,
   "id": "47ec2574",
   "metadata": {},
   "outputs": [
    {
     "name": "stderr",
     "output_type": "stream",
     "text": [
      "C:\\Users\\User\\anaconda3\\lib\\site-packages\\ipykernel\\ipkernel.py:287: DeprecationWarning: `should_run_async` will not call `transform_cell` automatically in the future. Please pass the result to `transformed_cell` argument and any exception that happen during thetransform in `preprocessing_exc_tuple` in IPython 7.17 and above.\n",
      "  and should_run_async(code)\n"
     ]
    },
    {
     "data": {
      "text/plain": [
       "64281"
      ]
     },
     "execution_count": 28,
     "metadata": {},
     "output_type": "execute_result"
    }
   ],
   "source": [
    "len(dictionary)"
   ]
  },
  {
   "cell_type": "markdown",
   "id": "4b0de3fd",
   "metadata": {},
   "source": [
    "### LDA 모델 훈련시키기\n",
    "기존의 뉴스 데이터가 총 20개의 카테고리를 가지고 있었으므로 토픽의 개수를 20으로 하여 LDA 모델을 학습"
   ]
  },
  {
   "cell_type": "code",
   "execution_count": 29,
   "id": "745e7cd9",
   "metadata": {},
   "outputs": [
    {
     "name": "stderr",
     "output_type": "stream",
     "text": [
      "C:\\Users\\User\\anaconda3\\lib\\site-packages\\ipykernel\\ipkernel.py:287: DeprecationWarning: `should_run_async` will not call `transform_cell` automatically in the future. Please pass the result to `transformed_cell` argument and any exception that happen during thetransform in `preprocessing_exc_tuple` in IPython 7.17 and above.\n",
      "  and should_run_async(code)\n"
     ]
    },
    {
     "name": "stdout",
     "output_type": "stream",
     "text": [
      "(0, '0.013*\"thanks\" + 0.013*\"would\" + 0.012*\"drive\" + 0.012*\"know\"')\n",
      "(1, '0.016*\"file\" + 0.011*\"program\" + 0.009*\"available\" + 0.007*\"files\"')\n",
      "(2, '0.011*\"would\" + 0.011*\"president\" + 0.010*\"people\" + 0.008*\"think\"')\n",
      "(3, '0.009*\"chip\" + 0.009*\"used\" + 0.007*\"number\" + 0.006*\"char\"')\n",
      "(4, '0.024*\"henrik\" + 0.013*\"candida\" + 0.012*\"azeris\" + 0.011*\"plane\"')\n",
      "(5, '0.029*\"period\" + 0.016*\"power\" + 0.013*\"play\" + 0.012*\"scorer\"')\n",
      "(6, '0.025*\"health\" + 0.021*\"medical\" + 0.014*\"disease\" + 0.013*\"water\"')\n",
      "(7, '0.011*\"said\" + 0.009*\"like\" + 0.009*\"know\" + 0.008*\"people\"')\n",
      "(8, '0.021*\"game\" + 0.020*\"team\" + 0.016*\"games\" + 0.012*\"season\"')\n",
      "(9, '0.008*\"book\" + 0.008*\"good\" + 0.007*\"like\" + 0.006*\"much\"')\n",
      "(10, '0.014*\"israel\" + 0.013*\"armenian\" + 0.012*\"jews\" + 0.011*\"turkish\"')\n",
      "(11, '0.015*\"good\" + 0.012*\"year\" + 0.009*\"much\" + 0.008*\"last\"')\n",
      "(12, '0.013*\"would\" + 0.011*\"people\" + 0.008*\"think\" + 0.006*\"know\"')\n",
      "(13, '0.024*\"encryption\" + 0.019*\"security\" + 0.016*\"privacy\" + 0.015*\"clipper\"')\n",
      "(14, '0.015*\"mask\" + 0.010*\"expose\" + 0.009*\"kong\" + 0.008*\"pseudo\"')\n",
      "(15, '0.063*\"jesus\" + 0.024*\"christ\" + 0.019*\"bible\" + 0.014*\"church\"')\n",
      "(16, '0.017*\"space\" + 0.008*\"university\" + 0.007*\"nasa\" + 0.006*\"research\"')\n",
      "(17, '0.014*\"would\" + 0.008*\"people\" + 0.007*\"guns\" + 0.007*\"right\"')\n",
      "(18, '0.013*\"radius\" + 0.012*\"stereo\" + 0.011*\"speakers\" + 0.011*\"pointer\"')\n",
      "(19, '0.021*\"pain\" + 0.007*\"brain\" + 0.006*\"fatal\" + 0.006*\"reactions\"')\n"
     ]
    }
   ],
   "source": [
    "import gensim\n",
    "NUM_TOPICS = 20 #20개의 토픽, k=20\n",
    "ldamodel = gensim.models.ldamodel.LdaModel(corpus, num_topics = NUM_TOPICS, id2word=dictionary, passes=15)\n",
    "topics = ldamodel.print_topics(num_words=4)\n",
    "for topic in topics:\n",
    "    print(topic)"
   ]
  },
  {
   "cell_type": "markdown",
   "id": "cfabc269",
   "metadata": {},
   "source": [
    "각 단어 앞에 붙은 수치는 단어의 해당 토픽에 대한 기여도를 보여줌\n",
    "\n",
    "만약 10개의 단어를 출력하고 싶다면 아래의 코드를 수행"
   ]
  },
  {
   "cell_type": "code",
   "execution_count": 30,
   "id": "55941683",
   "metadata": {},
   "outputs": [
    {
     "name": "stdout",
     "output_type": "stream",
     "text": [
      "[(0, '0.013*\"thanks\" + 0.013*\"would\" + 0.012*\"drive\" + 0.012*\"know\" + 0.011*\"anyone\" + 0.010*\"please\" + 0.010*\"like\" + 0.010*\"windows\" + 0.009*\"card\" + 0.009*\"system\"'), (1, '0.016*\"file\" + 0.011*\"program\" + 0.009*\"available\" + 0.007*\"files\" + 0.007*\"window\" + 0.006*\"version\" + 0.006*\"entry\" + 0.006*\"image\" + 0.006*\"software\" + 0.006*\"information\"'), (2, '0.011*\"would\" + 0.011*\"president\" + 0.010*\"people\" + 0.008*\"think\" + 0.008*\"government\" + 0.008*\"going\" + 0.007*\"money\" + 0.006*\"work\" + 0.005*\"know\" + 0.005*\"make\"'), (3, '0.009*\"chip\" + 0.009*\"used\" + 0.007*\"number\" + 0.006*\"char\" + 0.006*\"output\" + 0.006*\"bits\" + 0.005*\"wire\" + 0.005*\"system\" + 0.005*\"current\" + 0.005*\"keys\"'), (4, '0.024*\"henrik\" + 0.013*\"candida\" + 0.012*\"azeris\" + 0.011*\"plane\" + 0.010*\"karabakh\" + 0.010*\"infections\" + 0.009*\"planes\" + 0.009*\"part\" + 0.007*\"yeast\" + 0.006*\"males\"'), (5, '0.029*\"period\" + 0.016*\"power\" + 0.013*\"play\" + 0.012*\"scorer\" + 0.007*\"hartford\" + 0.007*\"second\" + 0.007*\"third\" + 0.007*\"sweden\" + 0.006*\"first\" + 0.006*\"calgary\"'), (6, '0.025*\"health\" + 0.021*\"medical\" + 0.014*\"disease\" + 0.013*\"water\" + 0.012*\"patients\" + 0.008*\"medicine\" + 0.008*\"treatment\" + 0.008*\"cancer\" + 0.007*\"diseases\" + 0.007*\"among\"'), (7, '0.011*\"said\" + 0.009*\"like\" + 0.009*\"know\" + 0.008*\"people\" + 0.008*\"time\" + 0.007*\"went\" + 0.007*\"back\" + 0.006*\"would\" + 0.006*\"could\" + 0.005*\"well\"'), (8, '0.021*\"game\" + 0.020*\"team\" + 0.016*\"games\" + 0.012*\"season\" + 0.010*\"play\" + 0.010*\"players\" + 0.010*\"league\" + 0.010*\"hockey\" + 0.008*\"year\" + 0.007*\"teams\"'), (9, '0.008*\"book\" + 0.008*\"good\" + 0.007*\"like\" + 0.006*\"much\" + 0.005*\"cover\" + 0.005*\"also\" + 0.004*\"quite\" + 0.004*\"speed\" + 0.004*\"copies\" + 0.004*\"books\"'), (10, '0.014*\"israel\" + 0.013*\"armenian\" + 0.012*\"jews\" + 0.011*\"turkish\" + 0.010*\"armenians\" + 0.009*\"israeli\" + 0.008*\"people\" + 0.007*\"turkey\" + 0.006*\"jewish\" + 0.006*\"government\"'), (11, '0.015*\"good\" + 0.012*\"year\" + 0.009*\"much\" + 0.008*\"last\" + 0.007*\"think\" + 0.007*\"well\" + 0.007*\"time\" + 0.007*\"better\" + 0.007*\"would\" + 0.007*\"back\"'), (12, '0.013*\"would\" + 0.011*\"people\" + 0.008*\"think\" + 0.006*\"know\" + 0.006*\"even\" + 0.006*\"many\" + 0.006*\"like\" + 0.006*\"believe\" + 0.005*\"time\" + 0.004*\"also\"'), (13, '0.024*\"encryption\" + 0.019*\"security\" + 0.016*\"privacy\" + 0.015*\"clipper\" + 0.014*\"public\" + 0.012*\"technology\" + 0.012*\"government\" + 0.012*\"internet\" + 0.011*\"keys\" + 0.011*\"chip\"'), (14, '0.015*\"mask\" + 0.010*\"expose\" + 0.009*\"kong\" + 0.008*\"pseudo\" + 0.007*\"main\" + 0.007*\"event\" + 0.007*\"fleet\" + 0.007*\"events\" + 0.006*\"hong\" + 0.006*\"mydisplay\"'), (15, '0.063*\"jesus\" + 0.024*\"christ\" + 0.019*\"bible\" + 0.014*\"church\" + 0.013*\"matthew\" + 0.013*\"john\" + 0.012*\"father\" + 0.011*\"paul\" + 0.010*\"lord\" + 0.010*\"spirit\"'), (16, '0.017*\"space\" + 0.008*\"university\" + 0.007*\"nasa\" + 0.006*\"research\" + 0.005*\"information\" + 0.005*\"april\" + 0.005*\"national\" + 0.005*\"center\" + 0.004*\"also\" + 0.004*\"data\"'), (17, '0.014*\"would\" + 0.008*\"people\" + 0.007*\"guns\" + 0.007*\"right\" + 0.007*\"control\" + 0.006*\"police\" + 0.005*\"state\" + 0.005*\"crime\" + 0.005*\"government\" + 0.005*\"well\"'), (18, '0.013*\"radius\" + 0.012*\"stereo\" + 0.011*\"speakers\" + 0.011*\"pointer\" + 0.009*\"idaho\" + 0.008*\"vpic\" + 0.007*\"profile\" + 0.007*\"skipjack\" + 0.007*\"shack\" + 0.006*\"panasonic\"'), (19, '0.021*\"pain\" + 0.007*\"brain\" + 0.006*\"fatal\" + 0.006*\"reactions\" + 0.006*\"surgery\" + 0.006*\"suck\" + 0.005*\"bolt\" + 0.005*\"praise\" + 0.005*\"netcom\" + 0.005*\"kennedy\"')]\n"
     ]
    },
    {
     "name": "stderr",
     "output_type": "stream",
     "text": [
      "C:\\Users\\User\\anaconda3\\lib\\site-packages\\ipykernel\\ipkernel.py:287: DeprecationWarning: `should_run_async` will not call `transform_cell` automatically in the future. Please pass the result to `transformed_cell` argument and any exception that happen during thetransform in `preprocessing_exc_tuple` in IPython 7.17 and above.\n",
      "  and should_run_async(code)\n"
     ]
    }
   ],
   "source": [
    "print(ldamodel.print_topics())"
   ]
  },
  {
   "cell_type": "markdown",
   "id": "e5d5720f",
   "metadata": {},
   "source": [
    "### LDA 시각화 하기\n",
    "LDA 시각화를 위해서는 pyLDAvis의 설치가 필요\n",
    "``` pip install pyLDAvis ```"
   ]
  },
  {
   "cell_type": "code",
   "execution_count": 33,
   "id": "346e0e9d",
   "metadata": {},
   "outputs": [
    {
     "name": "stderr",
     "output_type": "stream",
     "text": [
      "C:\\Users\\User\\anaconda3\\lib\\site-packages\\ipykernel\\ipkernel.py:287: DeprecationWarning: `should_run_async` will not call `transform_cell` automatically in the future. Please pass the result to `transformed_cell` argument and any exception that happen during thetransform in `preprocessing_exc_tuple` in IPython 7.17 and above.\n",
      "  and should_run_async(code)\n"
     ]
    },
    {
     "data": {
      "text/html": [
       "\n",
       "<link rel=\"stylesheet\" type=\"text/css\" href=\"https://cdn.jsdelivr.net/gh/bmabey/pyLDAvis@3.3.1/pyLDAvis/js/ldavis.v1.0.0.css\">\n",
       "\n",
       "\n",
       "<div id=\"ldavis_el1244827383725194081679035814\"></div>\n",
       "<script type=\"text/javascript\">\n",
       "\n",
       "var ldavis_el1244827383725194081679035814_data = {\"mdsDat\": {\"x\": [0.24925938835411662, 0.1701524764641388, 0.22652169400992472, 0.1956400344820161, 0.06769081321549987, 0.17100522610355615, 0.18210670115591873, 0.15296168586489273, 0.03535843056363412, 0.12259559474434413, -0.007720990882243506, 0.080364590041668, -0.040916393717166724, -0.15647372027813003, -0.18543848679770006, -0.2304344045816585, -0.2587972396574492, -0.2572785114852213, -0.25375994338086755, -0.262836944219274], \"y\": [0.056664047994010314, -0.20378998468753748, -0.054769052337274006, 0.15564175622499557, -0.12915471843320325, 0.022761044814253752, 0.14288563081114244, 0.05536767021651538, 0.027116318396153846, -0.10337411237244831, 0.1893673959707425, -0.015167968491899681, -0.2130710684988508, -0.09208830426728058, 0.04638914251596807, 0.0896860231024051, 0.002230134380480617, 0.016042586486961278, 0.002143071157318203, 0.005120387017547144], \"topics\": [1, 2, 3, 4, 5, 6, 7, 8, 9, 10, 11, 12, 13, 14, 15, 16, 17, 18, 19, 20], \"cluster\": [1, 1, 1, 1, 1, 1, 1, 1, 1, 1, 1, 1, 1, 1, 1, 1, 1, 1, 1, 1], \"Freq\": [20.75955134477077, 12.286256919312159, 8.99155159966079, 8.75192047521129, 7.36989310387959, 6.186312978376673, 5.673359411844239, 5.652140565853647, 4.6618869685917685, 4.236522276117405, 4.127796094246736, 3.5688934655175886, 2.1244300741419098, 1.3915121886981638, 1.3630558285549292, 0.9145472598164117, 0.9051409102854411, 0.5041676030982587, 0.30068177120895623, 0.23037916081327336]}, \"tinfo\": {\"Term\": [\"file\", \"jesus\", \"people\", \"space\", \"good\", \"would\", \"game\", \"team\", \"know\", \"government\", \"drive\", \"power\", \"thanks\", \"system\", \"program\", \"windows\", \"information\", \"year\", \"bible\", \"games\", \"encryption\", \"israel\", \"think\", \"period\", \"armenian\", \"anyone\", \"play\", \"data\", \"public\", \"chip\", \"christians\", \"moral\", \"christianity\", \"beliefs\", \"quote\", \"atheism\", \"christian\", \"atheists\", \"morality\", \"judas\", \"religions\", \"scripture\", \"atheist\", \"reasoning\", \"pope\", \"worship\", \"taught\", \"assumption\", \"belief\", \"marriage\", \"sabbath\", \"gospel\", \"phrase\", \"reject\", \"argument\", \"conclusions\", \"believing\", \"promise\", \"prophecy\", \"spiritual\", \"conclusion\", \"truth\", \"humans\", \"explanation\", \"religion\", \"claim\", \"myers\", \"merely\", \"meaning\", \"absolute\", \"context\", \"evidence\", \"true\", \"existence\", \"life\", \"believe\", \"indeed\", \"agree\", \"words\", \"therefore\", \"exist\", \"question\", \"people\", \"fact\", \"reason\", \"would\", \"think\", \"mean\", \"even\", \"many\", \"must\", \"point\", \"human\", \"wrong\", \"things\", \"world\", \"know\", \"rather\", \"others\", \"however\", \"like\", \"read\", \"time\", \"well\", \"make\", \"could\", \"good\", \"also\", \"something\", \"much\", \"find\", \"really\", \"never\", \"server\", \"motif\", \"widget\", \"jpeg\", \"contrib\", \"printf\", \"null\", \"xterm\", \"postscript\", \"font\", \"uuencode\", \"visual\", \"xlib\", \"widgets\", \"formats\", \"servers\", \"echo\", \"clients\", \"libraries\", \"toolkit\", \"binaries\", \"compile\", \"pixel\", \"guidelines\", \"platforms\", \"binary\", \"openwindows\", \"exit\", \"sunos\", \"patches\", \"file\", \"entry\", \"client\", \"directory\", \"entries\", \"image\", \"comp\", \"files\", \"window\", \"resource\", \"string\", \"user\", \"unix\", \"application\", \"display\", \"program\", \"export\", \"format\", \"graphics\", \"code\", \"version\", \"available\", \"output\", \"request\", \"section\", \"software\", \"info\", \"list\", \"send\", \"information\", \"include\", \"source\", \"line\", \"name\", \"using\", \"data\", \"also\", \"mail\", \"windows\", \"based\", \"scsi\", \"drives\", \"controller\", \"motherboard\", \"bios\", \"simms\", \"upgrade\", \"cache\", \"adapter\", \"ports\", \"manuals\", \"gateway\", \"vesa\", \"adaptec\", \"quadra\", \"connector\", \"svga\", \"sleeve\", \"diamond\", \"slots\", \"eisa\", \"jumper\", \"ethernet\", \"outlets\", \"baud\", \"megs\", \"pointers\", \"jumpers\", \"powerbook\", \"floppies\", \"card\", \"modem\", \"monitor\", \"hello\", \"floppy\", \"port\", \"drive\", \"disk\", \"printer\", \"appreciated\", \"memory\", \"thanks\", \"video\", \"apple\", \"advance\", \"drivers\", \"disks\", \"cable\", \"cards\", \"driver\", \"sale\", \"windows\", \"shipping\", \"anyone\", \"please\", \"hard\", \"board\", \"problem\", \"system\", \"know\", \"price\", \"need\", \"mail\", \"looking\", \"would\", \"like\", \"help\", \"computer\", \"work\", \"also\", \"could\", \"using\", \"software\", \"used\", \"want\", \"bike\", \"apartment\", \"azerbaijani\", \"sumgait\", \"karina\", \"riding\", \"motorcycle\", \"bikes\", \"helmet\", \"mamma\", \"baku\", \"azerbaijanis\", \"motorcycles\", \"truck\", \"lights\", \"lyuda\", \"sister\", \"marina\", \"shouting\", \"gonna\", \"nagorno\", \"jumped\", \"intake\", \"neck\", \"aunt\", \"shaft\", \"grass\", \"glutamate\", \"seagate\", \"bury\", \"ride\", \"went\", \"daughter\", \"wife\", \"doctor\", \"food\", \"crowd\", \"door\", \"took\", \"floor\", \"told\", \"started\", \"rear\", \"room\", \"said\", \"came\", \"night\", \"home\", \"left\", \"woman\", \"face\", \"back\", \"head\", \"happened\", \"know\", \"heard\", \"like\", \"around\", \"time\", \"says\", \"people\", \"going\", \"women\", \"something\", \"could\", \"well\", \"even\", \"right\", \"still\", \"would\", \"take\", \"first\", \"want\", \"little\", \"think\", \"really\", \"launch\", \"satellite\", \"shuttle\", \"orbit\", \"lunar\", \"solar\", \"satellites\", \"spacecraft\", \"smokeless\", \"georgia\", \"launched\", \"mars\", \"saturn\", \"missions\", \"planetary\", \"telescope\", \"aircraft\", \"propulsion\", \"orbital\", \"atmosphere\", \"payload\", \"patents\", \"grounded\", \"venus\", \"ozone\", \"aerospace\", \"gravity\", \"observatory\", \"conducted\", \"balloon\", \"moon\", \"dept\", \"senior\", \"nasa\", \"mission\", \"rocket\", \"astronomy\", \"space\", \"publication\", \"flight\", \"university\", \"january\", \"research\", \"april\", \"center\", \"earth\", \"washington\", \"tobacco\", \"national\", \"south\", \"institute\", \"department\", \"science\", \"project\", \"information\", \"technology\", \"news\", \"data\", \"years\", \"report\", \"international\", \"also\", \"office\", \"year\", \"first\", \"program\", \"high\", \"three\", \"general\", \"jobs\", \"billion\", \"budget\", \"bush\", \"senate\", \"investment\", \"senator\", \"republicans\", \"libertarian\", \"reform\", \"deficit\", \"riders\", \"stimulus\", \"cuts\", \"enemies\", \"laughter\", \"prize\", \"reagan\", \"harley\", \"debt\", \"expos\", \"dole\", \"briefing\", \"housing\", \"economy\", \"believer\", \"countersteering\", \"babies\", \"foolish\", \"inevitable\", \"president\", \"spending\", \"funds\", \"initiative\", \"taxes\", \"congress\", \"fund\", \"income\", \"clinton\", \"money\", \"secretary\", \"economic\", \"business\", \"consideration\", \"administration\", \"plan\", \"george\", \"bill\", \"education\", \"government\", \"private\", \"russia\", \"going\", \"working\", \"house\", \"million\", \"support\", \"people\", \"think\", \"would\", \"work\", \"american\", \"make\", \"states\", \"care\", \"cost\", \"know\", \"want\", \"time\", \"well\", \"said\", \"years\", \"could\", \"made\", \"much\", \"pitching\", \"cursor\", \"baltimore\", \"pitcher\", \"phillies\", \"maine\", \"toyota\", \"arena\", \"dallas\", \"reds\", \"skip\", \"cylinder\", \"batteries\", \"giants\", \"shoulder\", \"quicktime\", \"thumb\", \"clutch\", \"torque\", \"runner\", \"tires\", \"lineup\", \"championships\", \"batting\", \"ticket\", \"canadiens\", \"pinch\", \"premises\", \"moncton\", \"winfield\", \"ball\", \"crash\", \"pitch\", \"wiring\", \"tire\", \"symbol\", \"plate\", \"engine\", \"ford\", \"tower\", \"outlet\", \"year\", \"miles\", \"good\", \"starts\", \"runs\", \"dealer\", \"last\", \"better\", \"auto\", \"much\", \"pretty\", \"average\", \"back\", \"years\", \"well\", \"still\", \"think\", \"time\", \"looks\", \"cars\", \"first\", \"best\", \"really\", \"probably\", \"like\", \"second\", \"great\", \"also\", \"would\", \"sure\", \"make\", \"little\", \"going\", \"since\", \"though\", \"could\", \"even\", \"guns\", \"drugs\", \"firearms\", \"batf\", \"compound\", \"homosexual\", \"handguns\", \"homicide\", \"cops\", \"concealed\", \"homicides\", \"deaf\", \"vitamin\", \"accidents\", \"libertarians\", \"retail\", \"sockets\", \"trained\", \"mild\", \"banned\", \"entity\", \"smoked\", \"jail\", \"exclusively\", \"breath\", \"waco\", \"amendment\", \"clinic\", \"fielding\", \"lethal\", \"militia\", \"firearm\", \"assault\", \"handgun\", \"prison\", \"weapon\", \"crime\", \"constitutional\", \"police\", \"citizen\", \"violent\", \"criminal\", \"court\", \"criminals\", \"koresh\", \"weapons\", \"constitution\", \"drug\", \"crimes\", \"laws\", \"trial\", \"control\", \"federal\", \"fire\", \"illegal\", \"rights\", \"legal\", \"property\", \"would\", \"children\", \"state\", \"right\", \"rate\", \"defense\", \"people\", \"government\", \"self\", \"case\", \"well\", \"cases\", \"make\", \"even\", \"used\", \"like\", \"could\", \"states\", \"israel\", \"turkish\", \"israeli\", \"turkey\", \"arab\", \"turks\", \"genocide\", \"nazi\", \"palestinian\", \"villages\", \"arabs\", \"greece\", \"nazis\", \"republic\", \"argic\", \"civilians\", \"ottoman\", \"serdar\", \"azeri\", \"ethnic\", \"village\", \"occupied\", \"lebanon\", \"palestine\", \"cyprus\", \"palestinians\", \"israelis\", \"lebanese\", \"holocaust\", \"gaza\", \"jews\", \"massacre\", \"armenian\", \"muslim\", \"armenia\", \"armenians\", \"jewish\", \"greek\", \"german\", \"peace\", \"germany\", \"land\", \"troops\", \"countries\", \"killed\", \"azerbaijan\", \"population\", \"military\", \"forces\", \"army\", \"anti\", \"government\", \"russian\", \"people\", \"state\", \"history\", \"world\", \"rights\", \"country\", \"char\", \"wire\", \"filename\", \"circuit\", \"scheme\", \"voltage\", \"phones\", \"cipher\", \"nubus\", \"detector\", \"circuits\", \"cellular\", \"receiver\", \"classified\", \"plaintext\", \"offset\", \"sync\", \"handler\", \"conductor\", \"pipe\", \"cryptanalysis\", \"ieee\", \"laptop\", \"accelerators\", \"clip\", \"rounds\", \"encrypt\", \"fuse\", \"hellman\", \"watts\", \"motorola\", \"channel\", \"macs\", \"cryptographic\", \"analog\", \"bits\", \"neutral\", \"block\", \"chip\", \"random\", \"audio\", \"chips\", \"algorithm\", \"byte\", \"ground\", \"unit\", \"keys\", \"input\", \"used\", \"output\", \"serial\", \"number\", \"current\", \"standard\", \"line\", \"system\", \"using\", \"data\", \"could\", \"power\", \"part\", \"would\", \"might\", \"need\", \"games\", \"players\", \"league\", \"hockey\", \"teams\", \"season\", \"montreal\", \"puck\", \"playoffs\", \"scored\", \"roger\", \"braves\", \"flyers\", \"islanders\", \"leafs\", \"pens\", \"espn\", \"playoff\", \"defensive\", \"coach\", \"devils\", \"stanley\", \"bruins\", \"hawks\", \"sharks\", \"defenseman\", \"finals\", \"gilmour\", \"clemens\", \"dodgers\", \"team\", \"game\", \"baseball\", \"quebec\", \"player\", \"kings\", \"stats\", \"played\", \"toronto\", \"play\", \"detroit\", \"minnesota\", \"division\", \"pittsburgh\", \"fans\", \"smith\", \"boston\", \"flames\", \"chicago\", \"goal\", \"points\", \"year\", \"series\", \"last\", \"first\", \"john\", \"mark\", \"stealth\", \"weaver\", \"rockefeller\", \"easter\", \"ciphertext\", \"temp\", \"consumer\", \"patent\", \"commentary\", \"kidney\", \"ghost\", \"detectors\", \"chemistry\", \"buyer\", \"networking\", \"dragon\", \"tension\", \"keyboards\", \"solaris\", \"ingr\", \"hulk\", \"corn\", \"throttle\", \"upgrading\", \"lotus\", \"bone\", \"catbyte\", \"dtmedin\", \"advertising\", \"headache\", \"fingers\", \"scope\", \"diet\", \"printing\", \"copies\", \"radar\", \"cover\", \"book\", \"excellent\", \"transmission\", \"edition\", \"books\", \"magazine\", \"models\", \"speed\", \"good\", \"print\", \"quite\", \"condition\", \"like\", \"rider\", \"issue\", \"much\", \"driving\", \"cars\", \"also\", \"high\", \"copy\", \"price\", \"look\", \"probably\", \"would\", \"stuff\", \"different\", \"article\", \"things\", \"problems\", \"based\", \"privacy\", \"nist\", \"crypto\", \"ncsl\", \"vram\", \"centris\", \"terminals\", \"accelerator\", \"simm\", \"telecommunications\", \"wiretap\", \"cincinnati\", \"authentication\", \"freeware\", \"promo\", \"escrowed\", \"amps\", \"bounced\", \"parliament\", \"auth\", \"mitre\", \"quran\", \"encryption\", \"fuck\", \"damaging\", \"willis\", \"celp\", \"supra\", \"directive\", \"lance\", \"cryptography\", \"ripem\", \"escrow\", \"security\", \"clipper\", \"secure\", \"quest\", \"agencies\", \"enforcement\", \"internet\", \"technology\", \"keys\", \"communications\", \"public\", \"voice\", \"protect\", \"chip\", \"electronic\", \"access\", \"government\", \"private\", \"computer\", \"information\", \"phone\", \"system\", \"service\", \"data\", \"anonymous\", \"mail\", \"disease\", \"patients\", \"cancer\", \"diseases\", \"slave\", \"aids\", \"hicnet\", \"yankees\", \"prevention\", \"bandwidth\", \"exhaust\", \"illness\", \"clinical\", \"chronic\", \"plants\", \"astros\", \"consortium\", \"presentations\", \"immune\", \"intentional\", \"packard\", \"meter\", \"treatments\", \"hewlett\", \"physician\", \"burnt\", \"gifs\", \"gainey\", \"emulation\", \"pipes\", \"medical\", \"patient\", \"health\", \"infection\", \"medicine\", \"doctors\", \"water\", \"treatment\", \"symptoms\", \"insurance\", \"navy\", \"linked\", \"newsletter\", \"page\", \"among\", \"volume\", \"care\", \"number\", \"matthew\", \"skepticism\", \"intellect\", \"shameful\", \"cadre\", \"chastity\", \"luke\", \"mormon\", \"verse\", \"messiah\", \"disciples\", \"decenso\", \"mormons\", \"tyre\", \"isaiah\", \"miracles\", \"jesus\", \"apostles\", \"trinity\", \"gentiles\", \"lucifer\", \"pitt\", \"salvation\", \"loan\", \"resurrection\", \"apostle\", \"abraham\", \"scrolls\", \"yogurt\", \"joshua\", \"thou\", \"sins\", \"christ\", \"gordon\", \"grace\", \"orthodox\", \"scriptures\", \"mary\", \"testament\", \"banks\", \"holy\", \"lord\", \"satan\", \"heaven\", \"spirit\", \"bible\", \"doctrine\", \"father\", \"church\", \"paul\", \"eternal\", \"john\", \"faith\", \"surrender\", \"shall\", \"death\", \"greek\", \"soon\", \"word\", \"peter\", \"scorer\", \"amour\", \"fleury\", \"carson\", \"brind\", \"hull\", \"dineen\", \"courtnall\", \"mullen\", \"cassels\", \"shanahan\", \"sandstrom\", \"recchi\", \"roenick\", \"juneau\", \"galley\", \"drake\", \"suter\", \"nylander\", \"poulin\", \"mogilny\", \"andersson\", \"macinnis\", \"hawgood\", \"coffey\", \"lafontaine\", \"ranford\", \"stauber\", \"turgeon\", \"kirlian\", \"sweden\", \"asynchronous\", \"stevens\", \"finland\", \"hartford\", \"period\", \"vernon\", \"lemieux\", \"ottawa\", \"murphy\", \"saves\", \"calgary\", \"play\", \"power\", \"lindros\", \"brown\", \"shots\", \"third\", \"winnipeg\", \"scoring\", \"second\", \"pittsburgh\", \"louis\", \"jersey\", \"philadelphia\", \"first\", \"vancouver\", \"buffalo\", \"chicago\", \"henrik\", \"candida\", \"azeris\", \"infections\", \"yeast\", \"males\", \"sword\", \"mainstream\", \"prisoners\", \"speedstar\", \"invading\", \"cabinet\", \"forty\", \"crowley\", \"quack\", \"dortmund\", \"beef\", \"wired\", \"albicans\", \"thumbs\", \"mystical\", \"winmarks\", \"gentile\", \"brightness\", \"oscillator\", \"planes\", \"fried\", \"grandfather\", \"rotor\", \"glow\", \"labeled\", \"plane\", \"karabakh\", \"segment\", \"homeland\", \"smoking\", \"meat\", \"part\", \"stalin\", \"kurds\", \"reactions\", \"suck\", \"praise\", \"brains\", \"practically\", \"goverment\", \"cleansing\", \"temporarily\", \"studio\", \"lens\", \"ironic\", \"cute\", \"waters\", \"nationality\", \"feustel\", \"adjective\", \"pains\", \"brilliant\", \"canal\", \"asshole\", \"pulse\", \"wiped\", \"gender\", \"cwru\", \"spacewalks\", \"rabin\", \"greed\", \"irony\", \"lever\", \"applelink\", \"bolt\", \"stomach\", \"kennedy\", \"pain\", \"fatal\", \"surgery\", \"pink\", \"brain\", \"barrier\", \"netcom\", \"headaches\", \"chest\", \"blood\", \"cubs\", \"kong\", \"pseudo\", \"fleet\", \"hong\", \"combat\", \"davidian\", \"bronx\", \"chrysler\", \"manhattan\", \"insisting\", \"olney\", \"sank\", \"dryden\", \"bobbe\", \"shafer\", \"queens\", \"keycode\", \"xmodmap\", \"beauchaine\", \"myhint\", \"corel\", \"graeme\", \"ross\", \"subdirectory\", \"proponents\", \"heal\", \"gurus\", \"pinouts\", \"pierce\", \"descriptive\", \"mask\", \"expose\", \"steady\", \"handheld\", \"mydisplay\", \"contracts\", \"blew\", \"event\", \"main\", \"events\", \"detail\", \"vice\", \"width\", \"fluke\", \"idaho\", \"vpic\", \"profile\", \"skipjack\", \"shack\", \"panasonic\", \"extracting\", \"tongues\", \"admitting\", \"sqrt\", \"doubles\", \"wholesale\", \"females\", \"protestant\", \"cone\", \"pairs\", \"agnostic\", \"combo\", \"perpendicular\", \"faceplate\", \"dude\", \"prefered\", \"handlers\", \"alarms\", \"vaginal\", \"intersecting\", \"generalizations\", \"remotes\", \"cages\", \"lodge\", \"radius\", \"pointer\", \"platter\", \"speakers\", \"screws\", \"stereo\", \"sphere\", \"easiest\", \"label\", \"sweep\", \"roof\", \"double\"], \"Freq\": [1957.0, 838.0, 4365.0, 1371.0, 2610.0, 6463.0, 892.0, 819.0, 3673.0, 1235.0, 1099.0, 1118.0, 1308.0, 2062.0, 1684.0, 1329.0, 1594.0, 1616.0, 523.0, 614.0, 510.0, 623.0, 3207.0, 480.0, 690.0, 1683.0, 619.0, 1319.0, 893.0, 669.0, 456.15680854069427, 277.0100526548987, 259.6647019851276, 196.32969353388415, 189.3541038743341, 187.3764939596864, 625.0080051875789, 177.19760344673895, 169.42618536497133, 150.86724914651342, 145.04664525420188, 139.23005725868907, 127.01159892904667, 106.70822868880141, 102.0122951588712, 101.59514964886843, 96.81218194176545, 94.72627552278497, 227.96570528144906, 82.92991910451045, 82.19509076987377, 81.76085461860968, 80.80086487481016, 80.06181869454147, 415.65921274963625, 79.33111588607017, 74.22336252536884, 73.806476663866, 72.92574318217498, 71.71458678945407, 192.52702008327435, 443.4555424804029, 150.853724344651, 118.69604991091602, 423.9714728867679, 417.4840916466651, 169.25217471029248, 141.37546934388425, 250.01833323561348, 143.89967974062753, 224.9563676274576, 485.37855083634815, 846.1945073948831, 229.5808805100102, 694.8259404646599, 1111.653132946464, 251.2150243219056, 422.4089197541903, 397.8960241738626, 297.20260491537863, 336.6750622690241, 760.6125154323361, 2201.9522193428115, 697.2917010990882, 528.738188572377, 2610.6859488234154, 1507.6996750854387, 553.120128989279, 1190.6681642886663, 1134.7467552064359, 803.172989705415, 770.5931268108122, 433.63621321014296, 477.19678426530896, 714.7346796048287, 646.1333302591003, 1246.8467754049498, 519.7860160522456, 475.60094996500845, 596.694732603374, 1116.1095782400025, 605.3948729795843, 943.6852489563695, 848.7937619780696, 758.2990819178601, 812.3709628054695, 794.0996478853216, 861.6167512551227, 645.3984211449302, 680.6553177733618, 604.1330505095792, 606.9276069244379, 575.1567395159818, 664.2600329051629, 474.7347995038423, 417.958060963407, 285.3355067279846, 262.99563405842827, 255.34144912113035, 235.18023999605143, 212.75655261089423, 194.77923862026574, 191.67416020592458, 154.2148285999668, 151.7267089958515, 148.8031107496123, 143.20377961392884, 140.86219916707665, 130.46727576152995, 128.0015850627303, 127.29829818819577, 125.74237142407131, 117.04663565898908, 112.13594157996496, 108.10877152872732, 107.40250688235432, 106.12209914056166, 105.64360672082573, 100.76384458826158, 97.55314406042888, 94.74729073734477, 92.02485600425003, 91.82555701338057, 1926.2138396394787, 729.1438235734165, 191.31473768121685, 371.99710880152674, 253.14237827790666, 677.5737873901065, 361.1033812940247, 876.5036438276209, 820.9651939488681, 190.7097992343757, 180.06090467381475, 465.1399815360927, 340.85352198898323, 420.8893358508078, 520.8368816594625, 1260.2203610582048, 296.9646346035638, 363.066798376892, 523.0755650638405, 579.5867355304961, 743.5285924359408, 1030.2694981956636, 652.1409386266168, 344.01493219718657, 390.9856495214008, 670.513845508138, 569.5358540483261, 563.7736196697717, 499.9004137340829, 667.2987261308111, 413.5619682025365, 449.25774858590603, 526.6732051868793, 542.0723834430454, 565.2207621452642, 522.7304167206522, 655.3022395587894, 482.9506086012847, 481.3806398672063, 421.85831373465675, 620.1668064244379, 329.13562048854544, 309.34231926382597, 171.1106196409171, 170.31033614653467, 146.04591973496537, 141.5168845600265, 119.74571670718379, 111.04695221368895, 110.98124491619001, 105.70876660797916, 103.09453984838046, 96.59268630109759, 91.3211676613121, 86.53289205642646, 84.41635334083851, 82.95924678511903, 81.94768129069263, 81.19970472376544, 78.92668507384006, 77.00002075482826, 73.66113937034785, 70.09346703533369, 65.77263492424076, 62.026389288013696, 60.215824855378386, 58.57516671848945, 57.86378750682524, 54.52297678894802, 54.36584607911428, 777.4041194257667, 286.86330597836456, 367.7339044115077, 179.65936596712658, 241.62167739465522, 270.6902339297669, 1035.5245363477843, 659.6655192405875, 223.73983574233327, 282.9004551812966, 526.9115470103635, 1122.9304967507292, 436.2289187275761, 392.9801815807746, 326.0951509998949, 324.3838822596462, 200.91202297043742, 230.50257914966903, 238.59668255936364, 331.77938704186226, 289.6697363297801, 833.4177261877721, 249.6849714492773, 948.5701799113406, 871.8382115418441, 469.8646972437192, 283.2669285612314, 671.0734177023307, 737.401940561962, 1011.9110150457161, 366.1566493682422, 628.2588505456364, 521.9874883198354, 387.5256261819437, 1087.5428835102737, 867.7440261221469, 500.3106978586993, 384.8584677107587, 486.2162476263418, 561.0604682307841, 500.39478880447155, 435.3658969098857, 395.6336647768983, 438.56295229660765, 374.8006227925766, 347.0405795695744, 178.02734492278088, 133.21500203365997, 126.60135403744357, 126.09511477301363, 117.98521585637525, 111.78376540684611, 105.77827006891755, 92.35674119810096, 91.38289128997967, 89.66490041036083, 82.91194612620633, 66.10406889524214, 62.32643304028816, 61.43501680342561, 58.81319890463893, 52.99534914629312, 51.11747761638059, 48.75618397962804, 44.721166695007334, 43.878045964199174, 43.8387070438853, 42.06004879643145, 41.17649937061856, 40.52545386160757, 39.98162953300686, 39.84988112445382, 39.65060803812482, 39.43263363969014, 38.87484414032997, 141.95501451463332, 552.7161700484365, 114.99768611255836, 168.86039374640015, 186.91655923509057, 245.90526538067968, 81.92962127383734, 173.53517688547484, 363.47850748338453, 117.99217290016065, 427.5290808461899, 340.4012051065487, 86.51613266295226, 190.7151635227125, 888.3518682728962, 366.63671345802646, 216.8144889583572, 353.722649848167, 389.0709709262045, 155.53341256014699, 221.93045570486987, 544.753303143884, 212.1286718505375, 207.44215417327368, 776.1164399073439, 290.20828455379024, 782.3402988489538, 375.14477907220726, 653.0836017457829, 290.62358601232023, 710.1547909420137, 411.8127783803536, 213.68471442698936, 393.4812501795972, 459.81980550586684, 449.0837344567439, 418.7049027306099, 383.71223740704005, 336.3054426130436, 510.82238973341083, 322.31363075444665, 349.7828418970292, 323.2736249557841, 280.41704816164446, 330.0419236567912, 295.5502433268204, 275.45264487642334, 232.24071771549143, 203.13355663830703, 194.9664215992798, 177.09776259722668, 136.5690782590291, 119.52988533166736, 115.35009178327802, 105.04831044206696, 101.65657234592881, 97.00657895991498, 92.15307211126363, 87.99646654496883, 87.08511329958739, 83.86570369794124, 83.84311385107387, 80.75834203097455, 69.94264781875582, 69.71452068183844, 68.59998991278266, 65.88986787617515, 59.36819055665281, 56.81178107979568, 56.16105911443022, 55.05405829433025, 54.98727198971802, 54.978029571413195, 52.37653872442032, 52.101720168433765, 50.373650141696295, 171.559046780865, 110.32180654379322, 124.54512630701981, 467.544576059305, 187.28538204638005, 134.25562229845335, 78.28008752486257, 1169.7291131347938, 115.56803423406696, 165.51511153837282, 543.129597348655, 101.20331694186315, 431.12525279808875, 383.1186900433992, 343.32604797358846, 279.859377484909, 264.33023019716325, 137.3284969630752, 345.20075126094923, 181.58349821749871, 140.84808031879678, 179.12131142618793, 255.04920349247368, 158.52976061010878, 383.52280003523765, 219.87505028883453, 228.64499092598732, 283.52645443274497, 279.84718535863453, 169.20547479190236, 168.85264055693588, 311.3585550782601, 175.2763670877836, 214.6455130294889, 225.6001384870769, 201.31570077842753, 188.49623716791052, 180.1447617680483, 177.42229602295126, 252.37492692678072, 157.88910995157013, 125.7154563292877, 107.325459193917, 106.25314713064917, 77.85777209870726, 64.3033239487878, 61.93387262042956, 58.721902175669264, 56.204341655299984, 54.58588360932458, 47.140797775994066, 45.276965210583256, 43.84465038721264, 43.730252551613034, 42.773892698432014, 40.29064189987411, 39.92484806314203, 39.56612112811611, 38.497536812512266, 38.34137719865494, 38.09135331128439, 37.933336701358286, 37.844431295125, 110.81888834283423, 36.38703670818113, 35.07571549533586, 33.97157658277824, 33.81658274978631, 33.697174463682636, 622.8906232183264, 84.5841488701987, 120.71920152849223, 63.58095247803532, 99.34379434651468, 237.71219601196498, 87.98214217670747, 75.09353716165442, 224.74787370164856, 407.8618680303661, 129.94687634922477, 115.89607378341209, 228.83479191638224, 78.56960683621026, 214.0399529256814, 179.6344926503161, 114.11020754183686, 231.0690745642235, 154.3979435867515, 468.11751140357705, 197.34822683954562, 129.47228317615227, 456.6735461635807, 245.69694897505204, 203.14391157018443, 170.57771649001637, 260.67481900050166, 580.2349558307245, 497.9611164029753, 654.4555947958445, 346.24217163372, 211.4063060788426, 308.02582529259917, 194.73122417969358, 166.29358529277906, 172.10457992434038, 315.904440613711, 254.08152006950903, 267.9512173742738, 221.6963064506509, 210.45319940766353, 197.6548375237896, 210.40898914570033, 192.89200025107561, 198.9020373501565, 114.27094657851573, 81.3297919169527, 74.23333229483389, 72.15591450561243, 64.69166593866912, 62.50520449864804, 59.08230108853513, 54.97526356572383, 52.49691735103806, 51.768053769942775, 51.50749507647292, 51.32174620601955, 44.18467905128574, 43.157348843975015, 42.9818685449875, 42.41764586480597, 42.2254192161613, 41.04026333611179, 40.514651872286684, 38.2267283680151, 76.92392508803697, 35.84653279250639, 35.29886723769211, 37.084744009708885, 75.78626450475522, 32.49026156234761, 32.38432118990254, 32.099850853664215, 31.75026528552921, 31.61761590456314, 150.63772317249007, 72.48669748680656, 67.33485173977306, 121.03468051673065, 60.517056421930455, 65.98655929191459, 59.27919526966429, 196.5983478743104, 76.70236867445601, 58.13810972673515, 56.43493973810048, 624.0878463097605, 137.69218306230115, 838.6998293705785, 94.05048941839254, 202.8251011226147, 93.26814789923013, 423.44995090937385, 387.0687049646976, 103.97216230103375, 483.3588656934343, 202.39470416773486, 138.5772229110748, 365.07753735939406, 297.76621881380964, 395.1794635480286, 280.0868672578595, 401.3707813943088, 390.4459800910366, 134.4582642579991, 125.17147671286868, 291.08266551470655, 208.72804115106993, 241.21621178501402, 210.03594682798496, 338.9103662850828, 198.02363568573384, 190.07776714863166, 303.3280252924126, 367.41508808743305, 202.18474089564916, 239.4836741865851, 190.6261517557476, 204.7395715683171, 206.823927581502, 183.24095478965296, 222.0760739408531, 204.60240918803666, 376.5749290409034, 191.05608177972968, 206.51871397192676, 106.51997108655678, 105.33721809501975, 75.83438667561498, 70.52058828563243, 69.59424925552175, 68.89575764183941, 60.84411418150438, 50.63082656229806, 49.758161343032214, 49.45791727791884, 47.90198001645882, 46.284036511539064, 42.6377206404428, 41.77788397410557, 39.80910169728591, 39.42343134621222, 38.84512219103398, 38.20087307986438, 37.93732376607436, 39.762305599485586, 36.42570360945343, 36.202735630374626, 70.74888814184075, 188.7516677347266, 34.571017847708355, 32.142198572921245, 32.133495391042175, 150.97393895910258, 86.19226022395888, 85.18073683749247, 79.77428883478427, 65.43340567045489, 142.19409367286553, 266.4322349326113, 61.80228109336054, 315.7769260136435, 77.4565341001572, 82.94058180902039, 146.6469682842617, 240.90766879538793, 156.50638515665358, 145.94420362821273, 205.88733425894367, 133.97700806631232, 163.69771437532805, 89.04533290883593, 219.2999743757549, 122.97505507171631, 351.2388543431346, 177.0325097144368, 182.38819020349806, 113.8278286841233, 209.94677477831917, 159.44862618150464, 117.17891188905821, 737.3367861444602, 222.3518063695381, 271.5934668584481, 360.73224743351045, 164.74192025201324, 161.3770250660168, 439.6379964200784, 255.00325419233002, 159.5029315228757, 230.93029081813404, 243.70626019009057, 159.06067163793057, 190.24855217906853, 189.24292936139955, 181.97559025968593, 185.69193061256516, 176.72050221504355, 160.26799462307565, 622.6607806801087, 487.7856029113843, 381.8771483771265, 307.21999951741503, 252.58747064251313, 228.3458776384123, 204.69128489029322, 175.96208591706772, 131.6956137806261, 129.76124331427576, 119.48757785365619, 113.18572148186547, 105.7264293083088, 105.51934969903871, 100.88662111241483, 100.41784396018872, 97.83988578293327, 96.67557738863857, 93.35190664136357, 92.97547930337319, 91.83813261822961, 86.7924939041662, 86.55304158529253, 84.29544158616652, 80.71724131664982, 80.35068231664938, 78.49973144060795, 72.67568610398267, 67.8064024678845, 66.36549036463637, 552.8062160649026, 92.2580449119635, 589.3228398157516, 192.27753765301821, 209.83154873391672, 439.71046023998537, 287.28423603811996, 238.24827797986399, 156.81484617995443, 200.78624257141524, 152.66656798824658, 184.23459340958357, 117.81912385207059, 155.27838119898436, 215.9360694436123, 137.52830946184446, 174.39702141454904, 203.34912872825328, 126.97266038952273, 148.2417068193878, 178.34603588652928, 269.25366301315665, 169.35855072119995, 339.25478074023437, 218.78169592294375, 177.9664780463614, 210.26405559766928, 170.65058775069642, 168.44100260616014, 249.10146869056325, 218.8966066674699, 158.28923039757524, 144.8854291152741, 117.82601825823359, 106.2557329024554, 96.87686076303616, 86.43906744740676, 85.93118356402015, 78.22991081405861, 75.04030299951512, 70.4887204538615, 70.16974224524989, 69.5251022777111, 67.9462395092998, 54.60275503132629, 52.390033582671684, 51.83515289516349, 51.50298185749348, 51.48815935372813, 50.40084604129376, 49.36740148499677, 45.624005712806394, 43.29170570501779, 40.72359741918272, 40.42867810769007, 40.118291016608794, 39.60452900017511, 39.58541093764459, 39.56759755688814, 84.6864323707912, 124.50012964860069, 78.37684530006555, 67.6624170579505, 64.21148666510733, 230.17197742179795, 113.35613139984085, 160.36634030240654, 384.1058126742083, 127.14055121702533, 109.10121088140698, 164.61557108949356, 172.8600294914217, 104.75936181848844, 195.38757875077985, 161.76234038057763, 201.39512492574426, 190.74396668460793, 367.54164823128144, 240.009089596594, 147.2002831256217, 297.31824918180695, 204.29824440488025, 167.49003467002504, 172.7912817110089, 205.24371949729883, 189.9164310565314, 180.7214672367886, 174.5960004376522, 146.65157259379592, 146.72525649875465, 174.87459003177767, 130.68028004122795, 125.52688123449713, 613.0357120494828, 396.4913879122538, 390.6187633758163, 383.3333372001388, 283.2539157220284, 460.06771867123086, 154.30670755561403, 140.4535453670542, 112.72612919268539, 105.9578742526912, 103.08495669448122, 99.54845521576678, 99.56584814691874, 96.55658652946737, 97.51833760638489, 88.71085097751863, 86.6807058331534, 86.53506412786612, 85.85818998872944, 83.81599369998293, 81.39432862730666, 71.03799918477591, 69.83504165367702, 65.0130419420961, 79.33117821622773, 58.12609286719044, 57.967927333640965, 57.394910562551814, 56.72311662784396, 54.279529119253986, 776.9480169048076, 832.0535955246827, 200.0445727753016, 97.23761845109051, 260.76822418883387, 157.71853062970138, 116.3255481083638, 172.80324084040936, 170.3637147418641, 411.01366855297226, 152.8295383036201, 121.12476721038317, 187.98447034610098, 166.21360533743277, 122.24199915997315, 151.9077129525659, 143.46698312364762, 134.7579891302387, 150.45182824270466, 154.9571756457142, 175.8592568595959, 303.45185398492515, 168.1282045133167, 195.11313068321616, 196.468861480291, 151.36708191106501, 136.5303517604435, 76.98105632719584, 75.44306072574867, 75.40090690172056, 74.56221086371556, 54.62248792492344, 54.08601464881574, 51.29351822877006, 49.01372007414154, 46.81096850789571, 45.587186336287566, 45.70388703963044, 45.12791836024941, 44.42538901397978, 44.28183032542924, 44.05606691867329, 42.29210158527726, 42.2555304448342, 41.83505160506287, 40.67256388691728, 39.88042195445839, 41.54460128253788, 37.928169011364524, 36.199528931669754, 35.57141155978107, 35.56983634628905, 34.74067094507957, 34.70513143060105, 34.70513143060105, 49.44480085459463, 30.580595597344928, 44.78979501478601, 73.61791600486305, 70.17072197317302, 68.93538162296981, 130.55529720617034, 101.79148619160607, 178.65773048453258, 283.15831407253535, 126.31780626538108, 63.933856589463275, 75.58685351403732, 128.45747787168725, 88.2289932523763, 85.31803046147152, 135.40478041146406, 261.9138342595028, 82.13006816350251, 135.5160055616105, 99.87119381445218, 255.1458283123636, 62.690949659589364, 118.15673229364437, 194.0745710950289, 78.77500626603053, 86.18642939167101, 159.3974324381965, 110.30862189721272, 87.14048501926499, 95.02586091976967, 103.98517532053259, 99.9065944562047, 117.48001740324135, 88.4187806875149, 92.86233494692952, 88.24003958578126, 85.79402268151179, 83.60681692499318, 80.97520257411803, 321.27360875720916, 125.24133512979608, 141.45035808619033, 75.73777742884351, 75.6067923046114, 68.59816466323154, 62.319915251810286, 58.77889073499104, 53.353728651302454, 45.69446456229163, 95.21549544924206, 38.85994052089097, 37.63860072021208, 37.11844631643778, 35.74207037057298, 35.56324064932023, 35.03547626916243, 31.430085806842563, 28.934729202604245, 28.173719754856222, 25.88977972604914, 23.981128209805412, 491.3358247295543, 23.26792320712317, 21.34411314698457, 20.787701527982758, 20.22657559710588, 20.006757815592678, 19.732114901614587, 19.582685858829173, 163.36658935216127, 209.73945189604154, 175.14173113366678, 380.07802668796455, 297.8875797558412, 181.5894170707861, 33.543809889651584, 123.24767247762091, 139.94682326120244, 237.3648660030158, 247.84902323721914, 221.6870297904602, 110.86528197851698, 288.3619677778383, 127.26967962344094, 116.27722698342156, 215.3660161852464, 100.31423631129668, 161.88351785286756, 242.27753798254662, 118.99363427037487, 161.56744166430613, 188.44123007156824, 125.01134473242823, 172.31777329283423, 115.7804008654138, 132.3373570437216, 109.11794448369359, 116.30388788144046, 191.2459957972476, 156.0950284409026, 103.07288800968124, 99.2998670501073, 79.87329089147887, 77.65435493513674, 59.34065953123762, 54.619072333617694, 54.333352081130144, 53.0939355964592, 52.27514769019803, 51.589325024021775, 49.57729058032629, 43.755112336489596, 40.77383078574065, 39.59358559653635, 35.969684098634396, 35.80619260875479, 34.96871023652367, 32.23897166730826, 32.02861715498891, 31.922722070940278, 30.43418217977527, 29.34041049850351, 29.204078893146296, 29.11717221321181, 29.024414617165238, 28.79381859601181, 27.860707316178324, 27.755013347702032, 276.23252325782556, 72.24470495327331, 334.0461091542388, 53.55787518689272, 104.39120986859346, 71.18105110248013, 167.35024795470815, 104.15898017017552, 56.72769175740556, 89.35206583710772, 64.0126547228055, 53.80456045383294, 61.2218450894863, 76.12970087535184, 93.70194195168115, 65.5573584581093, 55.02800526797477, 53.569750287917664, 169.89304143543572, 78.43463967878722, 71.70514028972568, 68.78732319826106, 68.13875977740209, 66.81294327101824, 62.045530836467115, 56.96506584927089, 55.30722996988711, 53.37386298816074, 49.85556024370053, 46.29285307529993, 44.37569184436254, 42.321474272219184, 34.52159822757718, 33.276840783256404, 815.839065331938, 32.848623443164236, 32.77583849736337, 30.99031148529016, 28.544385732210053, 102.39671677739732, 57.622351946541066, 26.14637105234336, 76.60671464019691, 25.131524930885895, 22.121821202139667, 21.936359765394013, 21.880004850456626, 21.852865446035477, 37.05634798259717, 56.29347432022141, 315.67944211018306, 103.21767883606788, 71.43505858703122, 64.97770791432376, 51.1910844403363, 82.35328538705268, 64.33215712041152, 93.13238580139671, 126.51984515437371, 131.95974017664872, 69.23379208711911, 107.40497570384984, 130.5960324609206, 251.8781377412566, 75.32977906680814, 151.6811599346153, 183.35855039734312, 136.69773555169775, 85.33971399644525, 165.05864199809088, 120.87864361117038, 69.33805201364629, 87.33635220567689, 100.48566869389613, 88.83371266093972, 77.96962828322879, 79.92320471815525, 70.90620010972216, 101.15943580108606, 30.459761749841363, 29.267116310858402, 29.125476586812354, 28.57266031474669, 26.58808751841365, 26.338013650261086, 25.884993069023533, 25.721399309762404, 25.136524371045592, 25.09605297341215, 24.993066667425417, 41.11394563558226, 24.222550391659222, 24.00431556846429, 23.85272982864972, 23.316797991040417, 22.69124016713344, 22.07313727960091, 22.0593661860036, 22.04113758544154, 21.944396262980696, 21.418928992360726, 20.495734968914967, 20.306976223938136, 20.2075119991845, 20.014065957878405, 19.845740164535624, 19.661739889585036, 19.51903866068698, 57.94538619070886, 26.34516152297144, 36.59074331498897, 39.62664312466241, 64.32228101303737, 252.50677220027237, 30.840268535067917, 49.88535951407288, 50.100808395414845, 46.8179236560375, 39.71563464828992, 52.595418004863966, 109.60446744059732, 143.11548421685066, 34.771832382197694, 43.61000312138124, 42.66330347612637, 59.330129437823814, 34.100814901266524, 37.74962191859341, 63.82687547848489, 40.16456172518438, 36.14077506858449, 32.61444374900993, 36.348716141662834, 53.30974976423913, 33.452117491706304, 31.2550505392228, 33.02322682727703, 206.33379069365662, 113.71952257175181, 103.75716423499394, 87.24963274661842, 57.52074957295987, 55.49986294853366, 53.377471908231556, 47.1156553555584, 42.862565184603724, 39.447960176747735, 37.52333308363992, 36.18087610070106, 34.98820625832507, 34.20286228166384, 33.55534847735517, 32.90575765045888, 32.74507217916738, 31.850187399815958, 31.306979576733923, 30.789984100726628, 28.621928752778725, 28.49896982063926, 28.397173575039332, 26.977872794214967, 25.37626095323869, 74.93634245588171, 23.3681906852446, 22.048480319830215, 21.89024219298304, 21.326101121903122, 28.71711354566516, 95.32248016285448, 88.61408362765562, 40.264105271316815, 54.692021919077476, 41.959277721818864, 43.165802431920795, 74.23226400057983, 30.777970779190298, 31.13221986226877, 28.152786352417838, 26.529037063994238, 22.7863895361384, 21.748205382759796, 19.880621400987074, 18.87816023866288, 18.441096741068332, 18.043804302082876, 17.62300145801385, 17.161925330394023, 17.160217989799786, 16.576903898689938, 16.548794996483878, 15.987894935473252, 15.367396019996525, 14.930574666570298, 14.549009267109803, 14.206499704131597, 13.750001894953565, 13.452447069447052, 13.175245806533395, 13.020836299791016, 12.989003309959188, 12.697483031017851, 12.2898097818534, 12.285238189638504, 12.074162463357482, 11.750321543134223, 11.744609855460142, 11.441457688136815, 25.048334443006937, 19.570719464971766, 21.820788097214354, 101.53973109431905, 28.240328195493188, 26.777355908608584, 18.09284410135719, 34.20992407166811, 14.567751898360624, 22.40335109298728, 15.646231756046356, 16.27479205446014, 19.404709458906254, 16.5897229661194, 24.672772877558078, 23.626150625371608, 18.97415177897879, 18.369243317311525, 17.267264099793472, 16.823565968189893, 15.653580279505892, 14.693538947274494, 12.791372850324871, 11.416688472354043, 11.289106305316617, 11.224436041027703, 10.796459533615192, 10.223313232290055, 9.912134720186202, 9.858435161036615, 9.733535331071467, 9.653918993689151, 9.5350972111627, 9.438946926672363, 9.26998375994614, 9.003908892799885, 8.474864037212173, 8.370563780411008, 8.190419974886261, 7.931637962372207, 7.907541723483398, 7.883214156422354, 7.602024734392514, 7.391989451259496, 43.101787115672565, 28.091656175916796, 9.625898198814733, 13.55234492451285, 17.74286412465247, 15.87630785749935, 12.591524029712591, 20.42710129711781, 20.452521990079447, 18.796154779121814, 13.704902511209285, 11.798056364532362, 10.9418987646764, 9.69817889253877, 20.180946469338508, 18.62367887534538, 16.147783594133294, 15.749705039439483, 14.723510400754531, 13.999498645393214, 8.935693709900521, 8.86095428273494, 8.714507994159012, 8.654269558783833, 8.510114599029384, 8.506218366743182, 7.964583169322307, 7.812841160344754, 6.994533002242966, 12.06713647648767, 6.783796319656063, 6.693481696242524, 6.529739025449451, 6.429051695282913, 5.986123439648552, 5.865295160096151, 5.292478834715625, 5.131827127058884, 5.111342452736911, 4.866073452127732, 4.566039489976934, 4.498146387358432, 4.462364672735308, 4.303092475142561, 28.15235496064101, 23.865409361371885, 6.033091838555935, 24.17490728506457, 9.329756163999562, 26.15348432175825, 11.609346087364015, 8.575468440085606, 13.35447600731664, 7.172481092116852, 7.206086223649775, 7.331400856392099], \"Total\": [1957.0, 838.0, 4365.0, 1371.0, 2610.0, 6463.0, 892.0, 819.0, 3673.0, 1235.0, 1099.0, 1118.0, 1308.0, 2062.0, 1684.0, 1329.0, 1594.0, 1616.0, 523.0, 614.0, 510.0, 623.0, 3207.0, 480.0, 690.0, 1683.0, 619.0, 1319.0, 893.0, 669.0, 457.07426901146107, 277.92741314438103, 260.58206219227367, 197.24705374102996, 190.27455942231433, 188.2938541668322, 628.2430890178127, 178.11496365388476, 170.3435455788337, 151.78460936253853, 145.96400546806424, 140.14741746879463, 127.92895913619247, 107.65380075191875, 102.92965570321104, 102.51250985897401, 97.72954216199398, 95.64363574124701, 230.4056612368274, 83.84727931165625, 83.11245097997936, 82.67821482871527, 81.71905596213377, 80.9791789105666, 420.4220193943545, 80.2484821112588, 75.14072275092447, 74.72383819702588, 73.84310339228057, 72.63194701067553, 195.25550761228922, 453.7231098207154, 154.3594563620945, 121.06697915883313, 446.271411525716, 439.85921174103714, 174.18529060302984, 145.10296214364342, 264.29642237258395, 149.94308994171263, 242.42579829649398, 566.1227737526302, 1051.3219133012003, 250.9736074824097, 851.1959275067588, 1435.0579718519728, 277.9141181721379, 498.50967376156837, 466.358221138316, 336.98951170077765, 413.3641626578168, 1151.1638913752627, 4365.058096049897, 1064.6434597816444, 759.1353572585307, 6463.89677527815, 3207.097315518032, 824.5232506792371, 2426.0876284739365, 2278.3534976410833, 1435.0233043815479, 1374.9176810907531, 609.4010561008795, 703.029322971347, 1311.9005033244855, 1204.827265773964, 3673.362954844314, 869.0475246982397, 765.7036532473569, 1190.5739769923835, 4181.61535396272, 1226.713632941547, 3167.869347915051, 2642.566275405313, 2154.62814011682, 2659.152124727595, 2610.12492858673, 3602.1987816343462, 1688.8837073157126, 2199.080449607385, 1421.0060193237184, 1537.3521417174404, 1234.6447568673566, 665.1792122204765, 475.65397881528156, 418.87724027484626, 286.25468603942386, 263.91481336986755, 256.2606284325695, 236.09941936606396, 213.67573192233323, 195.69842183680834, 192.59333952224472, 155.1340079114058, 152.6458883072905, 149.7222900610513, 144.12295892536784, 141.78137850292129, 131.38645507296894, 128.92076438424414, 128.21747749963475, 126.66155074622768, 117.96581497042807, 113.05512089140396, 109.02795091338321, 108.3216862279612, 107.04127940609216, 106.56278603226473, 101.68302390830102, 98.47232337186787, 95.66647005494342, 92.94403531568902, 92.74473632481957, 1957.9601973697058, 739.2420055489963, 193.61878077413652, 380.5826977140634, 258.82474283193403, 713.2019377275622, 374.5513453625951, 946.350588202397, 884.3442752631465, 196.78459352455752, 185.5366437976183, 512.2535486871541, 376.72162539929036, 475.9891664292101, 617.177853250575, 1684.442921374595, 328.33083842336157, 415.8384864366916, 647.689136082919, 731.2152100397147, 982.6711417000307, 1493.9513889942396, 893.017454374982, 409.7049192420193, 496.9598496525042, 1079.9898763830017, 871.7290744884513, 1015.7517348618609, 892.3412142823807, 1594.1762743782867, 640.628510427499, 761.0553574521443, 1069.8529160439596, 1169.0397381354665, 1573.1989682039293, 1319.0646203531992, 3602.1987816343462, 1229.930334786831, 1329.5280049234404, 1002.8115246454429, 621.086039407405, 330.0548534180964, 310.26155218721726, 172.0298525643081, 171.22956906992567, 146.9651656394686, 142.4361174926168, 120.66494963057481, 111.96618514323963, 111.900969049472, 106.62823917819777, 104.01377277510632, 97.51191923742357, 92.24040058470312, 87.45212498904358, 85.33558626422953, 83.8784797285191, 82.86691421627319, 82.1190701652153, 79.84591799723108, 77.91925367821928, 74.58037229373888, 71.01269996205954, 66.69186787652667, 62.94562221473958, 61.13505777876943, 59.49440003286164, 58.78302043021628, 55.442209712339064, 55.28507900584016, 795.4896143662106, 292.5066817959075, 377.0445576719549, 182.89621854322243, 246.78583767801797, 278.1815615725253, 1099.4894848885983, 709.731454903954, 234.4660095036714, 301.04958660743085, 578.0038084567094, 1308.9304130125417, 482.41995801718554, 437.5018664221732, 363.7049023239251, 372.66851135986315, 222.14074768234437, 269.1729459135772, 281.58050108265826, 420.9542634924456, 358.85354150596004, 1329.5280049234404, 304.4215683936946, 1683.1512859108996, 1565.4838080103214, 845.3471607494604, 383.8415037343418, 1684.9225996815558, 2062.8589673504653, 3673.362954844314, 626.4203178086632, 1737.0152504621117, 1229.930334786831, 717.4690092729586, 6463.89677527815, 4181.61535396272, 1253.2637946324414, 801.8954980266772, 1748.5664970753728, 3602.1987816343462, 2659.152124727595, 1573.1989682039293, 1079.9898763830017, 2026.2095884116916, 1870.4530735978335, 347.9602983797815, 178.94706373298774, 134.13472084386683, 127.52107284765043, 127.0148335832205, 118.90493466658211, 112.7034842293262, 106.69798887912441, 93.27646000830782, 92.30261010018653, 90.58462971866028, 83.83166493641319, 67.02378771772221, 63.24615186281432, 62.35473561823214, 59.73291771484581, 53.915067981907676, 52.03719642658747, 49.67590278983492, 45.64088683140473, 44.7977686822103, 44.75842586345492, 42.979767625737466, 42.09621818696205, 41.44517268408767, 40.90134834809487, 40.76960250445468, 40.57032685354279, 40.352352467561964, 39.79456296403532, 146.98660679681663, 616.0819031855766, 122.26178927967254, 189.23820219158245, 212.9173250744224, 305.2301676062127, 90.9248704789076, 212.63892776884563, 501.61375374156677, 139.05178316665823, 628.532190929689, 494.24781299350684, 98.46704851471576, 270.6685413505358, 1899.7501465819457, 619.0974267604611, 322.7264395373762, 626.7444657545777, 739.8133921513065, 215.56213136318684, 370.38739514287556, 1548.2754403378194, 351.3950268016488, 354.0048567694612, 3673.362954844314, 664.1001917950473, 4181.61535396272, 1110.3115469956056, 3167.869347915051, 720.5071345166059, 4365.058096049897, 1447.454245371819, 395.12037271207527, 1688.8837073157126, 2659.152124727595, 2642.566275405313, 2426.0876284739365, 1930.1369455498968, 1489.6542114221754, 6463.89677527815, 1414.9846901741657, 2311.9271318321507, 1870.4530735978335, 1050.1955627362445, 3207.097315518032, 1537.3521417174404, 276.36705048333346, 233.1551028513086, 204.0479417741242, 195.88080673176216, 178.01214772970903, 137.4834634434701, 120.44427046414968, 116.26447691576034, 105.96269558663556, 102.57095747841113, 97.92096410303856, 93.06745724374595, 88.91085250138237, 87.99949843206971, 84.78008883042357, 84.75749898689104, 81.67272717017345, 70.85703295457299, 70.62890581432076, 69.51437504526498, 66.80425302097676, 60.282575726052926, 57.72616628498874, 57.07544424691258, 55.968443426812605, 55.901657122200376, 55.89241593367377, 53.29092385690268, 53.01610539115894, 51.28804596695115, 174.93729238172583, 112.57976236146985, 127.49951422261766, 493.8603121381393, 196.511229351046, 139.55185343792726, 80.2963162849938, 1371.7968465588915, 121.01108025905413, 178.01841302141304, 662.6942762144672, 108.38274283743591, 581.4240438551159, 594.9948709191052, 526.0744131224756, 405.4907758172938, 422.4738580155595, 169.02802437709192, 650.2862996976764, 262.3132420773175, 179.43515006156875, 280.56904183116006, 517.2900108623658, 238.9634569865495, 1594.1762743782867, 488.084875724728, 673.996467548833, 1319.0646203531992, 1491.6348432947561, 326.8045015852083, 348.397059545685, 3602.1987816343462, 402.59391337862763, 1616.6461106397278, 2311.9271318321507, 1684.442921374595, 889.5979179313898, 872.151014901028, 734.7209570188899, 253.29393035167018, 158.80811345247477, 126.63445978015697, 108.24446266388432, 107.17215304072296, 78.77677565562303, 65.22232737367726, 62.852876045319036, 59.64091124656128, 57.123347068585815, 55.50847513692486, 48.059801220627456, 46.19596863547273, 44.76365383598725, 44.64925602041057, 43.69289612332149, 41.209840704849974, 40.84403918099011, 40.48512824441537, 39.41654026557541, 39.260380706135415, 39.01035673617386, 38.85234012624776, 38.76343472476552, 113.51215390393173, 37.306040150259626, 35.99471892022533, 34.890580046215824, 34.73558618031053, 34.61617789926833, 647.4753554330305, 87.33901020382126, 125.92171404329109, 65.93877028410945, 106.55958746604145, 277.1553278378133, 96.03448105727458, 81.13127000081343, 285.5153397153529, 584.3087585978967, 158.06907430685024, 144.6285244886058, 344.23913475929197, 93.21591021428063, 340.1242090203516, 279.87437253265364, 155.57142502390013, 406.93549313122935, 241.23677893619535, 1235.4169898535288, 360.7463385074296, 198.25909624198732, 1447.454245371819, 558.4942251786216, 440.2598939381544, 350.8940111298973, 867.7401877477048, 4365.058096049897, 3207.097315518032, 6463.89677527815, 1748.5664970753728, 609.0528290392332, 2154.62814011682, 629.7222393718438, 427.7450261851379, 483.7087571695952, 3673.362954844314, 1870.4530735978335, 3167.869347915051, 2642.566275405313, 1899.7501465819457, 1491.6348432947561, 2659.152124727595, 1257.4549271012424, 2199.080449607385, 115.18992671827937, 82.24877251659683, 75.15231244495472, 73.07489464537606, 65.61064607843275, 63.424184645434046, 60.001281223817166, 55.89424370548747, 53.415897503654875, 52.687033909706415, 52.42647527981433, 52.24072634743819, 45.103659191448905, 44.076328983738655, 43.90084869088775, 43.33662600342284, 43.1443993596593, 41.95924355216152, 41.43363200756872, 39.145708503297136, 78.82880955156635, 36.765512944695125, 36.21784741480106, 38.064874597000156, 77.92501062351843, 33.409241719017956, 33.30331349039994, 33.018831020893145, 32.66924542529285, 32.53659604432679, 157.7223196849423, 75.27124234189151, 70.14622528803203, 128.23348781271147, 63.35157360016001, 71.55138526540226, 65.2942622733454, 262.9573522354823, 88.75067325035496, 64.21904834223643, 62.50740327928446, 1616.6461106397278, 215.31352271556548, 2610.12492858673, 131.98437084377338, 416.21935165183197, 135.09179987645015, 1419.7715846684725, 1249.4132644885105, 164.2141789441921, 2199.080449607385, 530.0707319484254, 280.83386444252625, 1548.2754403378194, 1491.6348432947561, 2642.566275405313, 1489.6542114221754, 3207.097315518032, 3167.869347915051, 324.0939988054968, 283.62275664492546, 2311.9271318321507, 1029.2616807454574, 1537.3521417174404, 1081.256731718373, 4181.61535396272, 1008.4330476060815, 910.910671417377, 3602.1987816343462, 6463.89677527815, 1256.646507644395, 2154.62814011682, 1050.1955627362445, 1447.454245371819, 1600.8713403727115, 951.1597530487323, 2659.152124727595, 2426.0876284739365, 377.4954383972261, 191.97477261859854, 207.79589271756188, 107.43835381413346, 106.2556008398106, 76.75276940319166, 71.43897101320911, 70.51263198309843, 69.8141403694161, 61.762499241842015, 51.54920928987476, 50.67654407993711, 50.3763000085171, 48.82036274403552, 47.202422490711314, 43.556103397296965, 42.69626675391308, 40.72748443157917, 40.341814079, 39.76350492532724, 39.1192588166337, 38.855706508446026, 40.74470908823067, 37.344086793809566, 37.121127045828985, 72.55705535376443, 193.7347605284679, 35.48940059050066, 33.06058132063368, 33.05187811861887, 155.79990602519536, 88.70901320106128, 87.90199753264682, 83.28416089593696, 68.39379722496507, 158.78927945490028, 317.94693570779214, 66.20734962763039, 398.7452557479873, 85.44612697507773, 92.29855427131386, 179.65967378131467, 324.0833626933185, 198.08984461979117, 190.58114579409875, 296.520459087407, 174.60584047651628, 227.70972948765092, 105.55811603557699, 335.45442238037765, 168.76382170351576, 775.7802752380894, 307.28001455036303, 323.97492167857195, 157.89833256021717, 470.67362500240347, 308.81568179231823, 178.07824798370584, 6463.89677527815, 621.3817351320228, 958.0171896025369, 1930.1369455498968, 368.7952039710088, 368.48869264887117, 4365.058096049897, 1235.4169898535288, 375.3342362824594, 1201.1553716930532, 2642.566275405313, 372.58096819675603, 2154.62814011682, 2426.0876284739365, 2026.2095884116916, 4181.61535396272, 2659.152124727595, 629.7222393718438, 623.5794526311544, 488.70426907424735, 382.7958141461001, 308.1386662486604, 253.50613640929703, 229.26454350121534, 205.60995213900614, 176.88075168385163, 132.61427954741, 130.67990908105966, 120.4062436204401, 114.10439008521479, 106.64509508736592, 106.45597272132397, 101.80528904363017, 101.3365099270125, 98.75855154971717, 97.5942454878874, 94.27057856296135, 93.89414507853695, 92.75682328371686, 87.7111596709501, 87.471707355098, 85.21410735695122, 81.63590718745446, 81.26934808343329, 79.41839720739185, 73.59435187076657, 68.7250682346684, 67.28415613142027, 612.1406190204805, 95.22494135881341, 690.7236604953566, 215.0023748019765, 241.7650451897681, 607.2055971508878, 375.7312183675167, 327.9551458869348, 192.0188172609481, 278.7397313380749, 197.69369396663248, 273.11058661997663, 136.06245383032305, 218.71526282089354, 395.05072028543754, 181.65838166771013, 284.61463604030047, 406.9068616938784, 158.90722332990435, 229.78119377504544, 369.11105019100324, 1235.4169898535288, 355.27687307041845, 4365.058096049897, 958.0171896025369, 488.94996060651437, 1204.827265773964, 470.67362500240347, 437.91881917241756, 250.02109114006714, 219.81623373550588, 159.20885285374882, 145.80505426070584, 118.74624525825102, 107.1753554657715, 97.79648320920523, 87.35868989691068, 86.85080601507035, 79.14953326410249, 75.9599275461231, 71.40834290003058, 71.08936469141896, 70.44472616139097, 68.86586195546887, 55.522377477495375, 53.3096560337219, 52.754775351337095, 52.42260430366257, 52.407781803232055, 51.32046849146365, 50.2870239385015, 46.54362816385661, 44.211328151186876, 41.6432198653518, 41.34830057533841, 41.0379134727824, 40.5241514463442, 40.505033383813675, 40.487220003057224, 89.87271870011223, 137.37777773595622, 84.33351583309799, 72.3941100034452, 68.9601770930703, 291.2397747574897, 142.95646240338942, 221.0651268018249, 669.9633043978398, 172.725261160908, 144.2668444903606, 261.94434599328935, 281.7150712080101, 141.19333957808144, 355.43629212708385, 296.08588032587437, 433.20159108463224, 400.35425411493594, 2026.2095884116916, 893.017454374982, 329.21587488947125, 1425.7993834737904, 716.4004247862733, 640.3772710098347, 1069.8529160439596, 2062.8589673504653, 1573.1989682039293, 1319.0646203531992, 2659.152124727595, 1118.4502448847174, 1213.132088428778, 6463.89677527815, 1293.996678696156, 1737.0152504621117, 614.2609724954151, 397.41088572047676, 391.5390965920322, 384.25283487900924, 284.17341550749734, 462.4580990600236, 155.22620533701036, 141.3730430397648, 113.64563643956167, 106.87782615609227, 104.00445480122788, 100.46795289149895, 100.48559564069927, 97.47608453439474, 98.49265462718947, 89.63034865022924, 87.60020665960216, 87.45468000281681, 86.77768766446161, 84.73550754176128, 82.31382645348349, 71.95749686608697, 70.75453936950515, 65.93253964560493, 80.5215406703202, 59.04559055222035, 58.88742500635159, 58.314408243205925, 57.642614300554584, 55.19902684635284, 819.472425917728, 892.0543967811616, 209.93377647169663, 100.62056232397663, 289.5382140171573, 171.87656506081422, 126.74745355570079, 206.34440322162666, 206.28786689705336, 619.5693748282034, 182.07822165662787, 139.2709761314307, 270.9767816995676, 226.73323597001004, 144.96795550693457, 212.96822666309836, 194.41381258689754, 182.91604700755425, 235.0868874886898, 264.9396922279286, 367.6889891641964, 1616.6461106397278, 370.3782296789184, 1419.7715846684725, 2311.9271318321507, 544.5877507623189, 390.5515433079926, 77.90077749041211, 76.36278210280237, 76.32062808440787, 75.48193203736179, 55.54220909245789, 55.00573581350729, 52.21323938710521, 49.93344124809949, 47.73072184100179, 46.50690751080325, 46.627489627138424, 46.047639521196196, 45.34518764063696, 45.20155154387498, 44.9757880852244, 43.21182274361241, 43.17525162562233, 42.754772771613986, 41.59228506608455, 40.80014311279354, 42.54591197119988, 38.847890169699674, 37.11925009616455, 36.49113273121331, 36.48972421799941, 35.660392121747364, 35.6248525889362, 35.6248525889362, 50.87934755816026, 31.500316771988473, 46.864041641698286, 82.5066444007617, 83.75570381520471, 83.0850987664039, 188.25436880243385, 140.17273917384617, 298.1640685405957, 682.9424150755405, 273.07218036870233, 91.21597740522066, 126.18675151864926, 342.0481016984542, 194.1745301649573, 183.79665507398713, 529.5690370863093, 2610.12492858673, 187.3621752518032, 725.7481092383254, 343.39126964152166, 4181.61535396272, 105.8669910471775, 568.074033057025, 2199.080449607385, 193.90223402637713, 283.62275664492546, 3602.1987816343462, 889.5979179313898, 421.0978959616947, 626.4203178086632, 1170.0000551595692, 1081.256731718373, 6463.89677527815, 571.2579941343257, 994.5656208317098, 625.8749366855076, 1311.9005033244855, 806.2050327126952, 1002.8115246454429, 322.19488327100936, 126.16260961185822, 142.4973641683668, 76.65905190690485, 76.52806678755387, 69.51943914617401, 63.241803075467146, 59.70016522586799, 54.27500313424492, 46.61574227166356, 97.33301184080833, 39.78121505579579, 38.559876695616495, 38.0397208503843, 36.66334485570497, 36.48451512738157, 35.9567511597417, 32.35136034553911, 29.85600376604786, 29.094994358592032, 26.811054232477563, 24.902402702095983, 510.52902574743746, 24.189197706363807, 22.26538766593392, 21.70897626160535, 21.14785007516721, 20.9280323040595, 20.653389379675914, 20.503960356494964, 172.69531878526024, 226.36123736219986, 188.64681046172439, 484.2039532384234, 385.30521541108976, 226.88352545568003, 36.32853767877453, 179.08959790759505, 209.38512394049744, 436.50769601193383, 488.084875724728, 433.20159108463224, 203.76698625703696, 893.6230934245309, 258.81505252958533, 243.7802147983807, 669.9633043978398, 204.76569847636796, 527.0810530475712, 1235.4169898535288, 360.7463385074296, 801.8954980266772, 1594.1762743782867, 501.14927568768894, 2062.8589673504653, 458.98092305286224, 1319.0646203531992, 422.80471351296546, 1229.930334786831, 192.17153545790035, 157.02046781009625, 103.99832237030586, 100.22530148945259, 80.7987252809894, 78.57979183647387, 60.26609389186225, 55.54450672000643, 55.25879075609576, 54.019369982020606, 53.200582056982306, 52.514760375232214, 50.50272494095092, 44.68055030543929, 41.699265159117914, 40.51901998292509, 36.89511847386319, 36.73162698403048, 35.89414571693045, 33.16440610444504, 32.9540515238295, 32.84815645614627, 31.359616894180537, 30.265844872225223, 30.129974351263407, 30.042606628627194, 29.949849017816128, 29.719252961118038, 28.786141715048682, 28.680447712926306, 295.41792399310657, 75.98829266134607, 413.70714726248036, 58.892649964805834, 124.9056816339037, 87.84058270347023, 265.0224775157599, 147.24436759127997, 73.57854026382259, 167.44754335648463, 109.27356828194334, 85.80820389936002, 114.94868296745466, 251.16187552076934, 489.71803646562455, 266.10430402578874, 427.7450261851379, 1425.7993834737904, 170.8353490768753, 79.36049087492896, 72.63099148586741, 69.7131743944028, 69.06461097354382, 67.73879446715998, 62.9716333506734, 57.890917045412635, 56.23308116602885, 54.301360664575334, 50.78141143984227, 47.21870427144167, 45.301543040504285, 43.24732546836093, 35.44744942371892, 34.20269200091516, 838.5741731878857, 33.77447463930598, 33.70169957119218, 31.916747341335356, 29.470236936952233, 105.80065279764295, 59.569284792038644, 27.072222275436946, 79.39921635632514, 26.05737613266236, 23.047672408418805, 22.862210961535745, 22.805856098007393, 22.778716646790254, 38.7653701366515, 59.363231409234736, 351.68606471689384, 111.26145945211596, 76.68818909317368, 69.84899843424425, 55.03675166601719, 99.40145697481431, 75.13840704359298, 121.13546260032804, 180.88461491432284, 191.78492365510442, 85.23205419869046, 148.80764373379125, 193.91238044040097, 523.3488546585694, 97.88733495103658, 296.7209583187763, 462.928823407371, 317.139594050297, 135.51668810602075, 544.5877507623189, 389.0189588493925, 97.71289206999072, 229.74083613298868, 399.2582949541992, 327.9551458869348, 356.0244052142696, 648.1351727649849, 179.36098692427439, 102.08852652948005, 31.38885708532566, 30.196207030289177, 30.054567709587612, 29.50175362902697, 27.517179222650842, 27.26710439209989, 26.814083788454308, 26.65049002919318, 26.065615090476367, 26.025143692842924, 25.922157386856192, 42.67865732125927, 25.151641111089997, 24.933406287895064, 24.781820566006918, 24.245888731675784, 23.620330886564215, 23.002227999031685, 22.988456905434376, 22.97022852447098, 22.87348698241147, 22.3480197117915, 21.424825692827348, 21.236066952332123, 21.1366153567424, 20.94315667730918, 20.774830888448005, 20.59083060901581, 20.448129380117756, 62.46923967619796, 28.109550135162095, 40.17561670580617, 44.86864073354716, 78.06742215086352, 480.2613389455672, 36.069108434948625, 68.13205051562801, 72.25432813457837, 66.64157761608668, 69.29243996228898, 119.0650592491931, 619.5693748282034, 1118.4502448847174, 57.0073167936226, 127.9971124898338, 122.23120234957295, 460.5569569411686, 76.47272901193914, 113.03114628471343, 1008.4330476060815, 226.73323597001004, 135.39664116512674, 86.01536235638848, 157.66713399144118, 2311.9271318321507, 165.70639530089122, 86.75400667939257, 235.0868874886898, 207.23725091772465, 114.62298279581984, 104.7595635694903, 88.15309298073038, 58.424209797027906, 56.40332319491885, 54.28093216092119, 48.01911561564284, 43.76602544925657, 40.35144186819771, 38.426793326893176, 37.08433641520318, 35.89166649486241, 35.10632254221102, 34.4588087014232, 33.809217895809766, 33.64853240625698, 32.75364764359915, 32.21043980080196, 31.69344434792619, 29.52538900147914, 29.402430049588414, 29.30063381954098, 27.881333042921607, 26.279721181906368, 77.818671868208, 24.271650909312626, 22.951940729303747, 22.793702425651517, 22.229561386939068, 30.381025090927505, 133.31806403049694, 126.00470046628678, 48.35597252932906, 71.77159802621283, 56.67013552336766, 59.831578887018296, 1213.132088428778, 42.44004390029402, 73.07679416034033, 29.089294331507798, 27.465545043084198, 23.72289752678265, 22.68471336748449, 20.81712938904661, 19.81466822388945, 19.377604720158292, 18.980312337430608, 18.559509445319776, 18.098433309483983, 18.096726061588424, 17.513411884496463, 17.485302975573838, 16.924402975115303, 16.303903999086486, 15.867082685483656, 15.485517285018823, 15.143007715369166, 14.68650988468478, 14.388955053018622, 14.111753795104137, 13.957344306381607, 13.925511300820492, 13.634010803123493, 13.22631776894496, 13.221746229569323, 13.010670466916697, 12.68682952785892, 12.681118771788096, 12.37796572166596, 28.353590956058845, 22.70685668487005, 26.724310429836724, 212.9649468148601, 47.99204859425512, 49.3098680474749, 26.638151427858087, 106.21886639382811, 19.043373024560577, 70.84601758719909, 26.096771664653605, 32.019741085312766, 234.99716778997274, 96.35968723292189, 25.61671876576095, 24.570096539165753, 19.918097689775415, 19.313189205514398, 18.21121001731962, 17.767511864718898, 16.597526167708764, 15.637525864363255, 13.735318738527743, 12.360634367998298, 12.233052202605382, 12.168381929230575, 11.740405425818862, 11.167259120492927, 10.856080612389873, 10.802381049239488, 10.67748122260918, 10.597864885226864, 10.479043099365573, 10.382892814875236, 10.213929651483852, 9.947854794342117, 9.418809934378256, 9.315579419340333, 9.134365898533801, 8.875583869025732, 8.851487624501887, 8.827160054106004, 8.545970793297155, 8.335935371932125, 50.4322042170805, 43.14643210684612, 11.53143668274446, 20.214325713962637, 32.063379686542504, 29.631267528805925, 24.54635598451931, 245.61847476553305, 323.01261615885767, 237.21650519276466, 95.89090174693929, 108.66406841584694, 61.07600604033558, 20.568220381531027, 21.12776873239084, 19.570501133171643, 17.094605892081336, 16.697788538407597, 15.670332632443907, 14.946320877364064, 9.882516072111, 9.807776509824667, 9.661330271234345, 9.601091785873558, 9.45693684740161, 9.453040635932684, 8.911405421750748, 8.759663396028989, 7.941355244573592, 13.748399513130803, 7.7306185609750315, 7.6403039279319005, 7.476561321428119, 7.375873922372638, 6.9329456839524335, 6.812117410276328, 6.239301089025674, 6.07864947767554, 6.058164736384976, 5.812895687151948, 5.512861728837999, 5.444968614448157, 5.409186899825033, 5.249914702232286, 36.08641606572959, 31.485840957867424, 7.675506308609529, 39.59713494969772, 12.836502769089789, 64.33502318532054, 20.866366642424346, 14.332163255934855, 35.21718876118515, 18.36960899124184, 28.223349282113944, 203.81739529256137], \"Category\": [\"Default\", \"Default\", \"Default\", \"Default\", \"Default\", \"Default\", \"Default\", \"Default\", \"Default\", \"Default\", \"Default\", \"Default\", \"Default\", \"Default\", \"Default\", \"Default\", \"Default\", \"Default\", \"Default\", \"Default\", \"Default\", \"Default\", \"Default\", \"Default\", \"Default\", \"Default\", \"Default\", \"Default\", \"Default\", \"Default\", \"Topic1\", \"Topic1\", \"Topic1\", \"Topic1\", \"Topic1\", \"Topic1\", \"Topic1\", \"Topic1\", \"Topic1\", \"Topic1\", \"Topic1\", \"Topic1\", \"Topic1\", \"Topic1\", \"Topic1\", \"Topic1\", \"Topic1\", \"Topic1\", \"Topic1\", \"Topic1\", \"Topic1\", \"Topic1\", \"Topic1\", \"Topic1\", \"Topic1\", \"Topic1\", \"Topic1\", \"Topic1\", \"Topic1\", \"Topic1\", \"Topic1\", \"Topic1\", \"Topic1\", \"Topic1\", \"Topic1\", \"Topic1\", \"Topic1\", \"Topic1\", \"Topic1\", \"Topic1\", \"Topic1\", \"Topic1\", \"Topic1\", \"Topic1\", \"Topic1\", \"Topic1\", \"Topic1\", \"Topic1\", \"Topic1\", \"Topic1\", \"Topic1\", \"Topic1\", \"Topic1\", \"Topic1\", \"Topic1\", \"Topic1\", \"Topic1\", \"Topic1\", \"Topic1\", \"Topic1\", \"Topic1\", \"Topic1\", \"Topic1\", \"Topic1\", \"Topic1\", \"Topic1\", \"Topic1\", \"Topic1\", \"Topic1\", \"Topic1\", \"Topic1\", \"Topic1\", \"Topic1\", \"Topic1\", \"Topic1\", \"Topic1\", \"Topic1\", \"Topic1\", \"Topic1\", \"Topic1\", \"Topic1\", \"Topic1\", \"Topic1\", \"Topic2\", \"Topic2\", \"Topic2\", \"Topic2\", \"Topic2\", \"Topic2\", \"Topic2\", \"Topic2\", \"Topic2\", \"Topic2\", \"Topic2\", \"Topic2\", \"Topic2\", \"Topic2\", \"Topic2\", \"Topic2\", \"Topic2\", \"Topic2\", \"Topic2\", \"Topic2\", \"Topic2\", \"Topic2\", \"Topic2\", \"Topic2\", \"Topic2\", \"Topic2\", \"Topic2\", \"Topic2\", \"Topic2\", \"Topic2\", \"Topic2\", \"Topic2\", \"Topic2\", \"Topic2\", \"Topic2\", \"Topic2\", \"Topic2\", \"Topic2\", \"Topic2\", \"Topic2\", \"Topic2\", \"Topic2\", \"Topic2\", \"Topic2\", \"Topic2\", \"Topic2\", \"Topic2\", \"Topic2\", \"Topic2\", \"Topic2\", \"Topic2\", \"Topic2\", \"Topic2\", \"Topic2\", \"Topic2\", \"Topic2\", \"Topic2\", \"Topic2\", \"Topic2\", \"Topic2\", \"Topic2\", \"Topic2\", \"Topic2\", \"Topic2\", \"Topic2\", \"Topic2\", \"Topic2\", \"Topic2\", \"Topic2\", \"Topic2\", \"Topic3\", \"Topic3\", \"Topic3\", \"Topic3\", \"Topic3\", \"Topic3\", \"Topic3\", \"Topic3\", \"Topic3\", \"Topic3\", \"Topic3\", \"Topic3\", \"Topic3\", \"Topic3\", \"Topic3\", \"Topic3\", \"Topic3\", \"Topic3\", \"Topic3\", \"Topic3\", \"Topic3\", \"Topic3\", \"Topic3\", \"Topic3\", \"Topic3\", \"Topic3\", \"Topic3\", \"Topic3\", \"Topic3\", \"Topic3\", \"Topic3\", \"Topic3\", \"Topic3\", \"Topic3\", \"Topic3\", \"Topic3\", \"Topic3\", \"Topic3\", \"Topic3\", \"Topic3\", \"Topic3\", \"Topic3\", \"Topic3\", \"Topic3\", \"Topic3\", \"Topic3\", \"Topic3\", \"Topic3\", \"Topic3\", \"Topic3\", \"Topic3\", \"Topic3\", \"Topic3\", \"Topic3\", \"Topic3\", \"Topic3\", \"Topic3\", \"Topic3\", \"Topic3\", \"Topic3\", \"Topic3\", \"Topic3\", \"Topic3\", \"Topic3\", \"Topic3\", \"Topic3\", \"Topic3\", \"Topic3\", \"Topic3\", \"Topic3\", \"Topic3\", \"Topic3\", \"Topic3\", \"Topic3\", \"Topic3\", \"Topic4\", \"Topic4\", \"Topic4\", \"Topic4\", \"Topic4\", \"Topic4\", \"Topic4\", \"Topic4\", \"Topic4\", \"Topic4\", \"Topic4\", \"Topic4\", \"Topic4\", \"Topic4\", \"Topic4\", \"Topic4\", \"Topic4\", \"Topic4\", \"Topic4\", \"Topic4\", \"Topic4\", \"Topic4\", \"Topic4\", \"Topic4\", \"Topic4\", \"Topic4\", \"Topic4\", \"Topic4\", \"Topic4\", \"Topic4\", \"Topic4\", \"Topic4\", \"Topic4\", \"Topic4\", \"Topic4\", \"Topic4\", \"Topic4\", \"Topic4\", \"Topic4\", \"Topic4\", \"Topic4\", \"Topic4\", \"Topic4\", \"Topic4\", \"Topic4\", \"Topic4\", \"Topic4\", \"Topic4\", \"Topic4\", \"Topic4\", \"Topic4\", \"Topic4\", \"Topic4\", \"Topic4\", \"Topic4\", \"Topic4\", \"Topic4\", \"Topic4\", \"Topic4\", \"Topic4\", \"Topic4\", \"Topic4\", \"Topic4\", \"Topic4\", \"Topic4\", \"Topic4\", \"Topic4\", \"Topic4\", \"Topic4\", \"Topic4\", \"Topic4\", \"Topic4\", \"Topic4\", \"Topic4\", \"Topic4\", \"Topic4\", \"Topic5\", \"Topic5\", \"Topic5\", \"Topic5\", \"Topic5\", \"Topic5\", \"Topic5\", \"Topic5\", \"Topic5\", \"Topic5\", \"Topic5\", \"Topic5\", \"Topic5\", \"Topic5\", \"Topic5\", \"Topic5\", \"Topic5\", \"Topic5\", \"Topic5\", \"Topic5\", \"Topic5\", \"Topic5\", \"Topic5\", \"Topic5\", \"Topic5\", \"Topic5\", \"Topic5\", \"Topic5\", \"Topic5\", \"Topic5\", \"Topic5\", \"Topic5\", \"Topic5\", \"Topic5\", \"Topic5\", \"Topic5\", \"Topic5\", \"Topic5\", \"Topic5\", \"Topic5\", \"Topic5\", \"Topic5\", \"Topic5\", \"Topic5\", \"Topic5\", \"Topic5\", \"Topic5\", \"Topic5\", \"Topic5\", \"Topic5\", \"Topic5\", \"Topic5\", \"Topic5\", \"Topic5\", \"Topic5\", \"Topic5\", \"Topic5\", \"Topic5\", \"Topic5\", \"Topic5\", \"Topic5\", \"Topic5\", \"Topic5\", \"Topic5\", \"Topic5\", \"Topic5\", \"Topic5\", \"Topic5\", \"Topic5\", \"Topic6\", \"Topic6\", \"Topic6\", \"Topic6\", \"Topic6\", \"Topic6\", \"Topic6\", \"Topic6\", \"Topic6\", \"Topic6\", \"Topic6\", \"Topic6\", \"Topic6\", \"Topic6\", \"Topic6\", \"Topic6\", \"Topic6\", \"Topic6\", \"Topic6\", \"Topic6\", \"Topic6\", \"Topic6\", \"Topic6\", \"Topic6\", \"Topic6\", \"Topic6\", \"Topic6\", \"Topic6\", \"Topic6\", \"Topic6\", \"Topic6\", \"Topic6\", \"Topic6\", \"Topic6\", \"Topic6\", \"Topic6\", \"Topic6\", \"Topic6\", \"Topic6\", \"Topic6\", \"Topic6\", \"Topic6\", \"Topic6\", \"Topic6\", \"Topic6\", \"Topic6\", \"Topic6\", \"Topic6\", \"Topic6\", \"Topic6\", \"Topic6\", \"Topic6\", \"Topic6\", \"Topic6\", \"Topic6\", \"Topic6\", \"Topic6\", \"Topic6\", \"Topic6\", \"Topic6\", \"Topic6\", \"Topic6\", \"Topic6\", \"Topic6\", \"Topic6\", \"Topic6\", \"Topic6\", \"Topic6\", \"Topic6\", \"Topic6\", \"Topic6\", \"Topic6\", \"Topic6\", \"Topic6\", \"Topic6\", \"Topic7\", \"Topic7\", \"Topic7\", \"Topic7\", \"Topic7\", \"Topic7\", \"Topic7\", \"Topic7\", \"Topic7\", \"Topic7\", \"Topic7\", \"Topic7\", \"Topic7\", \"Topic7\", \"Topic7\", \"Topic7\", \"Topic7\", \"Topic7\", \"Topic7\", \"Topic7\", \"Topic7\", \"Topic7\", \"Topic7\", \"Topic7\", \"Topic7\", \"Topic7\", \"Topic7\", \"Topic7\", \"Topic7\", \"Topic7\", \"Topic7\", \"Topic7\", \"Topic7\", \"Topic7\", \"Topic7\", \"Topic7\", \"Topic7\", \"Topic7\", \"Topic7\", \"Topic7\", \"Topic7\", \"Topic7\", \"Topic7\", \"Topic7\", \"Topic7\", \"Topic7\", \"Topic7\", \"Topic7\", \"Topic7\", \"Topic7\", \"Topic7\", \"Topic7\", \"Topic7\", \"Topic7\", \"Topic7\", \"Topic7\", \"Topic7\", \"Topic7\", \"Topic7\", \"Topic7\", \"Topic7\", \"Topic7\", \"Topic7\", \"Topic7\", \"Topic7\", \"Topic7\", \"Topic7\", \"Topic7\", \"Topic7\", \"Topic7\", \"Topic7\", \"Topic7\", \"Topic7\", \"Topic7\", \"Topic7\", \"Topic7\", \"Topic7\", \"Topic7\", \"Topic8\", \"Topic8\", \"Topic8\", \"Topic8\", \"Topic8\", \"Topic8\", \"Topic8\", \"Topic8\", \"Topic8\", \"Topic8\", \"Topic8\", \"Topic8\", \"Topic8\", \"Topic8\", \"Topic8\", \"Topic8\", \"Topic8\", \"Topic8\", \"Topic8\", \"Topic8\", \"Topic8\", \"Topic8\", \"Topic8\", \"Topic8\", \"Topic8\", \"Topic8\", \"Topic8\", \"Topic8\", \"Topic8\", \"Topic8\", \"Topic8\", \"Topic8\", \"Topic8\", \"Topic8\", \"Topic8\", \"Topic8\", \"Topic8\", \"Topic8\", \"Topic8\", \"Topic8\", \"Topic8\", \"Topic8\", \"Topic8\", \"Topic8\", \"Topic8\", \"Topic8\", \"Topic8\", \"Topic8\", \"Topic8\", \"Topic8\", \"Topic8\", \"Topic8\", \"Topic8\", \"Topic8\", \"Topic8\", \"Topic8\", \"Topic8\", \"Topic8\", \"Topic8\", \"Topic8\", \"Topic8\", \"Topic8\", \"Topic8\", \"Topic8\", \"Topic8\", \"Topic8\", \"Topic8\", \"Topic8\", \"Topic8\", \"Topic8\", \"Topic8\", \"Topic8\", \"Topic8\", \"Topic8\", \"Topic8\", \"Topic8\", \"Topic9\", \"Topic9\", \"Topic9\", \"Topic9\", \"Topic9\", \"Topic9\", \"Topic9\", \"Topic9\", \"Topic9\", \"Topic9\", \"Topic9\", \"Topic9\", \"Topic9\", \"Topic9\", \"Topic9\", \"Topic9\", \"Topic9\", \"Topic9\", \"Topic9\", \"Topic9\", \"Topic9\", \"Topic9\", \"Topic9\", \"Topic9\", \"Topic9\", \"Topic9\", \"Topic9\", \"Topic9\", \"Topic9\", \"Topic9\", \"Topic9\", \"Topic9\", \"Topic9\", \"Topic9\", \"Topic9\", \"Topic9\", \"Topic9\", \"Topic9\", \"Topic9\", \"Topic9\", \"Topic9\", \"Topic9\", \"Topic9\", \"Topic9\", \"Topic9\", \"Topic9\", \"Topic9\", \"Topic9\", \"Topic9\", \"Topic9\", \"Topic9\", \"Topic9\", \"Topic9\", \"Topic9\", \"Topic9\", \"Topic9\", \"Topic9\", \"Topic9\", \"Topic9\", \"Topic10\", \"Topic10\", \"Topic10\", \"Topic10\", \"Topic10\", \"Topic10\", \"Topic10\", \"Topic10\", \"Topic10\", \"Topic10\", \"Topic10\", \"Topic10\", \"Topic10\", \"Topic10\", \"Topic10\", \"Topic10\", \"Topic10\", \"Topic10\", \"Topic10\", \"Topic10\", \"Topic10\", \"Topic10\", \"Topic10\", \"Topic10\", \"Topic10\", \"Topic10\", \"Topic10\", \"Topic10\", \"Topic10\", \"Topic10\", \"Topic10\", \"Topic10\", \"Topic10\", \"Topic10\", \"Topic10\", \"Topic10\", \"Topic10\", \"Topic10\", \"Topic10\", \"Topic10\", \"Topic10\", \"Topic10\", \"Topic10\", \"Topic10\", \"Topic10\", \"Topic10\", \"Topic10\", \"Topic10\", \"Topic10\", \"Topic10\", \"Topic10\", \"Topic10\", \"Topic10\", \"Topic10\", \"Topic10\", \"Topic10\", \"Topic10\", \"Topic10\", \"Topic10\", \"Topic10\", \"Topic10\", \"Topic10\", \"Topic10\", \"Topic10\", \"Topic11\", \"Topic11\", \"Topic11\", \"Topic11\", \"Topic11\", \"Topic11\", \"Topic11\", \"Topic11\", \"Topic11\", \"Topic11\", \"Topic11\", \"Topic11\", \"Topic11\", \"Topic11\", \"Topic11\", \"Topic11\", \"Topic11\", \"Topic11\", \"Topic11\", \"Topic11\", \"Topic11\", \"Topic11\", \"Topic11\", \"Topic11\", \"Topic11\", \"Topic11\", \"Topic11\", \"Topic11\", \"Topic11\", \"Topic11\", \"Topic11\", \"Topic11\", \"Topic11\", \"Topic11\", \"Topic11\", \"Topic11\", \"Topic11\", \"Topic11\", \"Topic11\", \"Topic11\", \"Topic11\", \"Topic11\", \"Topic11\", \"Topic11\", \"Topic11\", \"Topic11\", \"Topic11\", \"Topic11\", \"Topic11\", \"Topic11\", \"Topic11\", \"Topic11\", \"Topic11\", \"Topic11\", \"Topic11\", \"Topic11\", \"Topic11\", \"Topic12\", \"Topic12\", \"Topic12\", \"Topic12\", \"Topic12\", \"Topic12\", \"Topic12\", \"Topic12\", \"Topic12\", \"Topic12\", \"Topic12\", \"Topic12\", \"Topic12\", \"Topic12\", \"Topic12\", \"Topic12\", \"Topic12\", \"Topic12\", \"Topic12\", \"Topic12\", \"Topic12\", \"Topic12\", \"Topic12\", \"Topic12\", \"Topic12\", \"Topic12\", \"Topic12\", \"Topic12\", \"Topic12\", \"Topic12\", \"Topic12\", \"Topic12\", \"Topic12\", \"Topic12\", \"Topic12\", \"Topic12\", \"Topic12\", \"Topic12\", \"Topic12\", \"Topic12\", \"Topic12\", \"Topic12\", \"Topic12\", \"Topic12\", \"Topic12\", \"Topic12\", \"Topic12\", \"Topic12\", \"Topic12\", \"Topic12\", \"Topic12\", \"Topic12\", \"Topic12\", \"Topic12\", \"Topic12\", \"Topic12\", \"Topic12\", \"Topic12\", \"Topic12\", \"Topic12\", \"Topic12\", \"Topic12\", \"Topic12\", \"Topic12\", \"Topic12\", \"Topic12\", \"Topic12\", \"Topic12\", \"Topic13\", \"Topic13\", \"Topic13\", \"Topic13\", \"Topic13\", \"Topic13\", \"Topic13\", \"Topic13\", \"Topic13\", \"Topic13\", \"Topic13\", \"Topic13\", \"Topic13\", \"Topic13\", \"Topic13\", \"Topic13\", \"Topic13\", \"Topic13\", \"Topic13\", \"Topic13\", \"Topic13\", \"Topic13\", \"Topic13\", \"Topic13\", \"Topic13\", \"Topic13\", \"Topic13\", \"Topic13\", \"Topic13\", \"Topic13\", \"Topic13\", \"Topic13\", \"Topic13\", \"Topic13\", \"Topic13\", \"Topic13\", \"Topic13\", \"Topic13\", \"Topic13\", \"Topic13\", \"Topic13\", \"Topic13\", \"Topic13\", \"Topic13\", \"Topic13\", \"Topic13\", \"Topic13\", \"Topic13\", \"Topic13\", \"Topic13\", \"Topic13\", \"Topic13\", \"Topic13\", \"Topic13\", \"Topic13\", \"Topic13\", \"Topic13\", \"Topic13\", \"Topic13\", \"Topic14\", \"Topic14\", \"Topic14\", \"Topic14\", \"Topic14\", \"Topic14\", \"Topic14\", \"Topic14\", \"Topic14\", \"Topic14\", \"Topic14\", \"Topic14\", \"Topic14\", \"Topic14\", \"Topic14\", \"Topic14\", \"Topic14\", \"Topic14\", \"Topic14\", \"Topic14\", \"Topic14\", \"Topic14\", \"Topic14\", \"Topic14\", \"Topic14\", \"Topic14\", \"Topic14\", \"Topic14\", \"Topic14\", \"Topic14\", \"Topic14\", \"Topic14\", \"Topic14\", \"Topic14\", \"Topic14\", \"Topic14\", \"Topic14\", \"Topic14\", \"Topic14\", \"Topic14\", \"Topic14\", \"Topic14\", \"Topic14\", \"Topic14\", \"Topic14\", \"Topic14\", \"Topic14\", \"Topic14\", \"Topic15\", \"Topic15\", \"Topic15\", \"Topic15\", \"Topic15\", \"Topic15\", \"Topic15\", \"Topic15\", \"Topic15\", \"Topic15\", \"Topic15\", \"Topic15\", \"Topic15\", \"Topic15\", \"Topic15\", \"Topic15\", \"Topic15\", \"Topic15\", \"Topic15\", \"Topic15\", \"Topic15\", \"Topic15\", \"Topic15\", \"Topic15\", \"Topic15\", \"Topic15\", \"Topic15\", \"Topic15\", \"Topic15\", \"Topic15\", \"Topic15\", \"Topic15\", \"Topic15\", \"Topic15\", \"Topic15\", \"Topic15\", \"Topic15\", \"Topic15\", \"Topic15\", \"Topic15\", \"Topic15\", \"Topic15\", \"Topic15\", \"Topic15\", \"Topic15\", \"Topic15\", \"Topic15\", \"Topic15\", \"Topic15\", \"Topic15\", \"Topic15\", \"Topic15\", \"Topic15\", \"Topic15\", \"Topic15\", \"Topic15\", \"Topic15\", \"Topic15\", \"Topic15\", \"Topic15\", \"Topic16\", \"Topic16\", \"Topic16\", \"Topic16\", \"Topic16\", \"Topic16\", \"Topic16\", \"Topic16\", \"Topic16\", \"Topic16\", \"Topic16\", \"Topic16\", \"Topic16\", \"Topic16\", \"Topic16\", \"Topic16\", \"Topic16\", \"Topic16\", \"Topic16\", \"Topic16\", \"Topic16\", \"Topic16\", \"Topic16\", \"Topic16\", \"Topic16\", \"Topic16\", \"Topic16\", \"Topic16\", \"Topic16\", \"Topic16\", \"Topic16\", \"Topic16\", \"Topic16\", \"Topic16\", \"Topic16\", \"Topic16\", \"Topic16\", \"Topic16\", \"Topic16\", \"Topic16\", \"Topic16\", \"Topic16\", \"Topic16\", \"Topic16\", \"Topic16\", \"Topic16\", \"Topic16\", \"Topic16\", \"Topic16\", \"Topic16\", \"Topic16\", \"Topic16\", \"Topic16\", \"Topic16\", \"Topic16\", \"Topic16\", \"Topic16\", \"Topic16\", \"Topic16\", \"Topic17\", \"Topic17\", \"Topic17\", \"Topic17\", \"Topic17\", \"Topic17\", \"Topic17\", \"Topic17\", \"Topic17\", \"Topic17\", \"Topic17\", \"Topic17\", \"Topic17\", \"Topic17\", \"Topic17\", \"Topic17\", \"Topic17\", \"Topic17\", \"Topic17\", \"Topic17\", \"Topic17\", \"Topic17\", \"Topic17\", \"Topic17\", \"Topic17\", \"Topic17\", \"Topic17\", \"Topic17\", \"Topic17\", \"Topic17\", \"Topic17\", \"Topic17\", \"Topic17\", \"Topic17\", \"Topic17\", \"Topic17\", \"Topic17\", \"Topic17\", \"Topic17\", \"Topic17\", \"Topic18\", \"Topic18\", \"Topic18\", \"Topic18\", \"Topic18\", \"Topic18\", \"Topic18\", \"Topic18\", \"Topic18\", \"Topic18\", \"Topic18\", \"Topic18\", \"Topic18\", \"Topic18\", \"Topic18\", \"Topic18\", \"Topic18\", \"Topic18\", \"Topic18\", \"Topic18\", \"Topic18\", \"Topic18\", \"Topic18\", \"Topic18\", \"Topic18\", \"Topic18\", \"Topic18\", \"Topic18\", \"Topic18\", \"Topic18\", \"Topic18\", \"Topic18\", \"Topic18\", \"Topic18\", \"Topic18\", \"Topic18\", \"Topic18\", \"Topic18\", \"Topic18\", \"Topic18\", \"Topic18\", \"Topic18\", \"Topic18\", \"Topic18\", \"Topic19\", \"Topic19\", \"Topic19\", \"Topic19\", \"Topic19\", \"Topic19\", \"Topic19\", \"Topic19\", \"Topic19\", \"Topic19\", \"Topic19\", \"Topic19\", \"Topic19\", \"Topic19\", \"Topic19\", \"Topic19\", \"Topic19\", \"Topic19\", \"Topic19\", \"Topic19\", \"Topic19\", \"Topic19\", \"Topic19\", \"Topic19\", \"Topic19\", \"Topic19\", \"Topic19\", \"Topic19\", \"Topic19\", \"Topic19\", \"Topic19\", \"Topic19\", \"Topic19\", \"Topic19\", \"Topic19\", \"Topic19\", \"Topic19\", \"Topic19\", \"Topic19\", \"Topic19\", \"Topic19\", \"Topic19\", \"Topic19\", \"Topic19\", \"Topic20\", \"Topic20\", \"Topic20\", \"Topic20\", \"Topic20\", \"Topic20\", \"Topic20\", \"Topic20\", \"Topic20\", \"Topic20\", \"Topic20\", \"Topic20\", \"Topic20\", \"Topic20\", \"Topic20\", \"Topic20\", \"Topic20\", \"Topic20\", \"Topic20\", \"Topic20\", \"Topic20\", \"Topic20\", \"Topic20\", \"Topic20\", \"Topic20\", \"Topic20\", \"Topic20\", \"Topic20\", \"Topic20\", \"Topic20\", \"Topic20\", \"Topic20\", \"Topic20\", \"Topic20\", \"Topic20\", \"Topic20\", \"Topic20\", \"Topic20\", \"Topic20\", \"Topic20\", \"Topic20\", \"Topic20\"], \"logprob\": [30.0, 29.0, 28.0, 27.0, 26.0, 25.0, 24.0, 23.0, 22.0, 21.0, 20.0, 19.0, 18.0, 17.0, 16.0, 15.0, 14.0, 13.0, 12.0, 11.0, 10.0, 9.0, 8.0, 7.0, 6.0, 5.0, 4.0, 3.0, 2.0, 1.0, -6.0745, -6.5733, -6.6379, -6.9175, -6.9537, -6.9642, -5.7595, -7.02, -7.0649, -7.1809, -7.2203, -7.2612, -7.353, -7.5272, -7.5722, -7.5763, -7.6245, -7.6463, -6.7681, -7.7793, -7.7882, -7.7935, -7.8053, -7.8145, -6.1674, -7.8237, -7.8902, -7.8959, -7.9079, -7.9246, -6.9371, -6.1027, -7.181, -7.4207, -6.1476, -6.1631, -7.0659, -7.2459, -6.6758, -7.2282, -6.7814, -6.0124, -5.4566, -6.7611, -5.6536, -5.1837, -6.671, -6.1513, -6.2111, -6.5029, -6.3782, -5.5632, -4.5002, -5.6501, -5.9268, -4.3299, -4.879, -5.8817, -5.115, -5.1631, -5.5087, -5.5501, -6.1251, -6.0294, -5.6254, -5.7263, -5.0689, -5.9439, -6.0327, -5.8059, -5.1797, -5.7914, -5.3475, -5.4535, -5.5662, -5.4973, -5.5201, -5.4385, -5.7274, -5.6743, -5.7935, -5.7889, -5.8427, -5.1741, -5.51, -5.6374, -6.0191, -6.1006, -6.1302, -6.2124, -6.3126, -6.4009, -6.417, -6.6344, -6.6507, -6.6702, -6.7085, -6.725, -6.8017, -6.8207, -6.8262, -6.8385, -6.9102, -6.9531, -6.9896, -6.9962, -7.0082, -7.0127, -7.06, -7.0924, -7.1216, -7.1507, -7.1529, -4.1095, -5.0809, -6.4189, -5.7539, -6.1388, -5.1543, -5.7836, -4.8968, -4.9623, -6.422, -6.4795, -5.5304, -5.8413, -5.6304, -5.4173, -4.5337, -5.9792, -5.7782, -5.4131, -5.3105, -5.0614, -4.7352, -5.1925, -5.8321, -5.7041, -5.1647, -5.328, -5.3381, -5.4584, -5.1695, -5.648, -5.5652, -5.4062, -5.3774, -5.3356, -5.4137, -5.1877, -5.4929, -5.4961, -5.6281, -4.9306, -5.5641, -5.6261, -6.2183, -6.223, -6.3767, -6.4082, -6.5752, -6.6506, -6.6512, -6.6999, -6.7249, -6.7901, -6.8462, -6.9001, -6.9248, -6.9422, -6.9545, -6.9637, -6.9921, -7.0168, -7.0611, -7.1108, -7.1744, -7.233, -7.2627, -7.2903, -7.3025, -7.362, -7.3648, -4.7046, -5.7016, -5.4532, -6.1695, -5.8732, -5.7596, -4.4179, -4.8689, -5.9501, -5.7155, -5.0936, -4.3369, -5.2824, -5.3868, -5.5734, -5.5787, -6.0577, -5.9203, -5.8858, -5.5561, -5.6918, -4.6351, -5.8404, -4.5056, -4.59, -5.2081, -5.7142, -4.8517, -4.7575, -4.441, -5.4575, -4.9176, -5.1029, -5.4008, -4.3689, -4.5947, -5.1454, -5.4077, -5.1739, -5.0308, -5.1452, -5.2844, -5.3801, -5.2771, -5.4342, -5.4841, -6.1516, -6.4416, -6.4925, -6.4965, -6.563, -6.617, -6.6722, -6.8079, -6.8185, -6.8375, -6.9158, -7.1423, -7.2012, -7.2156, -7.2592, -7.3634, -7.3994, -7.4467, -7.5331, -7.5522, -7.5531, -7.5945, -7.6157, -7.6316, -7.6452, -7.6485, -7.6535, -7.659, -7.6732, -6.3781, -5.0187, -6.5887, -6.2045, -6.1029, -5.8286, -6.9277, -6.1772, -5.4379, -6.563, -5.2756, -5.5034, -6.8732, -6.0828, -4.5442, -5.4292, -5.9545, -5.4651, -5.3698, -6.2867, -5.9312, -5.0332, -5.9764, -5.9987, -4.6793, -5.663, -4.6713, -5.4063, -4.8519, -5.6615, -4.7681, -5.313, -5.9691, -5.3585, -5.2027, -5.2264, -5.2964, -5.3837, -5.5156, -5.0976, -5.558, -5.4763, -5.5551, -5.6973, -5.5344, -5.6447, -5.5433, -5.7139, -5.8478, -5.8889, -5.985, -6.2449, -6.3781, -6.4137, -6.5073, -6.5401, -6.5869, -6.6383, -6.6844, -6.6948, -6.7325, -6.7328, -6.7702, -6.914, -6.9173, -6.9334, -6.9737, -7.0779, -7.122, -7.1335, -7.1534, -7.1546, -7.1548, -7.2032, -7.2085, -7.2422, -6.0168, -6.4583, -6.337, -5.0142, -5.9291, -6.262, -6.8014, -4.0972, -6.4118, -6.0526, -4.8644, -6.5446, -5.0953, -5.2134, -5.323, -5.5274, -5.5845, -6.2393, -5.3176, -5.96, -6.214, -5.9736, -5.6202, -6.0958, -5.2123, -5.7686, -5.7295, -5.5144, -5.5275, -6.0306, -6.0327, -5.4208, -5.9953, -5.7927, -5.7429, -5.8568, -5.9226, -5.9679, -5.9832, -5.4557, -5.9247, -6.1526, -6.3108, -6.3208, -6.6318, -6.823, -6.8606, -6.9138, -6.9576, -6.9869, -7.1335, -7.1738, -7.206, -7.2086, -7.2307, -7.2905, -7.2996, -7.3087, -7.336, -7.3401, -7.3467, -7.3508, -7.3532, -6.2787, -7.3924, -7.4291, -7.4611, -7.4657, -7.4692, -4.5523, -6.5489, -6.1932, -6.8343, -6.3881, -5.5156, -6.5095, -6.6679, -5.5717, -4.9757, -6.1195, -6.2339, -5.5536, -6.6227, -5.6205, -5.7957, -6.2495, -5.5439, -5.9471, -4.8379, -5.7017, -6.1232, -4.8627, -5.4825, -5.6727, -5.8474, -5.4234, -4.6232, -4.7761, -4.5028, -5.1395, -5.6329, -5.2565, -5.715, -5.8729, -5.8385, -5.2312, -5.449, -5.3958, -5.5853, -5.6374, -5.7001, -5.6376, -5.7245, -5.6938, -6.1615, -6.5016, -6.5929, -6.6213, -6.7304, -6.7648, -6.8212, -6.8932, -6.9393, -6.9533, -6.9584, -6.962, -7.1117, -7.1352, -7.1393, -7.1525, -7.1571, -7.1855, -7.1984, -7.2565, -6.5573, -7.3208, -7.3362, -7.2869, -6.5722, -7.4191, -7.4224, -7.4312, -7.4422, -7.4464, -5.8852, -6.6167, -6.6904, -6.104, -6.7972, -6.7106, -6.8178, -5.6189, -6.5601, -6.8373, -6.867, -4.4638, -5.9751, -4.1682, -6.3563, -5.5877, -6.3646, -4.8516, -4.9415, -6.256, -4.7193, -5.5899, -5.9687, -5.0, -5.2038, -4.9207, -5.265, -4.9052, -4.9328, -5.9988, -6.0704, -5.2265, -5.559, -5.4144, -5.5528, -5.0743, -5.6117, -5.6526, -5.1853, -4.9936, -5.5909, -5.4216, -5.6498, -5.5783, -5.5682, -5.6893, -5.4971, -5.579, -4.9652, -5.6438, -5.5659, -6.228, -6.2392, -6.5678, -6.6404, -6.6537, -6.6637, -6.788, -6.9718, -6.9892, -6.9952, -7.0272, -7.0615, -7.1436, -7.164, -7.2122, -7.222, -7.2368, -7.2535, -7.2604, -7.2134, -7.3011, -7.3072, -6.6372, -5.6559, -7.3533, -7.4262, -7.4264, -5.8792, -6.4398, -6.4516, -6.5171, -6.7153, -5.9391, -5.3112, -6.7724, -5.1413, -6.5466, -6.4782, -5.9083, -5.4119, -5.8432, -5.9131, -5.569, -5.9987, -5.7983, -6.4072, -5.5059, -6.0844, -5.0349, -5.72, -5.6902, -6.1616, -5.5495, -5.8246, -6.1326, -4.2933, -5.4921, -5.292, -5.0082, -5.792, -5.8126, -4.8104, -5.3551, -5.8243, -5.4542, -5.4004, -5.827, -5.648, -5.6533, -5.6925, -5.6722, -5.7218, -5.8195, -4.2697, -4.5138, -4.7586, -4.9762, -5.172, -5.2729, -5.3822, -5.5335, -5.8232, -5.838, -5.9205, -5.9747, -6.0429, -6.0448, -6.0897, -6.0944, -6.1204, -6.1324, -6.1673, -6.1714, -6.1837, -6.2402, -6.243, -6.2694, -6.3128, -6.3173, -6.3406, -6.4177, -6.4871, -6.5085, -4.3887, -6.1791, -4.3247, -5.4448, -5.3574, -4.6176, -5.0432, -5.2304, -5.6487, -5.4015, -5.6755, -5.4875, -5.9346, -5.6585, -5.3287, -5.7799, -5.5424, -5.3888, -5.8597, -5.7049, -5.52, -5.1081, -5.5717, -4.877, -5.3156, -5.5221, -5.3554, -5.5641, -5.5771, -5.0902, -5.2194, -5.5436, -5.6321, -5.8388, -5.9422, -6.0346, -6.1486, -6.1545, -6.2484, -6.29, -6.3526, -6.3571, -6.3664, -6.3893, -6.608, -6.6493, -6.66, -6.6664, -6.6667, -6.688, -6.7088, -6.7876, -6.8401, -6.9012, -6.9085, -6.9162, -6.9291, -6.9296, -6.93, -6.1691, -5.7837, -6.2465, -6.3935, -6.4459, -5.1692, -5.8775, -5.5306, -4.6571, -5.7628, -5.9158, -5.5044, -5.4556, -5.9564, -5.3331, -5.5219, -5.3028, -5.3571, -4.7012, -5.1274, -5.6162, -4.9132, -5.2885, -5.4871, -5.456, -5.2838, -5.3615, -5.4111, -5.4456, -5.62, -5.6195, -5.444, -5.7353, -5.7755, -4.1636, -4.5994, -4.6143, -4.6331, -4.9357, -4.4507, -5.5431, -5.6372, -5.8571, -5.919, -5.9465, -5.9814, -5.9812, -6.0119, -6.002, -6.0967, -6.1198, -6.1215, -6.1293, -6.1534, -6.1827, -6.3188, -6.3359, -6.4075, -6.2084, -6.5194, -6.5222, -6.5321, -6.5439, -6.5879, -3.9267, -3.8581, -5.2835, -6.0049, -5.0184, -5.5212, -5.8257, -5.4299, -5.4441, -4.5634, -5.5527, -5.7852, -5.3457, -5.4688, -5.776, -5.5588, -5.6159, -5.6786, -5.5684, -5.5389, -5.4124, -4.8668, -5.4573, -5.3085, -5.3015, -5.5623, -5.6655, -6.093, -6.1132, -6.1137, -6.1249, -6.4361, -6.446, -6.499, -6.5445, -6.5904, -6.6169, -6.6144, -6.6271, -6.6427, -6.646, -6.6511, -6.692, -6.6928, -6.7028, -6.731, -6.7507, -6.7098, -6.8009, -6.8475, -6.865, -6.8651, -6.8886, -6.8897, -6.8897, -6.5357, -7.0162, -6.6346, -6.1377, -6.1856, -6.2034, -5.5648, -5.8136, -5.2511, -4.7906, -5.5978, -6.2787, -6.1113, -5.581, -5.9566, -5.9902, -5.5283, -4.8685, -6.0283, -5.5275, -5.8327, -4.8947, -6.2983, -5.6645, -5.1683, -6.07, -5.98, -5.3652, -5.7333, -5.969, -5.8824, -5.7923, -5.8323, -5.6703, -5.9545, -5.9054, -5.9565, -5.9846, -6.0104, -6.0424, -4.1455, -5.0876, -4.9659, -5.5905, -5.5923, -5.6895, -5.7855, -5.844, -5.9409, -6.0958, -5.3617, -6.2578, -6.2898, -6.3037, -6.3415, -6.3465, -6.3614, -6.47, -6.5528, -6.5794, -6.664, -6.7405, -3.7207, -6.7707, -6.857, -6.8834, -6.9108, -6.9217, -6.9356, -6.9432, -4.8218, -4.5719, -4.7522, -3.9774, -4.2211, -4.7161, -6.405, -5.1036, -4.9765, -4.4482, -4.405, -4.5165, -5.2095, -4.2536, -5.0715, -5.1618, -4.5455, -5.3095, -4.8309, -4.4277, -5.1387, -4.8329, -4.679, -5.0894, -4.7685, -5.1661, -5.0324, -5.2254, -5.1616, -4.2411, -4.4442, -4.8593, -4.8965, -5.1143, -5.1424, -5.4114, -5.4943, -5.4996, -5.5226, -5.5382, -5.5514, -5.5912, -5.7161, -5.7867, -5.816, -5.912, -5.9166, -5.9402, -6.0215, -6.0281, -6.0314, -6.0791, -6.1157, -6.1204, -6.1234, -6.1266, -6.1345, -6.1675, -6.1713, -3.8734, -5.2146, -3.6834, -5.5139, -4.8465, -5.2295, -4.3746, -4.8488, -5.4564, -5.0021, -5.3356, -5.5093, -5.3802, -5.1623, -4.9546, -5.3118, -5.4868, -5.5137, -4.3389, -5.1118, -5.2015, -5.243, -5.2525, -5.2721, -5.3462, -5.4316, -5.4611, -5.4967, -5.5649, -5.639, -5.6813, -5.7287, -5.9324, -5.9692, -2.7698, -5.9821, -5.9843, -6.0404, -6.1226, -4.8452, -5.4201, -6.2103, -5.1353, -6.2499, -6.3775, -6.3859, -6.3885, -6.3897, -5.8616, -5.4435, -3.7193, -4.8372, -5.2052, -5.3, -5.5385, -5.063, -5.31, -4.94, -4.6336, -4.5915, -5.2365, -4.7974, -4.6019, -3.9451, -5.1522, -4.4522, -4.2626, -4.5563, -5.0274, -4.3677, -4.6792, -5.235, -5.0043, -4.864, -4.9873, -5.1177, -5.093, -5.2127, -4.4583, -5.6586, -5.6985, -5.7034, -5.7225, -5.7945, -5.804, -5.8213, -5.8277, -5.8507, -5.8523, -5.8564, -5.3586, -5.8877, -5.8967, -5.9031, -5.9258, -5.953, -5.9806, -5.9812, -5.9821, -5.9865, -6.0107, -6.0548, -6.064, -6.0689, -6.0785, -6.087, -6.0963, -6.1036, -5.0155, -5.8037, -5.4752, -5.3955, -4.9111, -3.5435, -5.6462, -5.1652, -5.1609, -5.2287, -5.3932, -5.1123, -4.3781, -4.1113, -5.5262, -5.2997, -5.3216, -4.9919, -5.5457, -5.444, -4.9188, -5.382, -5.4876, -5.5902, -5.4818, -5.0989, -5.5649, -5.6328, -5.5778, -3.7351, -4.3309, -4.4226, -4.5959, -5.0125, -5.0483, -5.0872, -5.212, -5.3066, -5.3897, -5.4397, -5.4761, -5.5096, -5.5323, -5.5514, -5.571, -5.5759, -5.6036, -5.6208, -5.6374, -5.7105, -5.7148, -5.7183, -5.7696, -5.8308, -4.748, -5.9133, -5.9714, -5.9786, -6.0047, -5.7071, -4.5074, -4.5803, -5.3692, -5.0629, -5.3279, -5.2996, -4.7574, -5.6378, -5.6264, -5.1418, -5.2012, -5.3533, -5.3999, -5.4897, -5.5414, -5.5649, -5.5867, -5.6102, -5.6368, -5.6369, -5.6714, -5.6731, -5.7076, -5.7472, -5.776, -5.8019, -5.8258, -5.8584, -5.8803, -5.9011, -5.9129, -5.9154, -5.9381, -5.9707, -5.9711, -5.9884, -6.0156, -6.0161, -6.0422, -5.2586, -5.5054, -5.3966, -3.859, -5.1387, -5.1919, -5.5839, -4.9469, -5.8006, -5.3702, -5.7292, -5.6898, -5.5139, -5.6707, -4.7569, -4.8002, -5.0195, -5.0519, -5.1138, -5.1398, -5.2119, -5.2752, -5.4138, -5.5275, -5.5388, -5.5445, -5.5834, -5.6379, -5.6688, -5.6743, -5.687, -5.6952, -5.7076, -5.7178, -5.7358, -5.7649, -5.8255, -5.8379, -5.8596, -5.8917, -5.8948, -5.8979, -5.9342, -5.9622, -4.199, -4.6271, -5.6981, -5.356, -5.0866, -5.1978, -5.4296, -4.9457, -4.9445, -5.0289, -5.3448, -5.4947, -5.57, -5.6907, -4.6915, -4.7718, -4.9145, -4.9395, -5.0068, -5.0573, -5.5062, -5.5146, -5.5313, -5.5382, -5.555, -5.5555, -5.6213, -5.6405, -5.7511, -5.2058, -5.7817, -5.7951, -5.8199, -5.8354, -5.9068, -5.9272, -6.03, -6.0608, -6.0648, -6.114, -6.1776, -6.1926, -6.2006, -6.2369, -4.3586, -4.5238, -5.899, -4.511, -5.4631, -4.4323, -5.2445, -5.5474, -5.1044, -5.726, -5.7213, -5.7041], \"loglift\": [30.0, 29.0, 28.0, 27.0, 26.0, 25.0, 24.0, 23.0, 22.0, 21.0, 20.0, 19.0, 18.0, 17.0, 16.0, 15.0, 14.0, 13.0, 12.0, 11.0, 10.0, 9.0, 8.0, 7.0, 6.0, 5.0, 4.0, 3.0, 2.0, 1.0, 1.5702, 1.5689, 1.5686, 1.5675, 1.5673, 1.5673, 1.567, 1.567, 1.5668, 1.5661, 1.5659, 1.5656, 1.565, 1.5633, 1.5632, 1.5632, 1.5627, 1.5625, 1.5615, 1.5612, 1.5611, 1.561, 1.5609, 1.5608, 1.5608, 1.5607, 1.5599, 1.5598, 1.5597, 1.5595, 1.5581, 1.5493, 1.5492, 1.5524, 1.5209, 1.52, 1.5434, 1.5461, 1.5166, 1.531, 1.4974, 1.4183, 1.3551, 1.4831, 1.3692, 1.3168, 1.4712, 1.4065, 1.4134, 1.4465, 1.367, 1.1578, 0.8879, 1.149, 1.2105, 0.6655, 0.8174, 1.1729, 0.8604, 0.8751, 0.9918, 0.9932, 1.2319, 1.1847, 0.9648, 0.9491, 0.4917, 1.0582, 1.0959, 0.8814, 0.2513, 0.866, 0.3611, 0.4365, 0.5279, 0.3864, 0.3822, 0.1417, 0.6102, 0.3994, 0.7168, 0.6428, 0.8083, 2.0953, 2.0948, 2.0945, 2.0935, 2.0932, 2.0931, 2.0928, 2.0924, 2.092, 2.0919, 2.0907, 2.0906, 2.0905, 2.0903, 2.0902, 2.0897, 2.0895, 2.0895, 2.0894, 2.0889, 2.0885, 2.0882, 2.0882, 2.0881, 2.088, 2.0876, 2.0873, 2.087, 2.0867, 2.0867, 2.0803, 2.0829, 2.0847, 2.0739, 2.0745, 2.0454, 2.0601, 2.02, 2.0223, 2.0653, 2.0667, 2.0002, 1.9966, 1.9737, 1.927, 1.8065, 1.9963, 1.961, 1.883, 1.8643, 1.8178, 1.7251, 1.7823, 1.9219, 1.8569, 1.62, 1.671, 1.508, 1.5172, 1.2258, 1.659, 1.5696, 1.388, 1.3282, 1.073, 1.1711, 0.3925, 1.1619, 1.0808, 1.2308, 2.4074, 2.4061, 2.4059, 2.4035, 2.4035, 2.4026, 2.4024, 2.4012, 2.4006, 2.4006, 2.4002, 2.4, 2.3994, 2.3989, 2.3983, 2.3981, 2.3979, 2.3977, 2.3976, 2.3973, 2.397, 2.3965, 2.3959, 2.395, 2.3942, 2.3937, 2.3933, 2.3931, 2.3922, 2.3921, 2.3859, 2.3894, 2.3839, 2.391, 2.3877, 2.3816, 2.3489, 2.3357, 2.3621, 2.3467, 2.3163, 2.2556, 2.3082, 2.3016, 2.2997, 2.2701, 2.3084, 2.2538, 2.2432, 2.1708, 2.1947, 1.9418, 2.2107, 1.8354, 1.8235, 1.8216, 2.105, 1.4883, 1.3802, 1.1196, 1.8719, 1.3919, 1.5518, 1.7929, 0.6266, 0.8363, 1.4906, 1.6748, 1.129, 0.5494, 0.7385, 1.1242, 1.4047, 0.8785, 0.8013, 2.4333, 2.4307, 2.429, 2.4287, 2.4286, 2.4281, 2.4277, 2.4272, 2.426, 2.4259, 2.4257, 2.4249, 2.4221, 2.4212, 2.421, 2.4204, 2.4187, 2.4181, 2.4172, 2.4155, 2.4152, 2.4151, 2.4143, 2.4138, 2.4135, 2.4132, 2.4131, 2.413, 2.4128, 2.4125, 2.4011, 2.3274, 2.3746, 2.322, 2.3057, 2.2198, 2.3317, 2.2327, 2.1138, 2.2717, 2.0505, 2.063, 2.3065, 2.0858, 1.6758, 1.912, 2.0381, 1.8639, 1.7933, 2.1095, 1.9237, 1.3913, 1.9312, 1.9014, 0.8813, 1.6081, 0.7597, 1.3508, 0.8568, 1.528, 0.62, 1.1789, 1.8212, 0.9791, 0.681, 0.6636, 0.679, 0.8204, 0.9476, -0.1021, 0.9565, 0.5474, 0.6805, 1.1154, 0.162, 0.7869, 2.6045, 2.6038, 2.6033, 2.6031, 2.6026, 2.6011, 2.6001, 2.5999, 2.5991, 2.5988, 2.5984, 2.5979, 2.5974, 2.5973, 2.5969, 2.5969, 2.5965, 2.5948, 2.5947, 2.5945, 2.594, 2.5925, 2.5918, 2.5916, 2.5913, 2.5913, 2.5913, 2.5905, 2.5904, 2.5898, 2.5883, 2.5875, 2.5843, 2.553, 2.5597, 2.5691, 2.5823, 2.4484, 2.5617, 2.5349, 2.4088, 2.5392, 2.3087, 2.1676, 2.181, 2.237, 2.1388, 2.4001, 1.9745, 2.2399, 2.3656, 2.159, 1.9006, 2.1974, 1.1831, 1.8103, 1.5267, 1.0704, 0.9344, 1.9495, 1.8835, 0.1594, 1.7762, 0.5886, 0.2807, 0.4835, 1.0561, 1.0306, 1.1868, 2.7792, 2.777, 2.7755, 2.7743, 2.7742, 2.7711, 2.7686, 2.7681, 2.7673, 2.7666, 2.7661, 2.7635, 2.7627, 2.7621, 2.762, 2.7616, 2.7603, 2.7601, 2.7599, 2.7592, 2.7591, 2.759, 2.7589, 2.7588, 2.7588, 2.7579, 2.757, 2.7561, 2.756, 2.7559, 2.7441, 2.7508, 2.7406, 2.7464, 2.7127, 2.6293, 2.6953, 2.7055, 2.5435, 2.4233, 2.5869, 2.5614, 2.3745, 2.6119, 2.3197, 2.3394, 2.4729, 2.2169, 2.3366, 1.8124, 2.1796, 2.3567, 1.6292, 1.9617, 2.0094, 2.0615, 1.5802, 0.7649, 0.9202, 0.4926, 1.1634, 1.7247, 0.8376, 1.6092, 1.8381, 1.7495, 0.3294, 0.7866, 0.3128, 0.3046, 0.5826, 0.7617, 0.2461, 0.9081, 0.3798, 2.8614, 2.8582, 2.8571, 2.8567, 2.8553, 2.8548, 2.854, 2.8528, 2.852, 2.8518, 2.8517, 2.8516, 2.8488, 2.8483, 2.8482, 2.848, 2.8479, 2.8472, 2.847, 2.8456, 2.8449, 2.8441, 2.8437, 2.8433, 2.8416, 2.8415, 2.8414, 2.8412, 2.8409, 2.8407, 2.8234, 2.8317, 2.8285, 2.8116, 2.8236, 2.7884, 2.7727, 2.5786, 2.7235, 2.7699, 2.7672, 1.9176, 2.4223, 1.7341, 2.5305, 2.1505, 2.4989, 1.6596, 1.6976, 2.4123, 1.3544, 1.9066, 2.1631, 1.4246, 1.2581, 0.9692, 1.1982, 0.7912, 0.7759, 1.9896, 2.0514, 0.7972, 1.2738, 1.0173, 1.2308, 0.3567, 1.2416, 1.3024, 0.3949, 0.0019, 1.0424, 0.6725, 1.163, 0.9136, 0.823, 1.2225, 0.3866, 0.3964, 2.8707, 2.8683, 2.867, 2.8646, 2.8645, 2.8611, 2.8602, 2.86, 2.8599, 2.8582, 2.8552, 2.8548, 2.8547, 2.8541, 2.8535, 2.8518, 2.8514, 2.8503, 2.8501, 2.8498, 2.8494, 2.8492, 2.8487, 2.8482, 2.8481, 2.8479, 2.8471, 2.8469, 2.845, 2.845, 2.8417, 2.8444, 2.8417, 2.8301, 2.8289, 2.7628, 2.6964, 2.8043, 2.6398, 2.775, 2.7662, 2.6701, 2.5765, 2.6375, 2.6063, 2.5083, 2.6083, 2.5431, 2.703, 2.4481, 2.5566, 2.0807, 2.3217, 2.2986, 2.5459, 2.0658, 2.2121, 2.4546, 0.7022, 1.8455, 1.6126, 1.1959, 2.0673, 2.0475, 0.5777, 1.2952, 2.0174, 1.2242, 0.4896, 2.022, 0.4461, 0.3221, 0.4631, -0.2412, 0.1619, 1.5047, 3.0643, 3.0639, 3.0633, 3.0628, 3.0621, 3.0617, 3.0613, 3.0605, 3.0588, 3.0587, 3.0581, 3.0577, 3.0571, 3.0569, 3.0567, 3.0566, 3.0564, 3.0563, 3.056, 3.0559, 3.0558, 3.0552, 3.0552, 3.0549, 3.0544, 3.0544, 3.0541, 3.0532, 3.0523, 3.052, 2.9638, 3.0341, 2.907, 2.954, 2.9241, 2.743, 2.7973, 2.7462, 2.8632, 2.7377, 2.8073, 2.6721, 2.9218, 2.7232, 2.4617, 2.7875, 2.5759, 2.3721, 2.8414, 2.6275, 2.3384, 1.5422, 2.3249, 0.5111, 1.589, 2.0551, 1.32, 2.0512, 2.1103, 3.1577, 3.1572, 3.1556, 3.1551, 3.1536, 3.1528, 3.152, 3.1508, 3.1508, 3.1497, 3.1492, 3.1485, 3.1484, 3.1483, 3.148, 3.1447, 3.144, 3.1438, 3.1437, 3.1437, 3.1433, 3.143, 3.1415, 3.1404, 3.1391, 3.1389, 3.1388, 3.1385, 3.1385, 3.1385, 3.102, 3.063, 3.0882, 3.0938, 3.0901, 2.9261, 2.9294, 2.8404, 2.6051, 2.855, 2.882, 2.6969, 2.673, 2.863, 2.5631, 2.5569, 2.3955, 2.42, 1.4543, 1.8475, 2.3565, 1.5937, 1.9068, 1.8203, 1.3382, 0.8538, 1.0471, 1.1737, 0.4381, 1.1298, 1.049, -0.4485, 0.8687, 0.534, 3.1854, 3.1851, 3.1851, 3.185, 3.1842, 3.1822, 3.1815, 3.1809, 3.1793, 3.1788, 3.1785, 3.1782, 3.1782, 3.1779, 3.1775, 3.1771, 3.1769, 3.1769, 3.1768, 3.1765, 3.1762, 3.1746, 3.1743, 3.1734, 3.1725, 3.1717, 3.1717, 3.1715, 3.1713, 3.1706, 3.1341, 3.1178, 3.1392, 3.1532, 3.0828, 3.1015, 3.1016, 3.01, 2.9961, 2.777, 3.0123, 3.0478, 2.8218, 2.8769, 3.0169, 2.8496, 2.8835, 2.8819, 2.7411, 2.6511, 2.4499, 1.5145, 2.3976, 1.2028, 0.7221, 1.9071, 2.1364, 3.321, 3.3208, 3.3208, 3.3207, 3.3162, 3.3161, 3.3151, 3.3143, 3.3135, 3.3129, 3.3129, 3.3127, 3.3124, 3.3124, 3.3123, 3.3114, 3.3114, 3.3112, 3.3106, 3.3101, 3.3091, 3.309, 3.3078, 3.3074, 3.3074, 3.3068, 3.3068, 3.3068, 3.3043, 3.3033, 3.2876, 3.2189, 3.1559, 3.1462, 2.9669, 3.013, 2.8207, 2.4525, 2.562, 2.9775, 2.8204, 2.3536, 2.5441, 2.5655, 1.9691, 1.0338, 2.5082, 1.6548, 2.0979, 0.5363, 2.8089, 1.7627, 0.9054, 2.4322, 2.1418, 0.215, 1.2454, 1.7576, 1.447, 0.9124, 0.9513, -0.6748, 1.4672, 0.9617, 1.3738, 0.6056, 1.0667, 0.8165, 3.8488, 3.8443, 3.8443, 3.8396, 3.8396, 3.8383, 3.837, 3.8361, 3.8345, 3.8317, 3.8297, 3.8282, 3.8275, 3.8271, 3.8262, 3.8261, 3.8257, 3.8228, 3.8203, 3.8195, 3.8167, 3.814, 3.8133, 3.8128, 3.8094, 3.8083, 3.8071, 3.8066, 3.806, 3.8057, 3.7961, 3.7754, 3.7774, 3.6095, 3.5943, 3.629, 3.7719, 3.478, 3.4488, 3.2425, 3.174, 3.1817, 3.243, 2.7206, 3.1419, 3.1114, 2.7168, 3.1381, 2.6712, 2.2226, 2.7426, 2.2496, 1.7163, 2.4632, 1.3692, 2.4744, 1.5523, 2.4972, 1.4932, 4.27, 4.2689, 4.2658, 4.2655, 4.2633, 4.2629, 4.2593, 4.258, 4.2579, 4.2575, 4.2572, 4.257, 4.2563, 4.2538, 4.2523, 4.2517, 4.2494, 4.2493, 4.2487, 4.2465, 4.2463, 4.2462, 4.2448, 4.2437, 4.2436, 4.2435, 4.2434, 4.2431, 4.2421, 4.242, 4.2076, 4.2243, 4.0609, 4.1798, 4.0954, 4.0645, 3.8151, 3.9286, 4.0147, 3.6467, 3.74, 3.808, 3.6448, 3.0811, 2.6211, 2.8738, 2.2241, 0.9933, 4.2899, 4.2837, 4.2826, 4.2821, 4.2819, 4.2817, 4.2806, 4.2793, 4.2788, 4.2782, 4.277, 4.2756, 4.2748, 4.2738, 4.269, 4.268, 4.268, 4.2676, 4.2676, 4.266, 4.2635, 4.2627, 4.2622, 4.2606, 4.2596, 4.2593, 4.2544, 4.2541, 4.254, 4.2539, 4.2504, 4.2423, 4.1874, 4.2204, 4.2245, 4.2231, 4.223, 4.1073, 4.1402, 4.0326, 3.938, 3.9216, 4.0876, 3.9694, 3.9001, 3.5641, 4.0335, 3.6244, 3.3693, 3.4539, 3.833, 3.1017, 3.1266, 3.9524, 3.3283, 2.9158, 2.9893, 2.7768, 2.2024, 3.3674, 4.6854, 4.6644, 4.6632, 4.6631, 4.6625, 4.6601, 4.6598, 4.6592, 4.659, 4.6582, 4.6581, 4.658, 4.6571, 4.6569, 4.6565, 4.6563, 4.6554, 4.6544, 4.6533, 4.6532, 4.6532, 4.653, 4.652, 4.6502, 4.6498, 4.6495, 4.6491, 4.6487, 4.6483, 4.648, 4.6193, 4.6297, 4.601, 4.5703, 4.5008, 4.0516, 4.5379, 4.3828, 4.3283, 4.3414, 4.1379, 3.8775, 2.9623, 2.6384, 4.2001, 3.6178, 3.6419, 2.6452, 3.8869, 3.5978, 1.9345, 2.9637, 3.3737, 3.7247, 3.2272, 0.9248, 3.0944, 3.6736, 2.7318, 4.7005, 4.6969, 4.6952, 4.6945, 4.6893, 4.6887, 4.6881, 4.6858, 4.684, 4.6822, 4.681, 4.6802, 4.6793, 4.6788, 4.6783, 4.6777, 4.6776, 4.6769, 4.6764, 4.6759, 4.6738, 4.6736, 4.6735, 4.6719, 4.6699, 4.6671, 4.6669, 4.6647, 4.6644, 4.6633, 4.6485, 4.3694, 4.3528, 4.5217, 4.4331, 4.4043, 4.3783, 1.9111, 4.3835, 3.8516, 5.2573, 5.2553, 5.2497, 5.2479, 5.244, 5.2416, 5.2405, 5.2394, 5.2382, 5.2369, 5.2369, 5.2351, 5.235, 5.2331, 5.2309, 5.2292, 5.2276, 5.2262, 5.2241, 5.2227, 5.2213, 5.2206, 5.2204, 5.2189, 5.2166, 5.2166, 5.2153, 5.2133, 5.2133, 5.2113, 5.1661, 5.1414, 5.0873, 4.5493, 4.7597, 4.6794, 4.9032, 4.157, 5.0221, 4.1387, 4.7784, 4.6133, 2.796, 3.5307, 5.7693, 5.7677, 5.7583, 5.7568, 5.7536, 5.7523, 5.7483, 5.7446, 5.7357, 5.7274, 5.7266, 5.7261, 5.7231, 5.7186, 5.7159, 5.7154, 5.7143, 5.7136, 5.7125, 5.7116, 5.7099, 5.7072, 5.7013, 5.6999, 5.6978, 5.6944, 5.6941, 5.6938, 5.6898, 5.6867, 5.6498, 5.3777, 5.6263, 5.407, 5.2151, 5.1829, 5.1393, 3.32, 3.0473, 3.2716, 3.8614, 3.5865, 4.0874, 5.0551, 6.0273, 6.0236, 6.0162, 6.0147, 6.0109, 6.0078, 5.9725, 5.9717, 5.9701, 5.9694, 5.9677, 5.9677, 5.9609, 5.9588, 5.9462, 5.9428, 5.9425, 5.9409, 5.9378, 5.9358, 5.9264, 5.9235, 5.9086, 5.9039, 5.9033, 5.8954, 5.8848, 5.8822, 5.8808, 5.8743, 5.8249, 5.7961, 5.8324, 5.5798, 5.7541, 5.1731, 5.4869, 5.5596, 5.1035, 5.1328, 4.708, 2.7481]}, \"token.table\": {\"Topic\": [15, 1, 4, 10, 13, 10, 2, 3, 5, 6, 8, 13, 8, 3, 3, 18, 4, 5, 6, 13, 20, 1, 2, 3, 4, 8, 3, 12, 5, 5, 6, 10, 13, 20, 1, 6, 8, 11, 14, 5, 20, 17, 2, 10, 13, 1, 2, 3, 4, 5, 6, 7, 8, 9, 10, 11, 12, 13, 15, 6, 8, 1, 5, 6, 8, 9, 11, 13, 1, 2, 4, 5, 6, 8, 9, 11, 14, 15, 16, 13, 10, 12, 16, 2, 13, 1, 4, 5, 8, 9, 1, 2, 3, 4, 7, 8, 10, 12, 4, 15, 15, 2, 3, 18, 2, 3, 6, 9, 10, 1, 3, 11, 4, 5, 6, 9, 10, 11, 14, 16, 9, 9, 7, 9, 1, 8, 4, 9, 17, 4, 9, 4, 9, 2, 4, 5, 8, 9, 1, 2, 3, 4, 5, 6, 7, 8, 10, 11, 12, 1, 2, 3, 5, 6, 8, 9, 12, 13, 8, 9, 18, 1, 2, 5, 14, 16, 20, 1, 1, 1, 5, 3, 5, 10, 4, 13, 13, 2, 3, 7, 8, 2, 3, 5, 6, 8, 10, 11, 12, 13, 14, 3, 6, 7, 8, 11, 4, 9, 4, 4, 9, 17, 6, 1, 2, 3, 4, 5, 6, 7, 8, 9, 10, 11, 12, 4, 7, 13, 5, 7, 14, 13, 15, 8, 8, 18, 8, 11, 1, 2, 3, 5, 6, 8, 9, 10, 11, 12, 8, 7, 7, 3, 19, 17, 1, 15, 1, 1, 3, 6, 7, 8, 12, 15, 6, 1, 1, 2, 3, 4, 6, 7, 8, 10, 11, 12, 1, 2, 3, 4, 6, 7, 8, 10, 11, 12, 1, 15, 4, 4, 1, 2, 6, 7, 8, 11, 13, 6, 2, 2, 3, 2, 10, 8, 11, 19, 4, 6, 10, 1, 4, 5, 8, 9, 12, 15, 18, 3, 4, 5, 6, 13, 19, 9, 18, 12, 1, 2, 3, 4, 5, 9, 12, 1, 2, 3, 5, 12, 15, 5, 9, 11, 14, 16, 13, 1, 4, 18, 18, 11, 8, 6, 17, 18, 16, 19, 2, 5, 11, 16, 18, 11, 6, 11, 15, 16, 14, 4, 6, 1, 3, 4, 5, 6, 8, 9, 10, 12, 13, 12, 2, 3, 10, 17, 3, 7, 10, 11, 12, 3, 15, 20, 11, 16, 1, 3, 4, 7, 9, 11, 7, 18, 14, 17, 3, 12, 3, 7, 9, 12, 1, 3, 4, 6, 8, 10, 12, 14, 4, 7, 8, 12, 18, 16, 1, 2, 3, 4, 5, 6, 7, 8, 9, 10, 12, 13, 1, 2, 8, 9, 10, 12, 14, 16, 12, 10, 13, 2, 5, 7, 9, 11, 14, 13, 7, 10, 11, 10, 15, 12, 8, 12, 18, 7, 8, 11, 16, 1, 4, 5, 6, 8, 9, 14, 15, 3, 10, 13, 3, 10, 13, 1, 15, 1, 16, 1, 1, 14, 19, 1, 15, 13, 10, 12, 10, 10, 1, 4, 5, 8, 9, 1, 8, 9, 10, 18, 11, 2, 9, 2, 8, 14, 6, 8, 13, 10, 10, 13, 7, 11, 1, 2, 10, 14, 19, 16, 19, 20, 12, 3, 5, 10, 12, 13, 2, 13, 2, 8, 1, 2, 3, 5, 10, 13, 8, 1, 9, 1, 3, 4, 7, 8, 12, 5, 10, 20, 6, 9, 13, 3, 1, 6, 7, 14, 6, 8, 9, 8, 9, 12, 1, 2, 8, 19, 2, 2, 3, 4, 5, 8, 9, 10, 13, 3, 2, 5, 12, 8, 1, 2, 3, 5, 8, 9, 10, 12, 19, 12, 2, 3, 4, 5, 6, 7, 8, 10, 12, 1, 2, 3, 4, 5, 6, 7, 8, 9, 10, 11, 12, 13, 6, 6, 9, 10, 13, 1, 4, 6, 8, 9, 10, 1, 8, 9, 13, 16, 1, 4, 5, 6, 8, 9, 11, 12, 7, 10, 8, 9, 13, 8, 9, 8, 9, 8, 9, 13, 1, 4, 11, 17, 10, 13, 2, 10, 10, 13, 11, 18, 1, 2, 3, 4, 5, 6, 7, 10, 12, 14, 7, 18, 6, 18, 7, 9, 7, 13, 2, 3, 5, 8, 10, 13, 4, 9, 19, 8, 3, 7, 8, 1, 4, 8, 9, 15, 6, 15, 5, 6, 8, 11, 11, 11, 6, 2, 3, 4, 5, 6, 8, 13, 5, 8, 19, 1, 4, 5, 10, 12, 19, 10, 12, 11, 16, 11, 3, 4, 12, 1, 2, 3, 4, 6, 7, 8, 10, 12, 16, 13, 2, 13, 15, 14, 14, 2, 3, 10, 2, 3, 10, 2, 3, 5, 9, 11, 14, 4, 8, 1, 8, 14, 1, 15, 11, 6, 1, 4, 8, 10, 17, 1, 2, 3, 4, 6, 7, 8, 10, 11, 20, 20, 12, 16, 3, 4, 7, 3, 4, 8, 12, 16, 3, 4, 8, 12, 3, 1, 4, 8, 9, 12, 8, 13, 14, 8, 19, 12, 20, 1, 5, 15, 9, 20, 12, 2, 5, 6, 8, 9, 13, 6, 8, 2, 3, 5, 12, 1, 2, 5, 6, 3, 2, 5, 10, 12, 13, 14, 10, 10, 13, 6, 6, 8, 10, 13, 7, 12, 8, 2, 11, 2, 11, 10, 13, 13, 11, 1, 15, 3, 9, 1, 2, 3, 4, 6, 7, 8, 9, 10, 11, 12, 13, 1, 2, 4, 19, 1, 2, 4, 5, 9, 19, 1, 8, 9, 1, 3, 5, 7, 8, 11, 12, 8, 14, 1, 2, 3, 10, 12, 1, 9, 2, 1, 10, 2, 13, 6, 4, 10, 19, 20, 1, 3, 4, 5, 8, 11, 20, 1, 4, 5, 6, 7, 8, 9, 10, 12, 13, 1, 15, 7, 11, 4, 6, 18, 1, 4, 15, 6, 8, 13, 20, 18, 8, 2, 9, 13, 10, 2, 3, 5, 13, 11, 1, 2, 3, 4, 6, 7, 8, 10, 12, 13, 12, 19, 2, 16, 1, 4, 5, 8, 9, 8, 9, 8, 1, 2, 3, 4, 5, 6, 7, 8, 9, 10, 11, 12, 13, 16, 1, 11, 16, 19, 16, 5, 12, 4, 5, 3, 3, 10, 11, 19, 11, 2, 1, 4, 6, 6, 4, 5, 9, 7, 12, 2, 3, 2, 17, 13, 17, 13, 6, 9, 5, 6, 13, 10, 14, 16, 1, 3, 7, 11, 11, 3, 9, 18, 1, 2, 3, 4, 5, 6, 8, 9, 12, 13, 20, 9, 17, 15, 5, 6, 7, 11, 5, 2, 9, 12, 2, 3, 9, 14, 16, 17, 12, 7, 14, 11, 17, 4, 1, 6, 10, 11, 16, 1, 3, 4, 6, 7, 8, 10, 11, 12, 4, 1, 2, 3, 4, 6, 7, 8, 10, 11, 12, 8, 15, 1, 18, 6, 8, 9, 13, 1, 15, 19, 17, 2, 3, 4, 5, 1, 2, 3, 4, 5, 6, 7, 8, 11, 12, 19, 9, 18, 9, 15, 1, 4, 5, 10, 5, 2, 8, 19, 8, 11, 8, 3, 19, 10, 20, 1, 4, 6, 7, 8, 9, 1, 3, 4, 6, 7, 8, 11, 6, 11, 16, 16, 11, 1, 3, 4, 5, 7, 11, 12, 4, 18, 19, 6, 14, 1, 2, 3, 4, 6, 7, 8, 12, 1, 9, 15, 10, 1, 3, 4, 1, 2, 3, 4, 6, 7, 8, 9, 12, 13, 19, 17, 14, 14, 1, 2, 3, 4, 5, 6, 7, 8, 10, 11, 12, 13, 14, 1, 5, 6, 9, 11, 11, 9, 1, 15, 2, 3, 4, 7, 8, 9, 10, 11, 13, 5, 17, 8, 8, 8, 19, 4, 5, 6, 7, 8, 9, 10, 13, 6, 1, 2, 3, 5, 6, 7, 8, 9, 10, 12, 14, 12, 16, 1, 4, 5, 9, 1, 8, 20, 10, 8, 12, 13, 14, 2, 5, 15, 14, 1, 2, 3, 5, 6, 8, 9, 11, 12, 14, 1, 6, 1, 6, 7, 9, 10, 12, 6, 14, 17, 17, 1, 2, 3, 5, 1, 2, 3, 5, 8, 9, 10, 13, 14, 12, 5, 6, 2, 3, 10, 19, 2, 5, 13, 20, 4, 8, 14, 4, 15, 14, 2, 5, 6, 9, 11, 2, 3, 12, 13, 14, 20, 17, 6, 18, 18, 15, 11, 9, 9, 9, 1, 2, 5, 6, 8, 9, 10, 12, 13, 15, 8, 5, 9, 11, 11, 16, 1, 15, 1, 9, 15, 1, 9, 15, 6, 1, 2, 5, 7, 9, 10, 11, 15, 15, 2, 1, 4, 3, 3, 16, 4, 17, 4, 16, 18, 12, 19, 2, 4, 10, 13, 12, 4, 8, 9, 1, 11, 16, 16, 1, 2, 3, 4, 6, 7, 8, 10, 12, 19, 1, 8, 15, 4, 5, 17, 1, 2, 20, 14, 17, 16, 13, 1, 3, 4, 5, 8, 9, 15, 10, 1, 2, 3, 4, 5, 6, 7, 8, 9, 10, 11, 12, 6, 5, 5, 1, 8, 9, 11, 11, 9, 9, 1, 3, 4, 6, 7, 8, 9, 10, 11, 12, 20, 1, 5, 6, 8, 10, 12, 13, 11, 16, 18, 8, 18, 6, 8, 2, 1, 4, 5, 6, 8, 4, 1, 2, 3, 4, 6, 7, 8, 9, 10, 11, 12, 13, 11, 16, 1, 2, 3, 4, 6, 7, 8, 9, 10, 11, 19, 7, 2, 14, 1, 2, 3, 4, 5, 6, 9, 11, 12, 13, 1, 3, 4, 5, 6, 7, 8, 10, 11, 12, 13, 15, 20, 1, 2, 3, 4, 6, 7, 8, 10, 11, 12, 1, 2, 3, 4, 6, 7, 8, 12, 1, 2, 3, 4, 7, 10, 12, 13, 1, 15, 12, 7, 11, 16, 15, 15, 5, 4, 16, 2, 10, 1, 2, 3, 4, 5, 6, 7, 8, 9, 10, 11, 12, 3, 5, 8, 9, 12, 1, 2, 3, 5, 7, 11, 12, 13, 1, 2, 3, 4, 5, 6, 7, 8, 9, 10, 14, 19, 7, 17, 1, 2, 3, 4, 6, 7, 8, 9, 10, 11, 12, 17, 4, 19, 3, 1, 2, 3, 4, 5, 6, 7, 8, 9, 10, 11, 12, 13, 4, 1, 2, 3, 4, 5, 7, 11, 15, 16, 1, 5, 1, 15, 19, 2, 19, 4, 9, 15, 1, 2, 3, 4, 6, 7, 8, 12, 1, 2, 3, 18, 1, 17, 4, 14, 8, 14, 3, 2, 3, 7, 9, 1, 8, 15, 14, 1, 2, 3, 4, 5, 6, 7, 8, 9, 10, 12, 8, 4, 5, 7, 4, 5, 6, 8, 9, 8, 9, 3, 5, 6, 7, 8, 9, 11, 16, 15, 1, 5, 5, 13, 2, 3, 5, 12, 2, 3, 16, 7, 1, 3, 4, 6, 7, 8, 3, 5, 11, 1, 5, 1, 1, 15, 15, 3, 2, 4, 4, 10, 12, 1, 2, 3, 4, 6, 7, 8, 10, 11, 12, 16, 11, 16, 18, 1, 9, 1, 2, 3, 4, 5, 6, 7, 8, 9, 10, 11, 13, 14, 19, 15, 19, 1, 7, 19, 17, 4, 1, 2, 3, 4, 5, 6, 7, 8, 9, 10, 11, 15, 2, 5, 19, 5, 6, 8, 9, 11, 13, 14, 18, 5, 14, 9, 9, 13, 4, 1, 2, 3, 4, 6, 7, 8, 10, 12, 13, 14, 1, 2, 6, 11, 18, 12, 1, 10, 11, 1, 3, 4, 6, 7, 8, 9, 11, 12, 1, 2, 3, 5, 6, 7, 8, 9, 11, 13, 5, 14, 4, 6, 7, 11, 13, 10, 2, 1, 2, 3, 4, 5, 6, 8, 9, 10, 11, 14, 16, 5, 9, 2, 4, 5, 6, 8, 11, 12, 13, 10, 19, 2, 5, 5, 9, 15, 17, 1, 2, 3, 4, 5, 6, 8, 9, 10, 13, 2, 6, 7, 16, 9, 3, 7, 3, 2, 10, 5, 14, 2, 3, 5, 9, 12, 14, 4, 8, 18, 18, 14, 20, 9, 9, 9, 20, 13, 1, 2, 3, 4, 5, 6, 7, 8, 9, 10, 11, 17, 2, 12, 5, 1, 14, 14, 1, 2, 3, 5, 9, 11, 15, 16, 5, 1, 9, 11, 1, 2, 3, 4, 6, 8, 9, 10, 1, 2, 5, 6, 7, 8, 9, 11, 16, 20, 1, 2, 3, 5, 11, 15, 16, 7, 11, 16, 7, 2, 3, 4, 5, 10, 12, 13, 10, 1, 14, 19, 7, 4, 5, 18, 19, 10, 14, 7, 10, 7, 7, 5, 15, 5, 11, 16, 2, 10, 1, 4, 5, 6, 7, 9, 10, 2, 5, 17, 2, 17, 5, 14, 5, 7, 2, 6, 20, 1, 3, 6, 7, 11, 13, 16, 4, 7, 9, 11, 7, 11, 11, 11, 11, 1, 2, 3, 4, 5, 8, 11, 12, 14, 1, 2, 3, 4, 6, 7, 8, 10, 11, 12, 14, 10, 20, 3, 1, 2, 6, 7, 8, 10, 11, 4, 6, 8, 9, 1, 5, 6, 8, 9, 2, 3, 5, 3, 2, 16, 1, 3, 4, 5, 6, 7, 8, 9, 10, 12, 16, 3, 18, 18, 20, 7, 14, 6, 11, 13, 1, 2, 3, 4, 6, 7, 8, 10, 12, 14, 1, 2, 3, 4, 6, 7, 8, 9, 11, 12, 2, 10, 12, 2, 3, 2, 10, 12, 1, 8, 17, 13, 4, 6, 8, 10, 13, 6, 1, 2, 3, 4, 6, 7, 8, 10, 11, 12, 1, 2, 3, 4, 6, 7, 8, 9, 10, 12, 13, 19, 1, 2, 3, 5, 6, 7, 8, 12, 20, 2, 3, 5, 6, 2, 3, 5, 10, 1, 13, 1, 2, 4, 8, 9, 1, 19, 5, 6, 8, 9, 13, 14, 20, 19, 1, 2, 5, 6, 8, 9, 10, 13, 14, 2, 5, 11, 18, 17, 3, 11, 12, 19, 2, 13, 1, 2, 3, 6, 7, 8, 10, 13, 7, 1, 2, 3, 4, 6, 7, 8, 12, 1, 13, 18, 5, 10, 12, 5, 20, 1, 2, 10, 16, 3, 5, 6, 8, 14, 1, 2, 3, 4, 6, 7, 8, 10, 12, 13, 18, 1, 2, 3, 4, 7, 8, 10, 12, 6, 1, 3, 4, 6, 7, 8, 10, 11, 12, 3, 4, 12, 1, 2, 3, 4, 6, 7, 8, 10, 12, 1, 11, 16, 10, 7, 6, 1, 1, 9, 1, 20, 2, 3, 5, 6, 8, 9, 13, 9, 6, 1, 2, 3, 5, 10, 1, 2, 5, 9, 14, 2, 6, 1, 15, 8, 1, 4, 4, 12, 6, 4, 1, 2, 3, 4, 6, 7, 8, 9, 10, 11, 13, 2, 6, 8, 9, 13, 2, 10, 13, 12, 5, 11, 16, 11, 8, 20, 1, 3, 4, 5, 6, 10, 14, 19, 17, 10, 7, 1, 2, 3, 7, 11, 5, 6, 9, 16, 4, 5, 6, 9, 1, 1, 3, 4, 5, 6, 7, 8, 9, 11, 3, 7, 9, 12, 1, 15, 16, 19, 1, 15, 5, 5, 5, 10, 11, 16, 1, 3, 4, 6, 8, 15, 10, 1, 5, 6, 9, 12, 11, 16, 11, 16, 6, 20, 1, 1, 15, 15, 3, 4, 7, 11, 1, 2, 3, 4, 5, 6, 7, 8, 9, 10, 11, 16, 4, 6, 13, 2, 6, 7, 9, 1, 9, 10, 13, 5, 6, 9, 10, 13, 10, 17, 1, 2, 3, 8, 9, 6, 6, 1, 2, 3, 5, 9, 10, 11, 13, 5, 10, 9, 3, 10, 2, 3, 5, 7, 10, 11, 12, 2, 2, 1, 2, 3, 4, 5, 7, 10, 13, 14, 20, 19, 4, 1, 8, 9, 10, 13, 15, 15, 16, 11, 2, 3, 12, 4, 8, 11, 16, 7, 4, 5, 13, 3, 1, 2, 3, 4, 5, 6, 7, 8, 9, 10, 11, 12, 13, 15, 1, 15, 4, 15, 7, 20, 14, 3, 3, 1, 2, 7, 11, 12, 16, 8, 5, 4, 17, 8, 2, 3, 14, 5, 12, 1, 2, 3, 4, 6, 7, 8, 10, 12, 1, 2, 3, 4, 5, 6, 7, 8, 9, 11, 13, 15, 1, 2, 3, 5, 9, 10, 12, 4, 5, 7, 9, 2, 3, 5, 12, 5, 18, 5, 20, 3, 4, 7, 12, 13, 17, 6, 18, 1, 20, 1, 15, 1, 20, 1, 17, 1, 2, 3, 8, 10, 13, 11, 1, 2, 4, 7, 8, 11, 1, 2, 4, 7, 1, 2, 3, 4, 5, 6, 8, 9, 10, 13, 1, 3, 5, 6, 8, 9, 8, 11, 16, 9, 19, 12, 10, 20, 11, 16, 1, 2, 3, 4, 5, 6, 7, 8, 9, 10, 11, 12, 6, 11, 18, 2, 17, 18, 1, 2, 3, 4, 7, 8, 10, 12, 19, 18, 4, 2, 1, 2, 3, 5, 6, 7, 8, 9, 13, 1, 2, 3, 4, 6, 7, 8, 10, 11, 12, 13, 1, 11, 18, 8, 15, 16, 3, 12, 16, 4, 20, 17, 7, 15, 3, 4, 14, 10, 1, 2, 3, 5, 6, 8, 10, 12, 13, 14, 1, 2, 3, 4, 6, 7, 8, 10, 11, 12, 1, 6, 8, 5, 11, 11, 2, 5, 13, 13, 5, 12, 18, 12, 13, 1, 15, 1, 2, 3, 4, 9, 11, 12, 14, 1, 2, 3, 8, 9, 10, 1, 2, 3, 4, 6, 7, 8, 10, 12, 15, 1, 3, 4, 6, 7, 8, 10, 11, 12, 1, 2, 3, 4, 5, 6, 7, 9, 10, 11, 16, 1, 15, 1, 2, 3, 4, 6, 7, 8, 10, 11, 12, 1, 2, 3, 4, 5, 7, 8, 9, 10, 11, 15, 12, 7, 17, 7, 12, 1, 2, 3, 4, 5, 6, 7, 8, 9, 10, 11, 12, 4, 7, 4, 7, 5, 8, 1, 3, 4, 6, 8, 20, 1, 4, 5, 6, 7, 9, 11, 2, 2, 5, 11, 16, 7, 7, 14, 7, 8, 10, 12, 14, 1, 8, 9, 14, 14, 4, 5, 6, 8, 9, 20, 15, 4, 8, 9, 4, 1, 2, 3, 4, 6, 8, 10, 11, 12, 13, 1, 5, 6, 16, 9, 9, 9, 15, 3, 4, 5, 10, 14, 2, 3, 5, 6, 7, 9, 11, 13, 2, 3, 3, 12, 1, 2, 3, 4, 5, 6, 7, 8, 9, 10, 12, 13, 14, 2, 3, 8, 10, 1, 2, 3, 5, 6, 7, 8, 9, 10, 12, 13, 14, 2, 20, 4, 6, 8, 11, 16, 5, 8, 16, 15, 1, 2, 3, 10, 12, 3, 1, 3, 6, 13, 19, 2, 3, 4, 13, 14, 9, 9, 8, 9, 2, 8, 1, 4, 5, 8, 10, 13, 14, 10, 2, 4, 5, 12, 14, 20, 20, 13, 8, 18, 1, 2, 3, 4, 6, 7, 8, 9, 10, 12, 5, 6, 8, 9, 11, 16, 1, 4, 5, 6, 14, 18, 10, 8, 9, 8, 9, 12, 1, 2, 3, 4, 5, 6, 7, 8, 9, 10, 11, 12, 4, 5, 7, 11, 20, 2, 2, 2, 19, 1, 4, 8, 13, 2, 4, 2, 3, 4, 7, 17, 11, 16, 18, 10, 17, 10, 13, 4, 7, 1, 4, 11, 15, 1, 4, 8, 9, 1, 2, 3, 4, 5, 7, 8, 15, 1, 2, 3, 4, 5, 6, 12, 1, 2, 3, 4, 5, 6, 7, 9, 10, 12, 14, 1, 2, 3, 4, 6, 7, 10, 13, 1, 2, 3, 4, 5, 6, 7, 8, 9, 11, 12, 1, 1, 2, 3, 4, 5, 6, 7, 8, 9, 10, 11, 12, 13, 1, 2, 3, 4, 7, 8, 10, 13, 2, 19, 2, 14, 1, 2, 4, 5, 6, 7, 8, 9, 11, 1, 4, 5, 6, 7, 8, 9, 11, 12, 13, 20, 17, 15], \"Freq\": [0.9545432445475008, 0.9603643626123559, 0.01333839392517161, 0.020007590887757415, 0.988271971723713, 0.9726014077875116, 0.3225310396134782, 0.2732027629667109, 0.03604758678032992, 0.022766896913892578, 0.03604758678032992, 0.3073531083375498, 0.9831962997010761, 0.9865525238741338, 0.9913707416037836, 0.945353364404099, 0.01764061434286492, 0.09114317410480208, 0.6291819115621821, 0.2587290103620188, 0.9315487357674346, 0.03574326306006692, 0.024745335964661712, 0.8963310582755243, 0.03574326306006692, 0.005498963547702603, 0.01965434008085301, 0.9630626639617975, 0.9838706548496521, 0.20101670013562115, 0.06700556671187372, 0.039086580581926336, 0.6868070587967056, 0.905490284482115, 0.8465231914473096, 0.08425112331940049, 0.06419133205287655, 0.0020059791266523923, 0.9926216165387606, 0.9917631357065897, 0.8225511305369736, 0.9624208856418092, 0.09584151775843046, 0.6140956508225359, 0.28752455327529136, 0.23929828758892194, 0.18183338558090936, 0.15573821268838192, 0.04747100600661908, 0.08633615712314933, 0.05135752111827211, 0.08411529134506189, 0.03192494556000699, 0.02609517289252745, 0.024429523558961868, 0.0063849891120013975, 0.044139707339487924, 0.013047586446263726, 0.00805063844556698, 0.020646785270174734, 0.9755606040157562, 0.006567574780516015, 0.19702724341548045, 0.3464395696722198, 0.1641893695129004, 0.15105421995186835, 0.09851362170774022, 0.03447976759770908, 0.20419913614314966, 0.0612597408429449, 0.0673857149272394, 0.1878632052516977, 0.008167965445725987, 0.11230952487873232, 0.11026753351730081, 0.00612597408429449, 0.19194718797456067, 0.04900779267435592, 0.9557531807688865, 0.9733916127324399, 0.9280718626001218, 0.05800449141250761, 0.9618122508787953, 0.7402944905684022, 0.25780223473468317, 0.24382905890633147, 0.06773029414064763, 0.018964482359381335, 0.18422640006256155, 0.4822396942814111, 0.23764946344886947, 0.00475298926897739, 0.5638233520324428, 0.06891834440017215, 0.05287700561737346, 0.06000648952083955, 0.010694225855199127, 0.0005941236586221737, 0.9947075760102949, 0.9594212353815256, 0.9770692320879312, 0.1005709995247006, 0.8982818821183485, 0.88867591390611, 0.8844739117872588, 0.008403552606054715, 0.01890799336362311, 0.008403552606054715, 0.0777328616060061, 0.03986054302624909, 0.9400444730357077, 0.019930271513124546, 0.005042060270815135, 0.643703027907399, 0.05210128946508973, 0.06386609676365838, 0.006722747027753513, 0.12100944649956324, 0.06554678352059676, 0.04201716892345946, 0.998003454999291, 0.9883208413604112, 0.9840011484867864, 0.9920899095597573, 0.9894819510150189, 0.009514249528990566, 0.05790746130819288, 0.8686119196228932, 0.07031620301709135, 0.14622345487277394, 0.8527288605946916, 0.2750304028546385, 0.7246310015331793, 0.0435196624915699, 0.06092752748819786, 0.1349109537238667, 0.11315112247808175, 0.6440910048752345, 0.1576134198311572, 0.07385314529231365, 0.11708425473171677, 0.3377430424953368, 0.02071490660638066, 0.04142981321276132, 0.1477062905846273, 0.032423332079552336, 0.008105833019888084, 0.007205184906567186, 0.05584018302589569, 0.3754743739132725, 0.14539645968556508, 0.0798881646623984, 0.01757539622572765, 0.04793289879743904, 0.14220093309906914, 0.0399440823311992, 0.1406031698058212, 0.009586579759487807, 0.9669859887817792, 0.022752611500747748, 0.9034707490640721, 0.9932704801918206, 0.012453871438519346, 0.971401972204509, 0.9871907073975678, 0.9249525472653057, 0.03557509797174253, 0.993128537452498, 0.9927384765539794, 0.993740202221014, 0.9926004506991534, 0.15249519096170405, 0.08317919507002039, 0.7555443552193518, 0.9892587566836561, 0.9623648540674602, 0.9854803297210714, 0.048716865080930594, 0.06698568948627956, 0.6333192460520977, 0.2496739335397693, 0.6894467969894378, 0.07429960627750251, 0.1024129708149359, 0.00803238986783811, 0.01338731644639685, 0.010709853157117479, 0.0026774632892793697, 0.048194339207028654, 0.04350877845078976, 0.006693658223198425, 0.014243296505356518, 0.060534010147765195, 0.494954553561139, 0.22789274408570429, 0.20296697520133036, 0.23670804289479846, 0.7596676725460974, 0.9915404390695557, 0.9900793460675746, 0.9865220031283382, 0.9927494584397877, 0.9744750575933054, 0.10721606483907045, 0.00710467899536009, 0.08525614794432108, 0.352004550224659, 0.0006458799086690991, 0.09042318721367387, 0.23574616666422119, 0.0038752794520145947, 0.010979958447374684, 0.0697550301362627, 0.02066815707741117, 0.01614699771672748, 0.9935460384341578, 0.957378767327475, 0.03804154042360827, 0.9748860393749229, 0.9846669728785961, 0.9811295470058261, 0.22289096372284695, 0.7677355417120284, 0.9807988524462056, 0.2100468228417901, 0.7876755856567129, 0.042870662126222384, 0.9526813805827196, 0.27422899841246823, 0.42081686301840576, 0.06082897782967477, 0.0857588867762628, 0.025927105304451543, 0.014957945367952813, 0.028918694378042103, 0.004985981789317604, 0.0029915890735905627, 0.08077290498694518, 0.9959199503848336, 0.9755306063580281, 0.9720247443798468, 0.984977156766938, 0.9542856065364809, 0.9807262795765682, 0.9895590185418461, 0.00868034226791093, 0.9936777066253814, 0.7748815879298175, 0.04947535318616641, 0.08501398716496199, 0.039022813780638294, 0.035538633978795586, 0.012543047286633737, 0.0034841798018427047, 0.9649911878880949, 0.9848188477677314, 0.25260825780640284, 0.10492958401189041, 0.20597288713445155, 0.005829421333993912, 0.033033387559298834, 0.20305817646745458, 0.023317685335975648, 0.009715702223323186, 0.131161980014863, 0.03011867689230188, 0.3065438881480052, 0.04562141416301905, 0.08724094989068555, 0.03281540316989089, 0.04322028710180752, 0.3097453908962872, 0.051224043972512616, 0.009604508244846115, 0.059227800843217715, 0.05442554672079465, 0.5178190371254358, 0.481514381386014, 0.9972402070458816, 0.9934582752078378, 0.041775662941540975, 0.01720174356416393, 0.5676575376174097, 0.019659135501901636, 0.15235830013973767, 0.18676178726806553, 0.014744351626426226, 0.9949113843436179, 0.9906671994768157, 0.9932828127838037, 0.9928191779223392, 0.20601581652080644, 0.7897272966630914, 0.2444354674797363, 0.20369622289978026, 0.5296101795394287, 0.21713058361769505, 0.049759092079055114, 0.7237686120589835, 0.20851315128952297, 0.3829833391032055, 0.021276852172400305, 0.008510740868960122, 0.15744870607576225, 0.021276852172400305, 0.11489500173096164, 0.08085203825512115, 0.7372834809334881, 0.041683871713554095, 0.18757742271099342, 0.013026209910485656, 0.018236693874679917, 0.8954748781327281, 0.07053780253441311, 0.8817225316801638, 0.9814810751521539, 0.40413363397479357, 0.04685607350432389, 0.0673556056624656, 0.0029285045940202433, 0.0336778028312328, 0.030749298237212553, 0.4143834000538644, 0.26019732183300176, 0.032159219552393474, 0.06431843910478695, 0.1520254015204055, 0.37421637297330584, 0.11401905114030413, 0.015431002355653532, 0.046293007066960594, 0.735544445619485, 0.046293007066960594, 0.1491663561046508, 0.9582286391945972, 0.3012647478401198, 0.367166411430146, 0.32009379458012727, 0.9698160890820011, 0.9953422670808838, 0.9697981409765694, 0.9780620646406846, 0.9683898527532795, 0.924519108960825, 0.9829924134227298, 0.9639990826541802, 0.20312958233385972, 0.27344366852634966, 0.13281549614136984, 0.34375775471883957, 0.04687605746165994, 0.9893358168079551, 0.9949898330892047, 0.5878691019825194, 0.046107380547648576, 0.3573321992442765, 0.9652957334389983, 0.9800333788122408, 0.9885032210123434, 0.026144616027730893, 0.049384274719047244, 0.029049573364145438, 0.04066940270980361, 0.6652352300389305, 0.06390906140111996, 0.02323965869131635, 0.03195453070055998, 0.020334701354901806, 0.055194189391876335, 0.9734179137035, 0.15581471523898452, 0.09915481878844469, 0.7436611409133351, 0.9707602583726254, 0.8581843142370135, 0.011145250834246929, 0.007430167222831286, 0.003715083611415643, 0.11888267556530058, 0.994489289287315, 0.9845852896507065, 0.7394826753221238, 0.5543187935754316, 0.4451347887802708, 0.20998310505060316, 0.11629833510494945, 0.5927984581043951, 0.001615254654235409, 0.01615254654235409, 0.061379676860945545, 0.957818805620609, 0.9532557503399308, 0.9904005915907841, 0.9945649399394049, 0.9767569380765054, 0.021370486418662283, 0.8487803632746619, 0.0887845568278935, 0.04971935182362036, 0.01065414681934722, 0.25716254606404115, 0.023378413278549195, 0.08883797045848693, 0.3880816604239166, 0.07481092249135742, 0.030391937262113953, 0.007013523983564758, 0.12858127303202058, 0.1939195593844957, 0.44072627132839937, 0.049361342388780725, 0.30321967467393873, 0.00705162034125439, 0.9649115661959364, 0.37796942069207723, 0.11572191514581219, 0.11572191514581219, 0.04079405641830789, 0.0008325317636389366, 0.019980762327334478, 0.039961524654668956, 0.19231483740059435, 0.008325317636389365, 0.07409532696386535, 0.0008325317636389366, 0.013320508218222985, 0.2710820160482888, 0.10467523391963628, 0.42675287674928636, 0.008051941070741251, 0.10467523391963628, 0.005367960713827501, 0.07783543035049877, 0.9591179764307303, 0.9824602056281839, 0.9802776140317075, 0.945722611467013, 0.019008717684340024, 0.6519990165728627, 0.03231482006337804, 0.07793574250579409, 0.12355666494821015, 0.09314271665326611, 0.9925281453280741, 0.966374384406309, 0.9098997091090916, 0.0873503720744728, 0.995915979986284, 0.9890934807303348, 0.970334500514197, 0.31230733482060946, 0.15615366741030473, 0.4996917357129752, 0.10634365985726349, 0.11059740625155404, 0.638061959143581, 0.1403736310115878, 0.09173105158601003, 0.2462254542571848, 0.012874533555931232, 0.011265216861439829, 0.3572683061770917, 0.17541551969956304, 0.030577017195336675, 0.07080993455762177, 0.1044833344460794, 0.5731657203899213, 0.32091309865581535, 0.3092259910892488, 0.6299047966632846, 0.0610816772521973, 0.09952057676261608, 0.8985286359139052, 0.99483784370333, 0.0031834810998506557, 0.997766299846671, 0.99764968390414, 0.9847685334941714, 0.9592310273445412, 0.6026844428187265, 0.3953091506660464, 0.980362212297938, 0.9844469977913586, 0.990237891122492, 0.9944785572435207, 0.9873627111408153, 0.023406561195960872, 0.046813122391921744, 0.011703280597980436, 0.9011526060444935, 0.9868111707421627, 0.9480306172273703, 0.04546909435143263, 0.0022734547175716313, 0.9936868778455878, 0.9289073783858752, 0.9888517495545236, 0.9864745518814549, 0.005164788229745838, 0.9905045901434286, 0.9862099505103601, 0.9900455878066239, 0.7880487269941985, 0.07705365330609941, 0.13309267389235352, 0.9845540314262063, 0.2257950230628931, 0.7734128376177257, 0.9771386833757135, 0.9913199606269096, 0.061541389432470776, 0.7932001304629567, 0.13128829745593765, 0.012308277886494155, 0.0013675864318326838, 0.9417939793132749, 0.9334909642924492, 0.9161939192509034, 0.9846907439733275, 0.07852106120771293, 0.24537831627410292, 0.04907566325482059, 0.07361349488223087, 0.5447398621285084, 0.9638197925855096, 0.0347081919767635, 0.9905716753844171, 0.9881832032392954, 0.009976362281228144, 0.1870567927730277, 0.4801124347841045, 0.10475180395289552, 0.016211588706995735, 0.20202133619486992, 0.9876543331114838, 0.9884484302651892, 0.010242988914665173, 0.984442296247699, 0.4018739327416888, 0.12813371768575585, 0.07280324868508856, 0.10483667810652751, 0.2912129947403542, 0.9808340242335419, 0.9919385099371524, 0.8814616377706023, 0.8587242462799549, 0.0757697864364666, 0.06133744616285392, 0.9843490116761596, 0.06436669433584315, 0.8474948087552681, 0.08582225911445752, 0.9757388372530285, 0.04009029698489077, 0.7674428279964806, 0.18899711435734223, 0.9364519248800358, 0.060416253218066825, 0.9767637595110631, 0.928119043357004, 0.07012454994252919, 0.43872574763675226, 0.5399701509375412, 0.9965336793407444, 0.07991953647051932, 0.17917444466777718, 0.0012890247817825696, 0.17272932075886432, 0.45244769840568194, 0.05800611518021563, 0.05027196648952022, 0.0038670743453477086, 0.9959339074457539, 0.23903827723236465, 0.06374354059529724, 0.6958669848319948, 0.9883384603017651, 0.026122191788392642, 0.38470864270178257, 0.2754703861321406, 0.021372702372321254, 0.009498978832142778, 0.018997957664285556, 0.05699387299285667, 0.20660278959910544, 0.8811495973728881, 0.978174099906177, 0.002067359718379847, 0.23567900789530255, 0.022740956902178314, 0.16538877747038774, 0.35558587156133364, 0.18399501493580636, 0.004134719436759694, 0.028943036057317857, 0.002067359718379847, 0.3053604915827001, 0.008273313811353945, 0.1880298593489533, 0.17298747060103703, 0.003760597186979066, 0.07897254092656038, 0.08348525755093526, 0.06656257020952946, 0.01617056790400998, 0.06581045077213366, 0.006769074936562319, 0.0011281791560937198, 0.002632418030885346, 0.9723648649006007, 0.22860773114377994, 0.7086839665457179, 0.013716463868626797, 0.04114939160588039, 0.06622231959522641, 0.011417641309521796, 0.3630809936427931, 0.15756345007140077, 0.38363274799993236, 0.015984697833330515, 0.0771406461357216, 0.7436358287483561, 0.05245563937229068, 0.12342503381715454, 0.9696396940176327, 0.08049259629931682, 0.13415432716552805, 0.046954014507934815, 0.010061574537414603, 0.05030787268707301, 0.06707716358276403, 0.013415432716552805, 0.600340614065738, 0.9565406091341881, 0.026570572475949673, 0.8366175928314851, 0.13209751465760292, 0.02830661028377205, 0.8431374426008486, 0.1515752705799278, 0.8182136642357001, 0.17811453915334968, 0.7925696559626365, 0.05048214369188767, 0.15649464544485178, 0.043992364013627105, 0.9018434622793556, 0.043992364013627105, 0.968486515758499, 0.9742701395704662, 0.9894919869072273, 0.05525311382113326, 0.9393029349592654, 0.04632435931831876, 0.9438588211107448, 0.8198449192662921, 0.17642232439907551, 0.06281403310645026, 0.31127843072752015, 0.03350081765677347, 0.020938011035483418, 0.040480154668601276, 0.07816857453247143, 0.05443882869225689, 0.2847569500825745, 0.05723056349698801, 0.05583469609462245, 0.9848171288350249, 0.9706846451232638, 0.9829403149531704, 0.9534978509054545, 0.9762498258698306, 0.9922104474689761, 0.9734929567820517, 0.9431679481660243, 0.39649308451617704, 0.14328335176588425, 0.2153040841349795, 0.008339242695368924, 0.13721844798743413, 0.1000709123444271, 0.9406045885435124, 0.04907502201096586, 0.9568025128919174, 0.9866497589324574, 0.17765697119995064, 0.6884207633998087, 0.12584035459996504, 0.24295049401823282, 0.13525079048437702, 0.2880340908463585, 0.08014861658333454, 0.2504644268229204, 0.9640622881655458, 0.9741902220688686, 0.2171029982627747, 0.024424087304562154, 0.4369197840038341, 0.317513134959308, 0.9822918097280166, 0.9910381610135931, 0.990839684648685, 0.039206036162106384, 0.017820925528230173, 0.017820925528230173, 0.6379891339106403, 0.08554044253550483, 0.0819762574298588, 0.11048973827502707, 0.9770850256977203, 0.008882591142706547, 0.8397377963809143, 0.39628368601938724, 0.1668562888502683, 0.1668562888502683, 0.08342814442513415, 0.031285554159425306, 0.14599925274398476, 0.9854764366042845, 0.977248789903466, 0.8402981894701003, 0.15378006081805756, 0.9840388120673026, 0.9863725908858461, 0.1552133097547922, 0.8357639756027273, 0.4594970813668703, 0.1266884731996185, 0.13071032949166989, 0.031169386263398203, 0.04625134735859088, 0.008043712584102762, 0.06133330845378356, 0.0422294910665395, 0.09350815879019461, 0.953529924781195, 0.9683640603648869, 0.9774485341408986, 0.02102039858367524, 0.9846122544118734, 0.9939036993428353, 0.9877745292731144, 0.009862885393669484, 0.9299291942602655, 0.06058629598968397, 0.013504951393653918, 0.9048317433748125, 0.0765280578973722, 0.844165093183396, 0.15392645653056167, 0.14392376998277057, 0.05535529614721945, 0.6937863783784838, 0.10332988614147631, 0.8782751705838717, 0.11741646665559782, 0.11384259635159433, 0.0683055578109566, 0.8082824340963197, 0.22474817616604273, 0.7661869642024184, 0.9782781162122597, 0.9741002948779248, 0.03291965433351659, 0.8182885505759838, 0.009405615523861882, 0.14108423285792823, 0.9760651696142886, 0.14228422435863794, 0.1226588141022741, 0.2158795128200024, 0.019625410256363853, 0.024531762820454817, 0.08340799358954638, 0.06378258333318253, 0.009812705128181927, 0.27966209615318494, 0.03434446794863675, 0.9516823623997069, 0.9719562224717415, 0.9486144333390384, 0.9422554869680894, 0.05638980713515593, 0.0009095130183089666, 0.7886842557325899, 0.10452441943443963, 0.0475110997429271, 0.026131104858609908, 0.030882214832902617, 0.8694053565666917, 0.013416749329732896, 0.06708374664866448, 0.045616947721091844, 0.9968040057367066, 0.02578619078375257, 0.27333362230777725, 0.20113228811327005, 0.09283028682150925, 0.4074218143832906, 0.7202151632650988, 0.1273551203334626, 0.149312899701301, 0.994922392117973, 0.9369352761710764, 0.9824602056281839, 0.8654330025818742, 0.2194871136602665, 0.6905212564592653, 0.08878130440190554, 0.3488656883621203, 0.6279582390518165, 0.9936152662716259, 0.9928579047088192, 0.006914265381161256, 0.8020547842147058, 0.034571326905806284, 0.041485592286967535, 0.1106282460985801, 0.9778688552940522, 0.017619258653946885, 0.03169904884514629, 0.0792476221128657, 0.2852914396063166, 0.6022819280577794, 0.024871829355618026, 0.07047018317425108, 0.26115420823398927, 0.6383769534608627, 0.988202483534872, 0.2002288484110136, 0.15139254392052248, 0.08790534808288403, 0.06837082628668757, 0.4883630449049112, 0.9726902714913785, 0.9747084248454596, 0.03525754480589461, 0.9617474722052364, 0.98545874941088, 0.07641421557983671, 0.21491498131829076, 0.03343121931617856, 0.6686243863235712, 0.7491709143145902, 0.2471883727433927, 0.971388547470184, 0.9774954172920157, 0.01931809125083035, 0.986145260317844, 0.012174632843430172, 0.06891184626011815, 0.927659468886206, 0.9867199789913628, 0.9931483419675657, 0.3615790843535455, 0.6272290238785995, 0.9857391711257197, 0.9904770944153222, 0.49091384252644066, 0.008655911581070742, 0.06265231239632156, 0.17270604535564957, 0.02390680341438586, 0.08449818448188105, 0.07790320422963669, 0.007007166518009649, 0.033799273792752424, 0.011129029175662383, 0.023082430882855314, 0.004534048923418008, 0.4234209177435786, 0.407135497830364, 0.08549845454437645, 0.0814270995660728, 0.37096912766879464, 0.21920902998610592, 0.12225118979994369, 0.04637114095859933, 0.1559756559516523, 0.08009560711030793, 0.8567046274876107, 0.1183488866838555, 0.022963216819255543, 0.06957867320774376, 0.10253699209562238, 0.058592566911784216, 0.2453563739430964, 0.0036620354319865135, 0.054930531479797706, 0.4614164644303007, 0.9640080422576467, 0.9774329150065242, 0.8152617726538837, 0.07741358078612545, 0.045964313591761986, 0.048383487991328404, 0.009676697598265682, 0.9164310235932689, 0.08367413693677672, 0.9930333997422436, 0.982926978328902, 0.016519781148384906, 0.9045754015254502, 0.0913712526793384, 0.9678968801762422, 0.13906132458743836, 0.1854150994499178, 0.6489528480747123, 0.9106992525312952, 0.3050859761477862, 0.01079950358045261, 0.5993724487151199, 0.04859776611203674, 0.02159900716090522, 0.013499379475565761, 0.8134629283454382, 0.6546792671256844, 0.0760818086616649, 0.008453534295740544, 0.06481042960067751, 0.022542758121974784, 0.040389108301871486, 0.07326396389641805, 0.020664194945143554, 0.011271379060987392, 0.027239166064052866, 0.6863418708170679, 0.31103882535155514, 0.15175767584683655, 0.8415652933324572, 0.1250207102165301, 0.27087820546914854, 0.5834299810104738, 0.013480679028080918, 0.47182376598283216, 0.5122658030670749, 0.2636032158437826, 0.5760218420290064, 0.1562093130926119, 0.8977259614374393, 0.9200250443599555, 0.9679200643706845, 0.9836767890314416, 0.008682505406819578, 0.007150298570322006, 0.9924071254074088, 0.9267178685500379, 0.04438101536955712, 0.004226763368529249, 0.024303889369043184, 0.9849301441478232, 0.42505097922629076, 0.14989380558807935, 0.17452424312602668, 0.12737454841052753, 0.007037267867984947, 0.02111180360395484, 0.03448261255312624, 0.011259628588775914, 0.026037891111544302, 0.022519257177551828, 0.9602244796564939, 0.02133832177014431, 0.08914912363300767, 0.8914912363300768, 0.009259976002020354, 0.3518790880767735, 0.024693269338720944, 0.5617718774559015, 0.04938653867744189, 0.9694618043499004, 0.022545623356974426, 0.9961698342197568, 0.2275158212201769, 0.07699204596424238, 0.03373808755736464, 0.1513888544240721, 0.09775394599954369, 0.05233728967232207, 0.12586901896401423, 0.01513888544240721, 0.04628173549535918, 0.046714275079427964, 0.08477775847748037, 0.0038928562566189965, 0.014273806274269654, 0.022924597955645203, 0.1858776228561064, 0.7380435025168931, 0.07107085579792304, 0.9539063567176547, 0.960385520304279, 0.9324878094494226, 0.0674087573095968, 0.8486047234545209, 0.14383130906008829, 0.9767554097968385, 0.9806073244597526, 0.01620838552826037, 0.4861869337504461, 0.4861869337504461, 0.9951675099540078, 0.996919210582689, 0.0032762161349992516, 0.8059491692098159, 0.1900205358299566, 0.9788232685496614, 0.10068768218788075, 0.09439470205113822, 0.7992084773663035, 0.8675990522662546, 0.12394272175232209, 0.872935074169149, 0.12504855056968525, 0.9944888495853834, 0.9751567262838006, 0.9726674952617641, 0.947607564311799, 0.9508376540305449, 0.9163375386754801, 0.07289048603100409, 0.007941442090410287, 0.9609144929396447, 0.02382432627123086, 0.9870657021149919, 0.9757984172058751, 0.9684518510686283, 0.007847055095808509, 0.013452094449957444, 0.04484031483319148, 0.9326785485303828, 0.9979471713947698, 0.9902534755921386, 0.9809144350579051, 0.9335384331083081, 0.2014370198456104, 0.17421580094755496, 0.017693792283736052, 0.024499097008249916, 0.24090778724779086, 0.1565220086638189, 0.034026523622569325, 0.04491501118179151, 0.04627607212669429, 0.05716455968591647, 0.9069699633213728, 0.9970334503137583, 0.9556107274828447, 0.9712769183046395, 0.11570248197723133, 0.7327823858557984, 0.07070707231941914, 0.07713498798482088, 0.9944335366223787, 0.041662583459871165, 0.8176282003999715, 0.14061121917706518, 0.06575829374807571, 0.020233321153254064, 0.7739245341119679, 0.08093328461301626, 0.02529165144156758, 0.030349981729881095, 0.9865424960220631, 0.9755803396390894, 0.9682853487090671, 0.97745997459626, 0.9446880050606175, 0.9859422662380403, 0.08303776536840436, 0.22646663282292098, 0.03774443880382016, 0.5850388014592125, 0.06416554596649428, 0.15130011929582185, 0.07115941683776096, 0.28463766735104384, 0.3157267329597743, 0.14162796555088344, 0.0234895162377075, 0.004145208747830735, 0.0069086812463845584, 0.0006908681246384559, 0.9859580548079152, 0.30419999874485576, 0.013026196419804906, 0.11378765696123697, 0.04942292171043626, 0.052104785679219626, 0.32144055282989165, 0.02260428202260263, 0.006129974785790544, 0.016857430660923996, 0.10037833711732015, 0.0629148676861696, 0.9257473388107813, 0.9917969342937516, 0.958885598553336, 0.378819462451691, 0.2064080404384214, 0.21774024658013866, 0.1958852775925411, 0.05215927051217925, 0.9258270515911816, 0.9047176688906624, 0.9585246084184784, 0.8074861393584406, 0.1914498686050605, 0.9811231295578466, 0.9840333269055184, 0.2920154613910758, 0.009880222377893542, 0.1240516809668856, 0.12844289091261604, 0.028542864647248013, 0.04940111188946771, 0.20858247242219702, 0.03293407459297847, 0.09550881631963758, 0.027445062160815395, 0.002195604972865232, 0.9903212305469578, 0.9223198781733338, 0.7257089970530678, 0.27137857452824804, 0.05908231788691851, 0.2560233775099802, 0.13223185431834145, 0.5486215232356719, 0.9874205004121749, 0.9902721696538981, 0.9986875645456018, 0.9038028791742445, 0.9605668009306055, 0.036021255034897705, 0.9938553004475954, 0.29681920064519496, 0.6925781348387883, 0.9856927577397415, 0.8013718089025252, 0.2175111401088623, 0.5847377402926558, 0.02259856001131037, 0.09039424004524148, 0.0762701400381725, 0.005649640002827592, 0.2247597304657077, 0.5559845964151717, 0.0496837298924196, 0.04850078394260009, 0.08872094623646357, 0.0165612432974732, 0.015378297347653684, 0.988017124671396, 0.16652272666154896, 0.819804192795318, 0.933496509457981, 0.9858561546299074, 0.10529460344606788, 0.0654534021421503, 0.6033096197450375, 0.09106560298038302, 0.08537400279410909, 0.04837860158332848, 0.9841170875959769, 0.3831891595060532, 0.6131026552096851, 0.9013491526927744, 0.19095633353870417, 0.8073343721762936, 0.26652604860958273, 0.0060231875391996105, 0.21834054829598587, 0.43668109659197174, 0.0060231875391996105, 0.03011593769599805, 0.02861014081119815, 0.0060231875391996105, 0.2553632262868158, 0.020160254706853876, 0.7190490845444549, 0.9875315894933815, 0.010935163208567682, 0.9841646887710913, 0.9863153039020335, 0.1412312401890703, 0.19788331958694594, 0.39895830561884266, 0.0973458265709976, 0.07261041162262936, 0.017554165447229077, 0.006383332889901482, 0.03909791395064658, 0.009574999334852223, 0.016756248835991392, 0.0007979166112376852, 0.9940297851267297, 0.9581757959320382, 0.9789916052277413, 0.02135796365641379, 0.0022482067006751355, 0.13826471209152083, 0.04833644406451542, 0.21133142986346276, 0.053956960816203256, 0.11803085178544462, 0.07194261442160434, 0.13826471209152083, 0.044964134013502716, 0.12365136853713246, 0.017985653605401084, 0.007868723452362975, 0.44994379328122375, 0.1492995314069515, 0.018406791543322792, 0.3640454327457174, 0.01636159248295359, 0.9967395559244118, 0.9894497269585447, 0.29300446599675595, 0.7021050411620379, 0.03669757174849375, 0.03510202515073315, 0.5648234956072516, 0.1404081006029326, 0.05105749112833913, 0.015955465977605977, 0.004786639793281793, 0.138812554005172, 0.012764372782084782, 0.22292940996181232, 0.7663198467437299, 0.9927299269835608, 0.9893459221307079, 0.9901922834961527, 0.932005574452745, 0.2748376621764178, 0.02044247074039471, 0.4610912844777918, 0.009085542551286538, 0.10675512497761683, 0.022713856378216345, 0.0658701834968274, 0.03861355584296779, 0.9803052869234581, 0.501438811478255, 0.09827192787764795, 0.12262992709518462, 0.03191737828504805, 0.005879517052508852, 0.08819275578763278, 0.05963510153258978, 0.026037861232539202, 0.03191737828504805, 0.022678137202534143, 0.010079172090015175, 0.9871688736730002, 0.9812052238906405, 0.7121746765206725, 0.00820477737927042, 0.09845732855124503, 0.18050510234394923, 0.9782361480062878, 0.01943515525840307, 0.9466214938891362, 0.974406440514844, 0.7219835583540706, 0.10766421484227369, 0.16466291681759504, 0.9901977963613637, 0.9506423975238707, 0.03224893088945284, 0.016825529159714525, 0.9750893718440357, 0.08117028691916908, 0.646240361241077, 0.07492641869461762, 0.12487736449102936, 0.017170637617516537, 0.009365802336827203, 0.001560967056137867, 0.018731604673654405, 0.007804835280689335, 0.017170637617516537, 0.06162851881832824, 0.9244277822749236, 0.9031567077298769, 0.00719646779067631, 0.025187637267367086, 0.00719646779067631, 0.01439293558135262, 0.04317880674405786, 0.9821997130630256, 0.9169225706819157, 0.06792019042088265, 0.9869194268545696, 0.012618599427184449, 0.6538728794086487, 0.3062878224598407, 0.02638434425684021, 0.06461016993880994, 0.41839789659404103, 0.10475629494933261, 0.24087675006313608, 0.0025091328131576674, 0.011291097659209503, 0.024464044928287257, 0.11792924221841036, 0.014427513675656587, 0.9803887179860739, 0.015165584612684071, 0.9705974152117806, 0.4845708469587172, 0.03746681806381834, 0.4770774833459535, 0.889921962943829, 0.07802261705800811, 0.7857992146556532, 0.12260696966258418, 0.005573044075572008, 0.24485280093189388, 0.21499270325727268, 0.5315097386082575, 0.9772039803874892, 0.9913123657964907, 0.964889885234852, 0.21814190997795774, 0.48507872087203757, 0.054535477494489434, 0.22962306313469236, 0.011481153156734617, 0.2359637663689303, 0.061854579533603085, 0.10080005553624206, 0.5429457536838493, 0.057272758827410265, 0.8601564984300915, 0.9888933400384861, 0.9901395347910817, 0.9393964379050693, 0.9458627920907492, 0.9873771052362509, 0.9951158836891242, 0.9990707637515807, 0.997921047940727, 0.9821401934908373, 0.3203807768163385, 0.0668926896649498, 0.007041335754205241, 0.153149052653964, 0.16371105628527186, 0.038727346648128824, 0.0017603339385513102, 0.20771940474905462, 0.012322337569859173, 0.026405009078269655, 0.9817225572376026, 0.9318826720550029, 0.036906244437821895, 0.02767968332836642, 0.6161690022347923, 0.38365239761788955, 0.0262350078304532, 0.9730802904386279, 0.07718283331898713, 0.7638439021568727, 0.15436566663797427, 0.009801669442555417, 0.9033872002888574, 0.08494780183548027, 0.9948915856377857, 0.13955510364236892, 0.08263131136719214, 0.10099382500434594, 0.0569237922751768, 0.0018362513637153806, 0.03672502727430761, 0.2772739559210225, 0.3029814750130378, 0.9658138490036495, 0.9956168890829928, 0.9948307712762597, 0.9830551265192244, 0.9922181630918515, 0.9866794794740797, 0.9625640284717847, 0.2936398393320219, 0.7063228567716203, 0.9920101176012991, 0.1496764532241829, 0.823220492733006, 0.9823464674775421, 0.9365504646194425, 0.013850364641961373, 0.006925182320980687, 0.46398721550570604, 0.5124634917525709, 0.9891003823316891, 0.243006771208104, 0.2075682837402555, 0.546765235218234, 0.06399941723357065, 0.9192643566276512, 0.011636257678831027, 0.9780845782131307, 0.3394709467398249, 0.00272230109655032, 0.27549687097089237, 0.21125056509230483, 0.08602471465099011, 0.05009034017652589, 0.008439133399305992, 0.0204172582241274, 0.005716832302755672, 0.9759251459408123, 0.00524710876216678, 0.7660778792763498, 0.22562567677317152, 0.35579010134123423, 0.20526352000455822, 0.424211274676087, 0.283952250357404, 0.3123474753931444, 0.3691379254646252, 0.0329152817262451, 0.9545431700611079, 0.946225290210439, 0.9754213162855961, 0.04393824548697396, 0.032953684115230475, 0.02196912274348698, 0.1208301750891784, 0.07323040914495661, 0.6737197641336008, 0.029292163657982644, 0.9883200303607023, 0.12889397278839884, 0.050008044087302285, 0.024651852719092673, 0.12044190899899564, 0.06972952626257642, 0.08733799249049976, 0.2979352485764629, 0.033808255157612814, 0.03451259380672975, 0.011269418385870937, 0.13734603657780203, 0.004930370543818535, 0.9841416755399821, 0.9950534968588236, 0.9905948219416073, 0.25338762684015836, 0.652845767976408, 0.09241195802405776, 0.9949980571743726, 0.9986231347093445, 0.9919239472098311, 0.9946073151038075, 0.112190453539431, 0.03514399749427959, 0.5258082702028755, 0.0027033844226368917, 0.040550766339553374, 0.005406768845273783, 0.04460584297350871, 0.058122765086693166, 0.15544460430162127, 0.01622030653582135, 0.0013516922113184459, 0.04209630781879346, 0.06152537296592891, 0.04209630781879346, 0.5148702263990893, 0.02590542019618059, 0.045334485343316036, 0.2622923794863285, 0.24951546109859954, 0.7338690032311751, 0.9393078234618032, 0.9681749365393452, 0.9462887475430486, 0.9892538320899945, 0.9745262546440719, 0.9947770200007016, 0.8164982673680395, 0.1163069474380373, 0.0340697118757887, 0.01292299415978192, 0.019971900065117516, 0.9782737332649996, 0.26688250963647797, 0.05882894029621289, 0.2075752852728162, 0.18700907037251413, 0.042806424036675235, 0.08106914943258606, 0.04448041827274633, 0.0038262725395910822, 0.029414470148106445, 0.012196243719946575, 0.06098121859973287, 0.004782840674488853, 0.36837376640658287, 0.6139562773443048, 0.08879725294509223, 0.4925910768638274, 0.04953952006410409, 0.0579518913957444, 0.012151203034591569, 0.04019244080672596, 0.0009347079257378129, 0.002804123777213439, 0.16170447115264164, 0.09066666879656786, 0.002804123777213439, 0.979178504979744, 0.36127081783879644, 0.6293104568804841, 0.08368186544279911, 0.5552537895263376, 0.05414708940416413, 0.0895888206505261, 0.062023029681133456, 0.020674343227044485, 0.003937970138484664, 0.07186795502734512, 0.043317671523331304, 0.015751880553938655, 0.30660956056702554, 0.09712476763303293, 0.26661700918871784, 0.0038088144169816833, 0.07236747392265198, 0.1818708884108754, 0.014283054063681314, 0.019044072084908416, 0.0009522036042454208, 0.03142271894009889, 0.004761018021227104, 0.960394005910265, 0.7619171409202483, 0.22478631418878953, 0.19829058894220217, 0.04358974153470824, 0.23504272396166204, 0.07350427003891977, 0.08119657736857416, 0.02222222117455714, 0.01965811873133901, 0.012820512216090657, 0.08888888469822856, 0.06968942122067, 0.0236944032150278, 0.5407899086723992, 0.12265338134837919, 0.11289686237748539, 0.0794459401915638, 0.0013937884244134, 0.048782594854469, 0.08330916369791808, 0.1388486061631968, 0.11107888493055744, 0.16970385197724053, 0.413460293908186, 0.021598672069830613, 0.03085524581404373, 0.024684196651234985, 0.3076362775319211, 0.6882709938002303, 0.9865791197797587, 0.19941410486742725, 0.5317709463131394, 0.2658854731565697, 0.9840436662264289, 0.9845703009597573, 0.9943141648330323, 0.9877300868116868, 0.9396805744233238, 0.05928840924758022, 0.9248991842622515, 0.4389819373267734, 0.01670039978960551, 0.0413533709075946, 0.11292651286304678, 0.03737708524340281, 0.15348462663780302, 0.1161075413944002, 0.02306245685231237, 0.0015905142656767151, 0.027038742516504156, 0.027038742516504156, 0.003976285664191788, 0.17510020480603683, 0.15450018071120897, 0.07210008433189752, 0.13905016264008807, 0.45320053008621297, 0.023578571224545184, 0.39270516901570085, 0.4244142820418133, 0.01626108360313461, 0.008130541801567305, 0.03496132974673941, 0.005691379261097113, 0.09431428489818074, 0.13312173534067967, 0.14550515258167313, 0.16717613275341167, 0.018575125861490186, 0.09287562930745093, 0.0030958543102483646, 0.049533668963973834, 0.14240929827142476, 0.03715025172298037, 0.14240929827142476, 0.0030958543102483646, 0.06191708620496729, 0.9933119416858821, 0.9787768766130535, 0.35180084483576024, 0.07936404283234169, 0.11045989587191417, 0.03202408745866419, 0.14294810054012422, 0.11092401308146002, 0.088182269813713, 0.0018564688381834313, 0.05058877584049851, 0.008818226981371299, 0.022741743267747035, 0.9751198490544744, 0.9858876135921546, 0.946465112857908, 0.9941081351146777, 0.4981667687543368, 0.11060619006704218, 0.04125786454881732, 0.08427138290822261, 0.013606317032056775, 0.06934832551822485, 0.046085912527934245, 0.05574200848616808, 0.03423524930646544, 0.004828047979116921, 0.0004389134526469928, 0.02984611477999551, 0.011411749768821812, 0.9800681724264159, 0.12802407481608524, 0.1587498527719457, 0.08449588937861627, 0.04352818543746898, 0.1024192598528682, 0.03072577795586046, 0.35078596499607356, 0.08193540788229456, 0.017923370474251934, 0.9898949695373305, 0.9885302846412763, 0.07042150299440393, 0.8249376065058747, 0.0905419324213765, 0.11897159946001142, 0.8526297961300818, 0.021002900831032047, 0.9661334382274741, 0.9951102094420786, 0.6706906076262156, 0.002425644150546892, 0.05578981546257851, 0.08004625696804743, 0.13341042828007904, 0.024256441505468917, 0.021830797354922025, 0.012128220752734458, 0.9459076205260547, 0.007567260964208437, 0.03783630482104219, 0.0037836304821042186, 0.26741731202202207, 0.7186840260591844, 0.06093062924787198, 0.9342696484673704, 0.16012081867196112, 0.8326282570941979, 0.9814336025840217, 0.06055323423119172, 0.9117586982810868, 0.01730092406605478, 0.00865046203302739, 0.9717237878329339, 0.02067497420921136, 0.9760344741154101, 0.9741794807486808, 0.4095837406120959, 0.03013918091296555, 0.09041754273889664, 0.056414364272986794, 0.004636797063533161, 0.08578074567536348, 0.13446711484246168, 0.04250397308238731, 0.006182396084710881, 0.10123673588714069, 0.03786717601885415, 0.9667388760363534, 0.30652974865488425, 0.05108829144248071, 0.6409258380965762, 0.022118083638439166, 0.24084135517411534, 0.09338746425118759, 0.14008119637678138, 0.4988856642892389, 0.9691918554532432, 0.0256739564358475, 0.05699726802289654, 0.05984713142404137, 0.48732664159576544, 0.07694631183091033, 0.005699726802289654, 0.313484974125931, 0.8688098795675253, 0.12206419795576802, 0.9648363350790348, 0.04071014173805237, 0.9515995631269741, 0.9886419985354659, 0.9697492599341695, 0.0054407954246906785, 0.22307261241231782, 0.304684543782678, 0.4624676110987077, 0.017093626611540725, 0.9811741675024377, 0.9577614770598664, 0.9795145123010796, 0.023959935212325593, 0.06332268591828907, 0.10439686056799008, 0.6982609690449173, 0.10439686056799008, 0.005134271831212627, 0.9760119659920299, 0.021217651434609346, 0.992100526233002, 0.011432668087921788, 0.9832094555612737, 0.99666311022044, 0.9921127297528751, 0.9846104174733706, 0.9712693441956145, 0.9940135241124902, 0.9986250954592866, 0.9937580968846113, 0.9847250095438651, 0.9457820040320406, 0.04450738842503721, 0.3096748916673708, 0.021827305139550363, 0.12914488874233965, 0.0572966759913197, 0.09049236922438587, 0.21963725796672554, 0.06047982465750413, 0.022282040663290995, 0.0009094710474812651, 0.08821869160568271, 0.9755918173181571, 0.24009035458574954, 0.7052654165956392, 0.04501694148482804, 0.10232445116135414, 0.893013391953636, 0.5595727940781206, 0.14773279245898077, 0.07526010181872606, 0.06201989872098721, 0.0006968527946178339, 0.02926781737394902, 0.0006968527946178339, 0.01811817266006368, 0.015330761481592344, 0.06968527946178338, 0.0006968527946178339, 0.013937055892356677, 0.005574822356942671, 0.0006968527946178339, 0.40544696557538196, 0.5613881061812981, 0.970231179767945, 0.02296405159214071, 0.8668104506584129, 0.9822055180559071, 0.9821917763835613, 0.24378983083548067, 0.4636283800450194, 0.021385072880305323, 0.16765897138159372, 0.01454184955860762, 0.006843223321697703, 0.01454184955860762, 0.0008554029152122129, 0.010264834982546555, 0.0051324174912732775, 0.027372893286790812, 0.022240475795517536, 0.04454700946660866, 0.9476363831987661, 0.00809945626665612, 0.5305355505112032, 0.11687159953290271, 0.09995597328471943, 0.07381364181025435, 0.05997358397083166, 0.09072926805843763, 0.026142331474465083, 0.9453804676906776, 0.4026591305819989, 0.5856860081192712, 0.9950206470999974, 0.993951010247237, 0.9914028168818836, 0.9739592240306858, 0.17961845753340175, 0.1065045341143568, 0.3615397158044112, 0.05929711899339865, 0.08520362729148544, 0.06505412083741793, 0.02648220848248872, 0.07253822323464301, 0.007484102397225073, 0.03108780995770415, 0.0046056014752154295, 0.12703607494835642, 0.2823023887741254, 0.05646047775482507, 0.21172679158059404, 0.3105326276515379, 0.9783041470362813, 0.11192218757380673, 0.79045044974001, 0.08394164068035505, 0.4657210074409888, 0.08747455444109008, 0.21868638610272517, 0.0008099495781582415, 0.11015314262952083, 0.07127556287792525, 0.014579092406848345, 0.001619899156316483, 0.02915818481369669, 0.1335318571138939, 0.20771622217716829, 0.035608495230371705, 0.3397643919897967, 0.0014836873012654878, 0.06379855395441597, 0.1083091729923806, 0.03857586983290268, 0.05489643014682305, 0.016320560313920367, 0.4610753131900246, 0.5306715868790849, 0.6723961021324018, 0.037183194587966914, 0.046478993234958646, 0.2385921652727877, 0.9907848322459799, 0.9902038213102742, 0.9953434050409106, 0.10590550238007992, 0.29387023508114896, 0.06873337240561479, 0.034366686202807396, 0.05330343166149718, 0.04348437846069507, 0.08135786937807464, 0.04418573940360951, 0.20830420004558767, 0.028054437716577466, 0.03787349091737958, 0.9564290903005623, 0.9757759152314739, 0.9918920274954974, 0.059613419881558695, 0.12419462475324729, 0.4346811866363655, 0.21361475457558532, 0.05712952738649375, 0.012419462475324728, 0.091904022317403, 0.007451677485194837, 0.9905915866497772, 0.8992032256395694, 0.9952034911364465, 0.9955033535625145, 0.991095631355608, 0.057266390208380646, 0.9305788408861855, 0.9513038523868564, 0.6216504230863719, 0.08358325016287353, 0.06268743762215515, 0.09664313300082251, 0.01175389455415409, 0.006529941418974495, 0.05746348448697555, 0.02350778910830818, 0.005223953135179596, 0.03264970709487247, 0.02768000272973088, 0.02768000272973088, 0.23528002320271246, 0.692000068243272, 0.9923191304670432, 0.07999052492486193, 0.8958938791584536, 0.9896259034488644, 0.7301089097483893, 0.26875174591965245, 0.9826966167447734, 0.9710490370769854, 0.21898227940032994, 0.07564842379284126, 0.26676023126949283, 0.0995373997274227, 0.03583346390187217, 0.30259369517136503, 0.43199597575078724, 0.08921656020940172, 0.478952060071525, 0.9686470089385695, 0.07273573909784345, 0.8728288691741214, 0.9857522727796059, 0.995367923050923, 0.9843809737204962, 0.9366853632322821, 0.9713289235640671, 0.34373833152834105, 0.15991663385251356, 0.03049956418836599, 0.05522894055731139, 0.06099912837673198, 0.07748537928936225, 0.0313238767339975, 0.02802662655147145, 0.028850939097102964, 0.12117394420783245, 0.0008243125456315133, 0.06099912837673198, 0.9919700421357468, 0.9813062904384741, 0.9787239395363356, 0.039479765828796524, 0.9475143798911165, 0.9935010522874609, 0.19549750697532603, 0.09144238229491057, 0.006306371192752453, 0.03783822715651471, 0.03468504156013849, 0.19865069257170226, 0.43198642670354304, 0.0031531855963762264, 0.9879610506126875, 0.27624336017820533, 0.7211027973483022, 0.9929672408986259, 0.5044606398234817, 0.00916368101405053, 0.00985095709010432, 0.1626553379993969, 0.1328733747037327, 0.10080049115455583, 0.07766219659407825, 0.002520012278863896, 0.09578118467956388, 0.014575397668629286, 0.11035658234819316, 0.02290419633641745, 0.07495918801009348, 0.06663038934230531, 0.06663038934230531, 0.016657597335576327, 0.5267965157376013, 0.936259290743423, 0.08363022671330946, 0.16168510497906496, 0.08920557516086342, 0.02787674223776982, 0.16168510497906496, 0.3958497397763314, 0.08363022671330946, 0.012684951830915937, 0.7484121580240403, 0.22832913295648685, 0.9906928811872578, 0.0897936047862185, 0.20353217084876193, 0.06584864350989357, 0.10575691230376845, 0.2294725455647806, 0.05786698975111859, 0.24942667996171805, 0.9918557070451971, 0.9912008777675191, 0.962496670654616, 0.9361136602847537, 0.9608653508073414, 0.18770071239894737, 0.07508028495957894, 0.6757225646362105, 0.9062937514403349, 0.973137924277779, 0.976274857361462, 0.9551476180633655, 0.028511869195921354, 0.9852905070805452, 0.9896698717311491, 0.02835521256884754, 0.9640772273408164, 0.08820938806979933, 0.7321379209793344, 0.17641877613959867, 0.987798507630506, 0.9874268333992716, 0.04287638018232602, 0.02501122177302351, 0.11076398213767555, 0.6431457027348902, 0.02143819009116301, 0.06074153859162853, 0.09289882372837305, 0.10501202595319306, 0.1725197569231029, 0.7125816046823815, 0.025700772732116996, 0.9637789774543872, 0.9907986787795906, 0.983230755831077, 0.07657640696005097, 0.9036016021286015, 0.994718737626714, 0.13028456492548396, 0.7817073895529038, 0.053262800488081526, 0.059718897516939894, 0.012912194057716734, 0.011298169800502142, 0.6633639697151972, 0.020982315343789693, 0.1775426682936051, 0.10661786632696132, 0.00969253330245103, 0.04846266651225515, 0.838404130662014, 0.09670571497806085, 0.9014354146169244, 0.9964498060542077, 0.9948009643074314, 0.9943188629164391, 0.2203791557821883, 0.15394601896668808, 0.5570163009915021, 0.0006387801616875024, 0.020440965174000077, 0.031300227922687614, 0.011498042910375043, 0.0006387801616875024, 0.0038326809701250144, 0.5607608445244142, 0.07491357585734718, 0.03418386471160502, 0.05600335282539546, 0.07709552466872621, 0.050912138932177685, 0.045093608768500236, 0.04800287385033896, 0.0349111809820647, 0.014546325409193626, 0.0036365813522984064, 0.22232215456360227, 0.7622473870752078, 0.9916899736346856, 0.2801280512482357, 0.14142387053308988, 0.013598449089720181, 0.016318138907664217, 0.016318138907664217, 0.054393796358880725, 0.4786654079581503, 0.12037760777857802, 0.04263373608824638, 0.7924859178756387, 0.04263373608824638, 0.9909680480629254, 0.003513522754530457, 0.03162170479077411, 0.3513522754530457, 0.6113529592882996, 0.017973872789179952, 0.9741839051735534, 0.007189549115671981, 0.9919485143236456, 0.9964311319925168, 0.9570020332595396, 0.1269613920238682, 0.17613657907536645, 0.0026822829300817224, 0.09745627979296925, 0.06705707325204306, 0.15646650425476716, 0.037551961021144116, 0.0634806960119341, 0.1314318635740044, 0.011623226030354131, 0.12785548633389543, 0.9920239522444458, 0.960747258962777, 0.9695274354253517, 0.8807834097146917, 0.9691439403094414, 0.9800818247351646, 0.9621987845133327, 0.0030889206565436044, 0.03397812722197965, 0.26034261407480813, 0.018865406817015085, 0.14337709180931463, 0.07923470863146335, 0.030184650907224133, 0.3810812177037047, 0.015092325453612066, 0.009432703408507543, 0.05848276113274676, 0.9772200813866543, 0.0015963722305467186, 0.007981861152733593, 0.584272236380099, 0.04469842245530812, 0.054276655838588435, 0.10536056721608343, 0.007981861152733593, 0.03512018907202781, 0.004789116691640156, 0.15165536190193826, 0.5337256565558453, 0.026686282827792264, 0.4376550383757931, 0.04265010532302088, 0.9553623592356678, 0.9950806784472505, 0.15646608348567853, 0.8304738277316784, 0.02924241789677911, 0.9503785816453211, 0.9824972580582005, 0.9962914269187686, 0.024948278164754388, 0.5460900887174016, 0.07484483449426316, 0.022176247257559456, 0.3298716779561969, 0.970641946579823, 0.3199980077350585, 0.06011523266699076, 0.055490984000299164, 0.11745591613396657, 0.04716733640025429, 0.19421844400104707, 0.0332945904001795, 0.06936373000037395, 0.010173347066721513, 0.09248497333383195, 0.24214762154481786, 0.11217132468620239, 0.3982378775896392, 0.011276482375861615, 0.03442294619999862, 0.09733384787585815, 0.07003289054482477, 0.009495985158620308, 0.00830898701379277, 0.015430975882758, 0.0011869981448275385, 0.0005934990724137693, 0.17737423384574735, 0.13644171834288257, 0.3125755729309674, 0.018605688864938533, 0.045894032533515046, 0.15380702795015855, 0.049615170306502754, 0.1041918576436558, 0.9359677608836606, 0.7480217845385779, 0.026715063733520637, 0.11932728467639218, 0.10507925068518117, 0.1883133118656419, 0.03347792210944745, 0.6653737019252681, 0.11298798711938515, 0.9903131555539569, 0.9819071375425324, 0.10669467054582939, 0.07861712566534797, 0.05615508976096283, 0.6570145502032652, 0.08984814361754054, 0.9885825032596246, 0.8758133940402055, 0.987904758090528, 0.020510278096749022, 0.38149117259953186, 0.0902452236256957, 0.47583845184457735, 0.028714389335448634, 0.913277101906294, 0.9767971388204765, 0.007833280106017282, 0.14323712193860172, 0.14435616195374704, 0.13204672178714846, 0.15442752209005497, 0.05147584069668499, 0.008952320121162607, 0.32228352436185387, 0.0346902404695051, 0.04131853041305197, 0.9585899055828055, 0.9902878016187385, 0.9212178860794862, 0.9866852999649912, 0.9948300285544779, 0.9640176695463181, 0.029814979470504682, 0.9257218343268888, 0.0550531380504349, 0.9359033468573933, 0.6610700749924106, 0.00173737207619556, 0.17026246346716487, 0.08078780154309353, 0.0043434301904888995, 0.050383790209671236, 0.022585836990542278, 0.007818174342880018, 0.9691571281225891, 0.4960398730874008, 0.009645219754477238, 0.03995876755426284, 0.08129542364487957, 0.005511554145415564, 0.14330040778080466, 0.035825101945201165, 0.1873928409441292, 0.9933014722189663, 0.9637624243374705, 0.9075956981509, 0.18548542429319348, 0.0856086573660893, 0.727673587611759, 0.1939788087365022, 0.7759152349460088, 0.1621071510432725, 0.09842219884770116, 0.7352717208034145, 0.9549658777880872, 0.287422392858267, 0.1572688564696178, 0.08405749225100262, 0.44740278133598166, 0.02169225606477487, 0.5983562293449488, 0.057534252821629696, 0.006904110338595564, 0.027616441354382255, 0.04257534708800597, 0.09205480451460751, 0.06213699304736007, 0.052931512595899316, 0.03567123674941041, 0.025315071241517065, 0.9625534287943197, 0.49318763870689636, 0.2877607214273296, 0.09130085212425189, 0.03342263336691364, 0.0024455585390424613, 0.03423781954659446, 0.05217191549957251, 0.004891117078084923, 0.9793350707247644, 0.3948347184282027, 0.10862833274713321, 0.19253884127635587, 0.027970169509740885, 0.15676304306622216, 0.05854221525294604, 0.014960788342419543, 0.0032523452918303353, 0.04228048879379436, 0.0406227266921909, 0.8835443055551521, 0.07108977171133407, 0.6968454241288146, 0.03820135595413161, 0.039518644090480975, 0.07376813563556449, 0.03424949154508351, 0.03424949154508351, 0.054008813590324, 0.023711186454288588, 0.00658644068174683, 0.9939268214651762, 0.0234309151872469, 0.9606675226771229, 0.9846761228469599, 0.9869600951368066, 0.9803347120532511, 0.9879082632876779, 0.950094469530158, 0.0470565657078616, 0.9933955945853024, 0.7346231508820913, 0.09791786785304298, 0.058138734037744264, 0.5171287395988832, 0.058138734037744264, 0.20195560244690114, 0.04589900055611389, 0.01835960022244556, 0.9957167953129544, 0.9864305963548258, 0.10983514692294377, 0.8396286786998368, 0.029289372512785006, 0.009763124170928335, 0.009763124170928335, 0.10491482188376869, 0.030958472031276007, 0.7412834136377755, 0.03783813248267068, 0.08427584052958469, 0.9706044389911264, 0.025408493167306975, 0.02518916548274818, 0.969782871085805, 0.9872324805498677, 0.0272133637694576, 0.9660744138157448, 0.39672422522411677, 0.5950863378361751, 0.9779482812306642, 0.9923894271577575, 0.2777005026694069, 0.013988644724018631, 0.06372604818719599, 0.19894961385270943, 0.07667849700573176, 0.07253371338380031, 0.1870333609396565, 0.031085877164485846, 0.029013485353520125, 0.036784954644641585, 0.012952448818535769, 0.033993831712831366, 0.06798766342566273, 0.44616904123091167, 0.3633090764308852, 0.08710919376413037, 0.03975945751524202, 0.030924022511854905, 0.9277206753556472, 0.9826963153009262, 0.960216555343733, 0.028663180756529343, 0.9542120887458827, 0.9903421944459246, 0.7086331179224945, 0.24802159127287307, 0.04064011260826276, 0.05911289106656401, 0.705660137107108, 0.12561489351644853, 0.033251001224942255, 0.025861889841621754, 0.0073891113833205015, 0.8493642037302759, 0.9651788721801376, 0.967391632628728, 0.9707322067449453, 0.014415475821073807, 0.29551725433201304, 0.07928511701590593, 0.48772359861299713, 0.12253154447912736, 0.07565857145687573, 0.6506637145291313, 0.22193180960683548, 0.05043904763791715, 0.07318235993043828, 0.12384707065151095, 0.32369120738463086, 0.47568533954784886, 0.9866151104093016, 0.2916172955674007, 0.010001315190939735, 0.4674298889239202, 0.022634555432126766, 0.11054085211038653, 0.026845635512522444, 0.01737070533163217, 0.04895380593459975, 0.0036846950703462176, 0.8081291291789676, 0.02786652169582647, 0.008359956508747941, 0.15605252149662824, 0.016787174858504405, 0.9736561417932555, 0.964425901243707, 0.9039821452001011, 0.1759901264966868, 0.8095545818847593, 0.995045774949025, 0.9963114022573459, 0.9897554406941694, 0.1876106543091135, 0.2309054206881397, 0.5772635517203493, 0.34975364979427837, 0.09992961422693668, 0.40388219083386906, 0.013879113087074539, 0.06661974281795778, 0.06523183150925033, 0.9937156306994964, 0.5045525614633292, 0.49295365200440205, 0.06060117989665618, 0.03636070793799371, 0.8968974624705114, 0.9917866391218491, 0.9893374254043551, 0.6546868047644309, 0.3361905213655185, 0.2337085150033216, 0.7011255450099648, 0.991812781929784, 0.05450903095090131, 0.9266535261653223, 0.9622866326014416, 0.9982513865414827, 0.9664864032735371, 0.004324716129018242, 0.9946847096741958, 0.1715532829975025, 0.028757486745246082, 0.06445643580831019, 0.07536444802202422, 0.024790936849350072, 0.028757486745246082, 0.19634421984685257, 0.13188778403854237, 0.04660696127677814, 0.08924737265766026, 0.07734772296997222, 0.06346479833433619, 0.1328533117062097, 0.822425262943203, 0.03795808905891706, 0.7867838825881086, 0.01207340996298888, 0.06841598979027032, 0.1307952745990462, 0.03526038298255701, 0.03526038298255701, 0.12781888831176916, 0.802173712853172, 0.0020652454266675453, 0.06608785365336145, 0.14250193444006062, 0.004130490853335091, 0.7847932621336673, 0.14475978113674234, 0.8271987493528135, 0.39964379877970113, 0.037300087886105435, 0.05595013182915815, 0.42628671869834783, 0.08259305174780489, 0.9890628954680273, 0.9812590653707557, 0.0638769106342794, 0.5603237774936789, 0.23533598654734517, 0.07172144351919091, 0.019051008434785084, 0.006723885329924148, 0.04146395953453224, 0.001120647554987358, 0.980395892189413, 0.01568633427503061, 0.9939110601765843, 0.5497912275972954, 0.4465155273856487, 0.06209868225769842, 0.09989788015368876, 0.1322971926359662, 0.06209868225769842, 0.08099828120569359, 0.45359037475188413, 0.10529776556740167, 0.9982272262890776, 0.9894475037613357, 0.04357479580408735, 0.06971967328653976, 0.05228975496490482, 0.08279211202776596, 0.3180960093698377, 0.09586455076899217, 0.047932275384496084, 0.2527338156637066, 0.037038576433474246, 0.9572228204616379, 0.9211427546500676, 0.9779628695752556, 0.056585499638709284, 0.2872802289349856, 0.20457834484764126, 0.026116384448635056, 0.04352730741439176, 0.3786875745052083, 0.9897698763454952, 0.9606094896173486, 0.9811039299837809, 0.029564265263756568, 0.8212295906599048, 0.14782132631878284, 0.17180555861621505, 0.20453042692406553, 0.2617989464628039, 0.3517923343093927, 0.9794799253829748, 0.9863937492450922, 0.9948642374678581, 0.9765084650277901, 0.9934326911056166, 0.35293279712813014, 0.031232990896294704, 0.1161867261342163, 0.09057567359925464, 0.02311241326325808, 0.04435084707273848, 0.12930458231066008, 0.0749591781511073, 0.014991835630221459, 0.06496462106429299, 0.018739794537776824, 0.02436173289910987, 0.01374251599436967, 0.0006246598179258941, 0.03369088832466882, 0.943344873090727, 0.9830276021869295, 0.9828568238435789, 0.991865268882981, 0.9582107213297993, 0.9901146301725464, 0.9895384759469787, 0.9894056199934927, 0.1267794751501228, 0.03756428893336972, 0.06573750563339702, 0.7137214897340247, 0.03286875281669851, 0.01878214446668486, 0.9779773272618265, 0.990914768812686, 0.24704370072005857, 0.7411311021601756, 0.9836925612741243, 0.6213021202080604, 0.3666701037293471, 0.012037149869902808, 0.9964834793119036, 0.9857597372891754, 0.3819090664478928, 0.04500013806207729, 0.13914516374458108, 0.23269808234732073, 0.09473713276226797, 0.04381592390254894, 0.02190796195127447, 0.028421139828680393, 0.011250034515519322, 0.08707268250709659, 0.04213194314859512, 0.17414536501419317, 0.1909981422736312, 0.06460231282784586, 0.053367127988220485, 0.08988147871700293, 0.01966157346934439, 0.014043981049531707, 0.014043981049531707, 0.03651435072878244, 0.21908610437269463, 0.16555957298799118, 0.5899702243778415, 0.014453613514824626, 0.08409375135897965, 0.09197754054888399, 0.04467480540945794, 0.007883789189904341, 0.07243248510648845, 0.6938269625989947, 0.04574683269883481, 0.1867995668535755, 0.11080357881073072, 0.03353266200851061, 0.8528959684773351, 0.002915883652913966, 0.9891241336192781, 0.9072819971236197, 0.37881528598105074, 0.6061044575696811, 0.5117368671911843, 0.024548263001791127, 0.1982744319375437, 0.2549242696339848, 0.00944163961607351, 0.9665082136937757, 0.9732191812299823, 0.02289927485247017, 0.3833920939419727, 0.575088140912959, 0.3197320349489275, 0.67556284803725, 0.9912993243788075, 0.9373933924100208, 0.25918917581335943, 0.7304422227467402, 0.17958163914633046, 0.2607837716298886, 0.2389216590381614, 0.0031231589416753124, 0.2607837716298886, 0.05465528147931797, 0.9866935773506842, 0.04451208365850477, 0.0687914020176892, 0.687914020176892, 0.04248880712857274, 0.07081467854762123, 0.08093106119728141, 0.0757665467211777, 0.1288031294260021, 0.0757665467211777, 0.7122055391790705, 0.1283901806094214, 0.0626293563948397, 0.0010438226065806616, 0.010438226065806617, 0.09498785719884022, 0.1607486814134219, 0.28391974898994, 0.22859715084116491, 0.011482048672387278, 0.016701161705290585, 0.03970004302998387, 0.012704013769594838, 0.18897220482272323, 0.3096603356338742, 0.25408027539189676, 0.19373620998632127, 0.07889704857546012, 0.9152057634753373, 0.9627033840800671, 0.08671946328217639, 0.8671946328217639, 0.9884368613583738, 0.5751144270737182, 0.40413446226801825, 0.07467215803974057, 0.9209566158234671, 0.3175233529856745, 0.015439824775201932, 0.10203710286220406, 0.22555570106381953, 0.007384264022922663, 0.04363428740817937, 0.1879630842198496, 0.034236133197186894, 0.01409723131648872, 0.025509275715551016, 0.011412044399062297, 0.015439824775201932, 0.9741109739486147, 0.08807912199193263, 0.8807912199193263, 0.9701587584840782, 0.026948854402335503, 0.9698532201528166, 0.15054493920968737, 0.1522954617586372, 0.17330173234603544, 0.1260376235243894, 0.14179232646493808, 0.008752612744749266, 0.09277769509434221, 0.15404598430758706, 0.8587764260150021, 0.9830498523748968, 0.9959138294870452, 0.9898429704231955, 0.08758381952697687, 0.2811901574287152, 0.24200792237717292, 0.01613386149181153, 0.30078127495448637, 0.003457256033959613, 0.03802981637355574, 0.03111530430563652, 0.9556560172224369, 0.24987138235763556, 0.10424570410461866, 0.11936531004345648, 0.12811876611330997, 0.0883303294321578, 0.16074528419185471, 0.08355571703041953, 0.04376728034926738, 0.0015915374672460865, 0.014323837205214778, 0.004774612401738259, 0.22307908002125137, 0.20279916365568307, 0.5475577418703443, 0.2865537945591038, 0.7061504223063628, 0.9737374175855821, 0.9895267566679513, 0.06403151408170701, 0.9284569541847517, 0.5443774009979061, 0.38106418069853426, 0.9764018024391375, 0.9224140071528907, 0.06987984902673415, 0.1087273540806228, 0.1087273540806228, 0.7746823978244375, 0.9754330428826354, 0.11198051037715692, 0.19293611744635697, 0.35727115215569116, 0.07804702238407907, 0.04459829850518804, 0.008725754055362878, 0.09937664340829944, 0.007756225826989225, 0.08337942764013416, 0.01551245165397845, 0.351240549421652, 0.018374757112601513, 0.07420574987781381, 0.22756429962529567, 0.08056624272448355, 0.11095526410301683, 0.0727923070229983, 0.03109574280594102, 0.023321807104455767, 0.009894099983708507, 0.9925350907631931, 0.9290576507866967, 0.05630652429010283, 0.051252487175470436, 0.9481710127462031, 0.9958707766333393, 0.040976479695879114, 0.4507412766546703, 0.508108348228901, 0.9867911087186989, 0.9910627496570162, 0.9817158011135936, 0.948351095598287, 0.9727795072090587, 0.9803642050814825, 0.13308772961074766, 0.8517614695087851, 0.03819912770223096, 0.06723046475592649, 0.8579524081921075, 0.00916779064853543, 0.0015279651080892386, 0.012987703418758528, 0.008403808094490811, 0.004583895324267715, 0.8813330673143162, 0.03560941686118449, 0.017804708430592245, 0.029674514050987075, 0.02373961124078966, 0.005934902810197415, 0.5450108435724503, 0.025154346626420784, 0.08079881037577585, 0.17303141467265207, 0.07088952231082221, 0.016007311489540498, 0.017531817345687213, 0.000762252928073357, 0.06555375181430871, 0.0053357704965135, 0.47020712240420987, 0.06204987888490568, 0.10289678408049685, 0.155280601430568, 0.12503518307963404, 0.04458860643488197, 0.010289678408049684, 0.019955739942884236, 0.009666061534834553, 0.12810576218814265, 0.010856420524418868, 0.03691182978302415, 0.18890171712488832, 0.032569261573256604, 0.03691182978302415, 0.14330475092232905, 0.08468008009046718, 0.06296723904162944, 0.1476473191320966, 0.12810576218814265, 0.025796219576258602, 0.9544601243215683, 0.4110771074435561, 0.05046470884217568, 0.08515919617117146, 0.1787291771493722, 0.01156482910966526, 0.1923967024607948, 0.01997561391669454, 0.03259179112723846, 0.01261617721054392, 0.00420539240351464, 0.10663290922221041, 0.02866476054360495, 0.043570436026279524, 0.25339648320546776, 0.20638627591395564, 0.1708419728398855, 0.001146590421744198, 0.029811350965349148, 0.07108860614814028, 0.0561829306654657, 0.030957941387093346, 0.9698471792058052, 0.9734751352053974, 0.9781202591831404, 0.9752966267426154, 0.012832850351876519, 0.2979920875276306, 0.08049574398256971, 0.08049574398256971, 0.20613223851222753, 0.03914302844642605, 0.08459944857775954, 0.12311113785569484, 0.008838748358870399, 0.0044193741794351996, 0.038196019693689943, 0.01578347921226857, 0.020834192560194514, 0.03156985511714185, 0.9628805810728265, 0.012685717387953752, 0.9768002388724388, 0.8105164839077855, 0.18340154015431642, 0.18455697524166487, 0.06045831947571781, 0.6809515983054532, 0.062049327882973536, 0.011137058850790122, 0.917639180601689, 0.11961394509711194, 0.7236643678375273, 0.005980697254855598, 0.027909920522659455, 0.027909920522659455, 0.02392278901942239, 0.0677812355550301, 0.9918127554947153, 0.038780758753942365, 0.04362835359818516, 0.8240911235212753, 0.08725670719637033, 0.9895342989123062, 0.9031588212099648, 0.07785851906982455, 0.9833123359469246, 0.982137751895742, 0.24118581662800723, 0.7016314665542028, 0.04385196665963768, 0.08149717504515709, 0.08828860629892019, 0.12224576256773564, 0.7063088503913615, 0.9566443397963563, 0.035552643566823215, 0.035552643566823215, 0.08888160891705804, 0.7288291931198759, 0.09480704951152857, 0.017776321783411608, 0.979179104314609, 0.0881947933627937, 0.04409739668139685, 0.8672488014008047, 0.980296795518606, 0.8047011950350395, 0.07324112531642794, 0.061826923968413196, 0.005707100674007372, 0.013316568239350535, 0.010463017902346848, 0.010463017902346848, 0.01617011857635422, 0.0009511834456678953, 0.002853550337003686, 0.9763664014712573, 0.0066119620867128035, 0.013223924173425607, 0.9713061303725595, 0.996304695342124, 0.998558905418237, 0.994484347723796, 0.9711583212406175, 0.18575691599838054, 0.03715138319967611, 0.06754796945395657, 0.5471385525770481, 0.16211512668949574, 0.06337764110461032, 0.03772478637179186, 0.819382359995319, 0.007544957274358371, 0.0015089914548716743, 0.009053948729230045, 0.033197812007176836, 0.027161846187690134, 0.9051776617245461, 0.09290679812422027, 0.9969381537471392, 0.9865410390291005, 0.18013931139577558, 0.12930547831696768, 0.21666070603491913, 0.039482588799074105, 0.012831841359699083, 0.002961194159930558, 0.07057512747834496, 0.08982288951789358, 0.0034547265199189837, 0.18161990847574086, 0.03553432991916669, 0.031586071039259284, 0.0064159206798495415, 0.9077535942732669, 0.04294748187959542, 0.02733021574156072, 0.019521582672543374, 0.06864993060814178, 0.3591408406814825, 0.27650666494945997, 0.036867555326594664, 0.008263417573202252, 0.005085180045047539, 0.08644806076580817, 0.005720827550678482, 0.12077302606987907, 0.0076277700675713095, 0.022247662697082986, 0.0019069425168928274, 0.9926901397915703, 0.8253324591803023, 0.012069540203130853, 0.0905215515234814, 0.40432959680488356, 0.2896689648751405, 0.19914741335165909, 0.9811574966940225, 0.11089822215079372, 0.8594612216686512, 0.978071961548965, 0.05698752881164237, 0.7571200256403915, 0.16282151089040675, 0.0020352688861300845, 0.020352688861300844, 0.9947501880649365, 0.03681069610510426, 0.11043208831531279, 0.6809978779444288, 0.055216044157656394, 0.11043208831531279, 0.033166123693891665, 0.903776870658548, 0.033166123693891665, 0.01865594457781406, 0.010364413654341145, 0.9918407804738855, 0.9947971414593048, 0.8992556888379797, 0.08667524711691371, 0.9957687146738583, 0.9726796130663743, 0.07727525816031812, 0.16227804213666805, 0.042501391988174965, 0.015455051632063623, 0.18546061958476348, 0.49069788931802, 0.02704634035611134, 0.9890333420340568, 0.39834004334528655, 0.07891642368161338, 0.2217175712959614, 0.04509509924663622, 0.24802304585649917, 0.007515849874439369, 0.97084892567188, 0.9930996978008106, 0.9785402626088844, 0.013782257219843441, 0.28121528811638896, 0.09569873873162285, 0.2004861844936233, 0.1726854335771742, 0.1357959756303475, 0.009623336855693918, 0.03207778951897973, 0.0016038894759489864, 0.05613613165821452, 0.014435005283540877, 0.6248907358198647, 0.1230845388736097, 0.06864330052566696, 0.002367010362954033, 0.13255258032542586, 0.04734020725908066, 0.09810488621084557, 0.22262262640153416, 0.04527917825115949, 0.003773264854263291, 0.6301352306619696, 0.9722450919922987, 0.9879660790980356, 0.8942669208366247, 0.10076246995342251, 0.6947244066530877, 0.30352037183872765, 0.9821538442514085, 0.3212786025091392, 0.049951443499654156, 0.06470982453364288, 0.16991059190412663, 0.0132447009279386, 0.08400924588578199, 0.14947591047244993, 0.09233448646905767, 0.0037842002651253146, 0.014379961007476195, 0.02270520159075189, 0.014001540980963664, 0.8976079270314566, 0.004869482425125443, 0.016231608083751476, 0.07953487961038223, 0.9520746124574355, 0.9979057342092145, 0.9922083272939924, 0.8022790482999103, 0.18010345982242884, 0.05284345277110655, 0.8930543518317008, 0.05284345277110655, 0.9673417920282473, 0.9283714758663443, 0.07123922409205809, 0.36178252599327376, 0.626538137530971, 0.010530052731612958, 0.9835079230907944, 0.952302240079369, 0.5361388370696037, 0.4446029380577202, 0.931409279203359, 0.996286744970401, 0.9769904209815107, 0.010274006537838738, 0.9760306210946801, 0.04678964989834141, 0.9435912729498851, 0.18556134951461656, 0.7236892631070045, 0.013917101213596243, 0.07422453980584662, 0.19740819605077337, 0.5416071019854551, 0.025308743083432485, 0.2353713106759221, 0.5754972352584398, 0.09874483393174302, 0.08794461772045863, 0.03702931272440363, 0.046286640905504536, 0.015428880301834846, 0.015428880301834846, 0.12343104241467877, 0.8534212156237687, 0.03216411616672495, 0.008577097644459986, 0.021442744111149967, 0.05789540910010491, 0.010721372055574984, 0.015009920877804978, 0.1269611423822394, 0.12638924534448157, 0.2779419603503079, 0.10694474606071518, 0.0022875881510313403, 0.19787637506421096, 0.0423203807940798, 0.0017156911132735055, 0.06805574749318238, 0.04003279264304846, 0.009150352604125361, 0.008952644046410442, 0.14324230474256708, 0.24530244687164612, 0.13070860307759247, 0.4404700870833938, 0.0017905288092820886, 0.008952644046410442, 0.021486345711385062, 0.5361764448325451, 0.03485976885908188, 0.04564969731546437, 0.0066399559731584535, 0.11702922402691775, 0.020749862416120167, 0.00497996697986884, 0.0008299944966448067, 0.1742988442954094, 0.05643962577184686, 0.0016599889932896134, 0.9950005139891798, 0.4039359059671316, 0.0018564652897761697, 0.16831951960637273, 0.07905448025630189, 0.002475287053034893, 0.10117735829280125, 0.05677689677898786, 0.11401790988041977, 0.008044682922363402, 0.027073452142569142, 0.013768784232506593, 0.018100536575317655, 0.005259984987699148, 0.6784923251621481, 0.012801741984191473, 0.07538803612912756, 0.048362136384723343, 0.10099152009751051, 0.06258629414493609, 0.019913820864297847, 0.0014224157760212748, 0.9951758014070131, 0.943586289153368, 0.9968375822735974, 0.9901969294146183, 0.0030928228306078905, 0.08969186208762883, 0.024124018078741545, 0.1329913817161393, 0.10886736363739775, 0.3859842892598647, 0.06680497314113043, 0.0006185645661215782, 0.18742506353483818, 0.15620444980042464, 0.18637269117818905, 0.18771350190608968, 0.1327402620621634, 0.19978079845719546, 0.04692837547652242, 0.05832526666367787, 0.02145297164641025, 0.008715269731354164, 0.0013408107279006406, 0.0013408107279006406, 0.9927391436101292, 0.9646645100914321], \"Term\": [\"abraham\", \"absolute\", \"absolute\", \"absolute\", \"accelerator\", \"accelerators\", \"access\", \"access\", \"access\", \"access\", \"access\", \"access\", \"accidents\", \"adaptec\", \"adapter\", \"adjective\", \"administration\", \"administration\", \"administration\", \"administration\", \"admitting\", \"advance\", \"advance\", \"advance\", \"advance\", \"advance\", \"advertising\", \"advertising\", \"aerospace\", \"agencies\", \"agencies\", \"agencies\", \"agencies\", \"agnostic\", \"agree\", \"agree\", \"agree\", \"agree\", \"aids\", \"aircraft\", \"alarms\", \"albicans\", \"algorithm\", \"algorithm\", \"algorithm\", \"also\", \"also\", \"also\", \"also\", \"also\", \"also\", \"also\", \"also\", \"also\", \"also\", \"also\", \"also\", \"also\", \"also\", \"amendment\", \"amendment\", \"american\", \"american\", \"american\", \"american\", \"american\", \"american\", \"american\", \"among\", \"among\", \"among\", \"among\", \"among\", \"among\", \"among\", \"among\", \"among\", \"among\", \"amour\", \"amps\", \"analog\", \"analog\", \"andersson\", \"anonymous\", \"anonymous\", \"anti\", \"anti\", \"anti\", \"anti\", \"anti\", \"anyone\", \"anyone\", \"anyone\", \"anyone\", \"anyone\", \"anyone\", \"anyone\", \"anyone\", \"apartment\", \"apostle\", \"apostles\", \"apple\", \"apple\", \"applelink\", \"application\", \"application\", \"application\", \"application\", \"application\", \"appreciated\", \"appreciated\", \"appreciated\", \"april\", \"april\", \"april\", \"april\", \"april\", \"april\", \"april\", \"april\", \"arab\", \"arabs\", \"arena\", \"argic\", \"argument\", \"argument\", \"armenia\", \"armenia\", \"armenia\", \"armenian\", \"armenian\", \"armenians\", \"armenians\", \"army\", \"army\", \"army\", \"army\", \"army\", \"around\", \"around\", \"around\", \"around\", \"around\", \"around\", \"around\", \"around\", \"around\", \"around\", \"around\", \"article\", \"article\", \"article\", \"article\", \"article\", \"article\", \"article\", \"article\", \"article\", \"assault\", \"assault\", \"asshole\", \"assumption\", \"astronomy\", \"astronomy\", \"astros\", \"asynchronous\", \"asynchronous\", \"atheism\", \"atheist\", \"atheists\", \"atmosphere\", \"audio\", \"audio\", \"audio\", \"aunt\", \"auth\", \"authentication\", \"auto\", \"auto\", \"auto\", \"auto\", \"available\", \"available\", \"available\", \"available\", \"available\", \"available\", \"available\", \"available\", \"available\", \"available\", \"average\", \"average\", \"average\", \"average\", \"average\", \"azerbaijan\", \"azerbaijan\", \"azerbaijani\", \"azerbaijanis\", \"azeri\", \"azeris\", \"babies\", \"back\", \"back\", \"back\", \"back\", \"back\", \"back\", \"back\", \"back\", \"back\", \"back\", \"back\", \"back\", \"baku\", \"ball\", \"ball\", \"balloon\", \"baltimore\", \"bandwidth\", \"banks\", \"banks\", \"banned\", \"barrier\", \"barrier\", \"baseball\", \"baseball\", \"based\", \"based\", \"based\", \"based\", \"based\", \"based\", \"based\", \"based\", \"based\", \"based\", \"batf\", \"batteries\", \"batting\", \"baud\", \"beauchaine\", \"beef\", \"belief\", \"belief\", \"beliefs\", \"believe\", \"believe\", \"believe\", \"believe\", \"believe\", \"believe\", \"believe\", \"believer\", \"believing\", \"best\", \"best\", \"best\", \"best\", \"best\", \"best\", \"best\", \"best\", \"best\", \"best\", \"better\", \"better\", \"better\", \"better\", \"better\", \"better\", \"better\", \"better\", \"better\", \"better\", \"bible\", \"bible\", \"bike\", \"bikes\", \"bill\", \"bill\", \"bill\", \"bill\", \"bill\", \"bill\", \"bill\", \"billion\", \"binaries\", \"binary\", \"bios\", \"bits\", \"bits\", \"blew\", \"blew\", \"blew\", \"block\", \"block\", \"block\", \"blood\", \"blood\", \"blood\", \"blood\", \"blood\", \"blood\", \"blood\", \"blood\", \"board\", \"board\", \"board\", \"board\", \"board\", \"bobbe\", \"bolt\", \"bolt\", \"bone\", \"book\", \"book\", \"book\", \"book\", \"book\", \"book\", \"book\", \"books\", \"books\", \"books\", \"books\", \"books\", \"books\", \"boston\", \"boston\", \"boston\", \"boston\", \"boston\", \"bounced\", \"brain\", \"brain\", \"brain\", \"brains\", \"braves\", \"breath\", \"briefing\", \"brightness\", \"brilliant\", \"brind\", \"bronx\", \"brown\", \"brown\", \"brown\", \"brown\", \"brown\", \"bruins\", \"budget\", \"buffalo\", \"buffalo\", \"buffalo\", \"burnt\", \"bury\", \"bush\", \"business\", \"business\", \"business\", \"business\", \"business\", \"business\", \"business\", \"business\", \"business\", \"business\", \"buyer\", \"byte\", \"byte\", \"byte\", \"cabinet\", \"cable\", \"cable\", \"cable\", \"cable\", \"cable\", \"cache\", \"cadre\", \"cages\", \"calgary\", \"calgary\", \"came\", \"came\", \"came\", \"came\", \"came\", \"came\", \"canadiens\", \"canal\", \"cancer\", \"candida\", \"card\", \"card\", \"cards\", \"cards\", \"cards\", \"cards\", \"care\", \"care\", \"care\", \"care\", \"care\", \"care\", \"care\", \"care\", \"cars\", \"cars\", \"cars\", \"cars\", \"cars\", \"carson\", \"case\", \"case\", \"case\", \"case\", \"case\", \"case\", \"case\", \"case\", \"case\", \"case\", \"case\", \"case\", \"cases\", \"cases\", \"cases\", \"cases\", \"cases\", \"cases\", \"cases\", \"cassels\", \"catbyte\", \"cellular\", \"celp\", \"center\", \"center\", \"center\", \"center\", \"center\", \"center\", \"centris\", \"championships\", \"channel\", \"channel\", \"char\", \"chastity\", \"chemistry\", \"chest\", \"chest\", \"chest\", \"chicago\", \"chicago\", \"chicago\", \"chicago\", \"children\", \"children\", \"children\", \"children\", \"children\", \"children\", \"children\", \"children\", \"chip\", \"chip\", \"chip\", \"chips\", \"chips\", \"chips\", \"christ\", \"christ\", \"christian\", \"christian\", \"christianity\", \"christians\", \"chronic\", \"chrysler\", \"church\", \"church\", \"cincinnati\", \"cipher\", \"ciphertext\", \"circuit\", \"circuits\", \"citizen\", \"citizen\", \"citizen\", \"citizen\", \"civilians\", \"claim\", \"claim\", \"claim\", \"classified\", \"cleansing\", \"clemens\", \"client\", \"client\", \"clients\", \"clinic\", \"clinical\", \"clinton\", \"clinton\", \"clinton\", \"clip\", \"clipper\", \"clipper\", \"clutch\", \"coach\", \"code\", \"code\", \"code\", \"code\", \"code\", \"coffey\", \"combat\", \"combo\", \"commentary\", \"communications\", \"communications\", \"communications\", \"communications\", \"communications\", \"comp\", \"comp\", \"compile\", \"compound\", \"computer\", \"computer\", \"computer\", \"computer\", \"computer\", \"computer\", \"concealed\", \"conclusion\", \"conclusion\", \"conclusions\", \"condition\", \"condition\", \"condition\", \"condition\", \"condition\", \"conducted\", \"conductor\", \"cone\", \"congress\", \"congress\", \"congress\", \"connector\", \"consideration\", \"consideration\", \"consideration\", \"consortium\", \"constitution\", \"constitution\", \"constitution\", \"constitutional\", \"constitutional\", \"consumer\", \"context\", \"context\", \"contracts\", \"contracts\", \"contrib\", \"control\", \"control\", \"control\", \"control\", \"control\", \"control\", \"control\", \"control\", \"controller\", \"copies\", \"copies\", \"copies\", \"cops\", \"copy\", \"copy\", \"copy\", \"copy\", \"copy\", \"copy\", \"copy\", \"copy\", \"corel\", \"corn\", \"cost\", \"cost\", \"cost\", \"cost\", \"cost\", \"cost\", \"cost\", \"cost\", \"cost\", \"could\", \"could\", \"could\", \"could\", \"could\", \"could\", \"could\", \"could\", \"could\", \"could\", \"could\", \"could\", \"could\", \"countersteering\", \"countries\", \"countries\", \"countries\", \"countries\", \"country\", \"country\", \"country\", \"country\", \"country\", \"country\", \"court\", \"court\", \"court\", \"court\", \"courtnall\", \"cover\", \"cover\", \"cover\", \"cover\", \"cover\", \"cover\", \"cover\", \"cover\", \"crash\", \"crash\", \"crime\", \"crime\", \"crime\", \"crimes\", \"crimes\", \"criminal\", \"criminal\", \"criminals\", \"criminals\", \"criminals\", \"crowd\", \"crowd\", \"crowd\", \"crowley\", \"cryptanalysis\", \"crypto\", \"cryptographic\", \"cryptographic\", \"cryptography\", \"cryptography\", \"cubs\", \"cubs\", \"current\", \"current\", \"current\", \"current\", \"current\", \"current\", \"current\", \"current\", \"current\", \"current\", \"cursor\", \"cute\", \"cuts\", \"cwru\", \"cylinder\", \"cyprus\", \"dallas\", \"damaging\", \"data\", \"data\", \"data\", \"data\", \"data\", \"data\", \"daughter\", \"daughter\", \"davidian\", \"deaf\", \"dealer\", \"dealer\", \"dealer\", \"death\", \"death\", \"death\", \"death\", \"death\", \"debt\", \"decenso\", \"defense\", \"defense\", \"defense\", \"defense\", \"defenseman\", \"defensive\", \"deficit\", \"department\", \"department\", \"department\", \"department\", \"department\", \"department\", \"department\", \"dept\", \"dept\", \"descriptive\", \"detail\", \"detail\", \"detail\", \"detail\", \"detail\", \"detail\", \"detector\", \"detectors\", \"detroit\", \"detroit\", \"devils\", \"diamond\", \"diet\", \"diet\", \"different\", \"different\", \"different\", \"different\", \"different\", \"different\", \"different\", \"different\", \"different\", \"dineen\", \"directive\", \"directory\", \"directory\", \"disciples\", \"disease\", \"diseases\", \"disk\", \"disk\", \"disk\", \"disks\", \"disks\", \"disks\", \"display\", \"display\", \"division\", \"division\", \"division\", \"division\", \"doctor\", \"doctor\", \"doctors\", \"doctors\", \"doctors\", \"doctrine\", \"doctrine\", \"dodgers\", \"dole\", \"door\", \"door\", \"door\", \"door\", \"dortmund\", \"double\", \"double\", \"double\", \"double\", \"double\", \"double\", \"double\", \"double\", \"double\", \"double\", \"doubles\", \"dragon\", \"drake\", \"drive\", \"drive\", \"drive\", \"driver\", \"driver\", \"driver\", \"driver\", \"driver\", \"drivers\", \"drivers\", \"drivers\", \"drivers\", \"drives\", \"driving\", \"driving\", \"driving\", \"driving\", \"driving\", \"drug\", \"drug\", \"drug\", \"drugs\", \"dryden\", \"dtmedin\", \"dude\", \"earth\", \"earth\", \"earth\", \"easiest\", \"easiest\", \"easter\", \"echo\", \"economic\", \"economic\", \"economic\", \"economic\", \"economic\", \"economy\", \"economy\", \"edition\", \"edition\", \"edition\", \"edition\", \"education\", \"education\", \"education\", \"education\", \"eisa\", \"electronic\", \"electronic\", \"electronic\", \"electronic\", \"electronic\", \"emulation\", \"encrypt\", \"encryption\", \"encryption\", \"enemies\", \"enforcement\", \"enforcement\", \"enforcement\", \"enforcement\", \"engine\", \"engine\", \"entity\", \"entries\", \"entries\", \"entry\", \"entry\", \"escrow\", \"escrow\", \"escrowed\", \"espn\", \"eternal\", \"eternal\", \"ethernet\", \"ethnic\", \"even\", \"even\", \"even\", \"even\", \"even\", \"even\", \"even\", \"even\", \"even\", \"even\", \"even\", \"even\", \"event\", \"event\", \"event\", \"event\", \"events\", \"events\", \"events\", \"events\", \"events\", \"events\", \"evidence\", \"evidence\", \"evidence\", \"excellent\", \"excellent\", \"excellent\", \"excellent\", \"excellent\", \"excellent\", \"excellent\", \"exclusively\", \"exhaust\", \"exist\", \"exist\", \"exist\", \"exist\", \"exist\", \"existence\", \"existence\", \"exit\", \"explanation\", \"explanation\", \"export\", \"export\", \"expos\", \"expose\", \"expose\", \"expose\", \"extracting\", \"face\", \"face\", \"face\", \"face\", \"face\", \"face\", \"faceplate\", \"fact\", \"fact\", \"fact\", \"fact\", \"fact\", \"fact\", \"fact\", \"fact\", \"fact\", \"fact\", \"faith\", \"faith\", \"fans\", \"fans\", \"fatal\", \"fatal\", \"fatal\", \"father\", \"father\", \"father\", \"federal\", \"federal\", \"federal\", \"females\", \"feustel\", \"fielding\", \"file\", \"file\", \"file\", \"filename\", \"files\", \"files\", \"files\", \"files\", \"finals\", \"find\", \"find\", \"find\", \"find\", \"find\", \"find\", \"find\", \"find\", \"find\", \"find\", \"fingers\", \"fingers\", \"finland\", \"finland\", \"fire\", \"fire\", \"fire\", \"fire\", \"fire\", \"firearm\", \"firearm\", \"firearms\", \"first\", \"first\", \"first\", \"first\", \"first\", \"first\", \"first\", \"first\", \"first\", \"first\", \"first\", \"first\", \"first\", \"first\", \"flames\", \"flames\", \"flames\", \"fleet\", \"fleury\", \"flight\", \"flight\", \"floor\", \"floor\", \"floppies\", \"floppy\", \"floppy\", \"fluke\", \"fluke\", \"flyers\", \"font\", \"food\", \"food\", \"food\", \"foolish\", \"forces\", \"forces\", \"forces\", \"ford\", \"ford\", \"format\", \"format\", \"formats\", \"forty\", \"freeware\", \"fried\", \"fuck\", \"fund\", \"fund\", \"funds\", \"funds\", \"funds\", \"fuse\", \"gainey\", \"galley\", \"game\", \"game\", \"game\", \"game\", \"games\", \"gateway\", \"gaza\", \"gender\", \"general\", \"general\", \"general\", \"general\", \"general\", \"general\", \"general\", \"general\", \"general\", \"general\", \"generalizations\", \"genocide\", \"gentile\", \"gentiles\", \"george\", \"george\", \"george\", \"george\", \"georgia\", \"german\", \"german\", \"german\", \"germany\", \"germany\", \"germany\", \"germany\", \"germany\", \"germany\", \"ghost\", \"giants\", \"gifs\", \"gilmour\", \"glow\", \"glutamate\", \"goal\", \"goal\", \"goal\", \"goal\", \"goal\", \"going\", \"going\", \"going\", \"going\", \"going\", \"going\", \"going\", \"going\", \"going\", \"gonna\", \"good\", \"good\", \"good\", \"good\", \"good\", \"good\", \"good\", \"good\", \"good\", \"good\", \"gordon\", \"gordon\", \"gospel\", \"goverment\", \"government\", \"government\", \"government\", \"government\", \"grace\", \"grace\", \"graeme\", \"grandfather\", \"graphics\", \"graphics\", \"grass\", \"gravity\", \"great\", \"great\", \"great\", \"great\", \"great\", \"great\", \"great\", \"great\", \"great\", \"great\", \"great\", \"greece\", \"greed\", \"greek\", \"greek\", \"ground\", \"ground\", \"ground\", \"ground\", \"grounded\", \"guidelines\", \"guns\", \"gurus\", \"handgun\", \"handgun\", \"handguns\", \"handheld\", \"handheld\", \"handler\", \"handlers\", \"happened\", \"happened\", \"happened\", \"happened\", \"happened\", \"happened\", \"hard\", \"hard\", \"hard\", \"hard\", \"hard\", \"hard\", \"hard\", \"harley\", \"hartford\", \"hartford\", \"hawgood\", \"hawks\", \"head\", \"head\", \"head\", \"head\", \"head\", \"head\", \"headache\", \"headaches\", \"headaches\", \"heal\", \"health\", \"health\", \"heard\", \"heard\", \"heard\", \"heard\", \"heard\", \"heard\", \"heard\", \"heard\", \"heaven\", \"heaven\", \"heaven\", \"hellman\", \"hello\", \"hello\", \"helmet\", \"help\", \"help\", \"help\", \"help\", \"help\", \"help\", \"help\", \"help\", \"help\", \"help\", \"help\", \"henrik\", \"hewlett\", \"hicnet\", \"high\", \"high\", \"high\", \"high\", \"high\", \"high\", \"high\", \"high\", \"high\", \"high\", \"high\", \"high\", \"high\", \"history\", \"history\", \"history\", \"history\", \"history\", \"hockey\", \"holocaust\", \"holy\", \"holy\", \"home\", \"home\", \"home\", \"home\", \"home\", \"home\", \"home\", \"home\", \"home\", \"homeland\", \"homeland\", \"homicide\", \"homicides\", \"homosexual\", \"hong\", \"house\", \"house\", \"house\", \"house\", \"house\", \"house\", \"house\", \"house\", \"housing\", \"however\", \"however\", \"however\", \"however\", \"however\", \"however\", \"however\", \"however\", \"however\", \"however\", \"however\", \"hulk\", \"hull\", \"human\", \"human\", \"human\", \"human\", \"humans\", \"humans\", \"idaho\", \"ieee\", \"illegal\", \"illegal\", \"illegal\", \"illness\", \"image\", \"image\", \"image\", \"immune\", \"include\", \"include\", \"include\", \"include\", \"include\", \"include\", \"include\", \"include\", \"include\", \"include\", \"income\", \"income\", \"indeed\", \"indeed\", \"indeed\", \"indeed\", \"indeed\", \"indeed\", \"inevitable\", \"infection\", \"infection\", \"infections\", \"info\", \"info\", \"info\", \"info\", \"information\", \"information\", \"information\", \"information\", \"information\", \"information\", \"information\", \"information\", \"information\", \"ingr\", \"initiative\", \"initiative\", \"input\", \"input\", \"input\", \"insisting\", \"institute\", \"institute\", \"institute\", \"institute\", \"insurance\", \"insurance\", \"insurance\", \"intake\", \"intellect\", \"intentional\", \"international\", \"international\", \"international\", \"international\", \"international\", \"internet\", \"internet\", \"internet\", \"internet\", \"internet\", \"intersecting\", \"invading\", \"investment\", \"ironic\", \"irony\", \"isaiah\", \"islanders\", \"israel\", \"israeli\", \"israelis\", \"issue\", \"issue\", \"issue\", \"issue\", \"issue\", \"issue\", \"issue\", \"issue\", \"issue\", \"issue\", \"jail\", \"january\", \"january\", \"january\", \"jersey\", \"jersey\", \"jesus\", \"jesus\", \"jewish\", \"jewish\", \"jewish\", \"jews\", \"jews\", \"jews\", \"jobs\", \"john\", \"john\", \"john\", \"john\", \"john\", \"john\", \"john\", \"john\", \"joshua\", \"jpeg\", \"judas\", \"jumped\", \"jumper\", \"jumpers\", \"juneau\", \"karabakh\", \"karabakh\", \"karina\", \"kennedy\", \"kennedy\", \"keyboards\", \"keycode\", \"keys\", \"keys\", \"keys\", \"keys\", \"kidney\", \"killed\", \"killed\", \"killed\", \"kings\", \"kings\", \"kings\", \"kirlian\", \"know\", \"know\", \"know\", \"know\", \"know\", \"know\", \"know\", \"know\", \"know\", \"kong\", \"koresh\", \"koresh\", \"koresh\", \"kurds\", \"kurds\", \"kurds\", \"label\", \"label\", \"label\", \"labeled\", \"labeled\", \"lafontaine\", \"lance\", \"land\", \"land\", \"land\", \"land\", \"land\", \"land\", \"land\", \"laptop\", \"last\", \"last\", \"last\", \"last\", \"last\", \"last\", \"last\", \"last\", \"last\", \"last\", \"last\", \"last\", \"laughter\", \"launch\", \"launched\", \"laws\", \"laws\", \"laws\", \"leafs\", \"league\", \"lebanese\", \"lebanon\", \"left\", \"left\", \"left\", \"left\", \"left\", \"left\", \"left\", \"left\", \"left\", \"left\", \"left\", \"legal\", \"legal\", \"legal\", \"legal\", \"legal\", \"legal\", \"legal\", \"lemieux\", \"lemieux\", \"lens\", \"lethal\", \"lever\", \"libertarian\", \"libertarians\", \"libraries\", \"life\", \"life\", \"life\", \"life\", \"life\", \"lights\", \"like\", \"like\", \"like\", \"like\", \"like\", \"like\", \"like\", \"like\", \"like\", \"like\", \"like\", \"like\", \"lindros\", \"lindros\", \"line\", \"line\", \"line\", \"line\", \"line\", \"line\", \"line\", \"line\", \"line\", \"line\", \"line\", \"lineup\", \"linked\", \"linked\", \"list\", \"list\", \"list\", \"list\", \"list\", \"list\", \"list\", \"list\", \"list\", \"list\", \"little\", \"little\", \"little\", \"little\", \"little\", \"little\", \"little\", \"little\", \"little\", \"little\", \"little\", \"loan\", \"lodge\", \"look\", \"look\", \"look\", \"look\", \"look\", \"look\", \"look\", \"look\", \"look\", \"look\", \"looking\", \"looking\", \"looking\", \"looking\", \"looking\", \"looking\", \"looking\", \"looking\", \"looks\", \"looks\", \"looks\", \"looks\", \"looks\", \"looks\", \"looks\", \"looks\", \"lord\", \"lord\", \"lotus\", \"louis\", \"louis\", \"louis\", \"lucifer\", \"luke\", \"lunar\", \"lyuda\", \"macinnis\", \"macs\", \"macs\", \"made\", \"made\", \"made\", \"made\", \"made\", \"made\", \"made\", \"made\", \"made\", \"made\", \"made\", \"made\", \"magazine\", \"magazine\", \"magazine\", \"magazine\", \"magazine\", \"mail\", \"mail\", \"mail\", \"mail\", \"mail\", \"mail\", \"mail\", \"mail\", \"main\", \"main\", \"main\", \"main\", \"main\", \"main\", \"main\", \"main\", \"main\", \"main\", \"main\", \"main\", \"maine\", \"mainstream\", \"make\", \"make\", \"make\", \"make\", \"make\", \"make\", \"make\", \"make\", \"make\", \"make\", \"make\", \"males\", \"mamma\", \"manhattan\", \"manuals\", \"many\", \"many\", \"many\", \"many\", \"many\", \"many\", \"many\", \"many\", \"many\", \"many\", \"many\", \"many\", \"many\", \"marina\", \"mark\", \"mark\", \"mark\", \"mark\", \"mark\", \"mark\", \"mark\", \"mark\", \"mark\", \"marriage\", \"mars\", \"mary\", \"mary\", \"mary\", \"mask\", \"mask\", \"massacre\", \"massacre\", \"matthew\", \"mean\", \"mean\", \"mean\", \"mean\", \"mean\", \"mean\", \"mean\", \"mean\", \"meaning\", \"meaning\", \"meaning\", \"meaning\", \"meat\", \"meat\", \"medical\", \"medical\", \"medicine\", \"medicine\", \"megs\", \"memory\", \"memory\", \"memory\", \"memory\", \"merely\", \"merely\", \"messiah\", \"meter\", \"might\", \"might\", \"might\", \"might\", \"might\", \"might\", \"might\", \"might\", \"might\", \"might\", \"might\", \"mild\", \"miles\", \"miles\", \"miles\", \"military\", \"military\", \"military\", \"military\", \"military\", \"militia\", \"militia\", \"million\", \"million\", \"million\", \"million\", \"million\", \"million\", \"minnesota\", \"minnesota\", \"miracles\", \"mission\", \"mission\", \"missions\", \"mitre\", \"models\", \"models\", \"models\", \"models\", \"modem\", \"modem\", \"mogilny\", \"moncton\", \"money\", \"money\", \"money\", \"money\", \"money\", \"money\", \"monitor\", \"monitor\", \"montreal\", \"moon\", \"moon\", \"moral\", \"morality\", \"mormon\", \"mormons\", \"motherboard\", \"motif\", \"motorcycle\", \"motorcycles\", \"motorola\", \"motorola\", \"much\", \"much\", \"much\", \"much\", \"much\", \"much\", \"much\", \"much\", \"much\", \"much\", \"mullen\", \"murphy\", \"murphy\", \"murphy\", \"muslim\", \"muslim\", \"must\", \"must\", \"must\", \"must\", \"must\", \"must\", \"must\", \"must\", \"must\", \"must\", \"must\", \"must\", \"must\", \"must\", \"mydisplay\", \"mydisplay\", \"myers\", \"myers\", \"myhint\", \"mystical\", \"nagorno\", \"name\", \"name\", \"name\", \"name\", \"name\", \"name\", \"name\", \"name\", \"name\", \"name\", \"name\", \"name\", \"nasa\", \"nasa\", \"nasa\", \"national\", \"national\", \"national\", \"national\", \"national\", \"national\", \"national\", \"nationality\", \"navy\", \"navy\", \"nazi\", \"nazis\", \"ncsl\", \"neck\", \"need\", \"need\", \"need\", \"need\", \"need\", \"need\", \"need\", \"need\", \"need\", \"need\", \"need\", \"netcom\", \"netcom\", \"netcom\", \"netcom\", \"netcom\", \"networking\", \"neutral\", \"neutral\", \"neutral\", \"never\", \"never\", \"never\", \"never\", \"never\", \"never\", \"never\", \"never\", \"never\", \"news\", \"news\", \"news\", \"news\", \"news\", \"news\", \"news\", \"news\", \"news\", \"news\", \"newsletter\", \"newsletter\", \"night\", \"night\", \"night\", \"night\", \"nist\", \"nubus\", \"null\", \"number\", \"number\", \"number\", \"number\", \"number\", \"number\", \"number\", \"number\", \"number\", \"number\", \"number\", \"nylander\", \"observatory\", \"occupied\", \"office\", \"office\", \"office\", \"office\", \"office\", \"office\", \"office\", \"office\", \"offset\", \"olney\", \"openwindows\", \"orbit\", \"orbital\", \"orthodox\", \"orthodox\", \"oscillator\", \"others\", \"others\", \"others\", \"others\", \"others\", \"others\", \"others\", \"others\", \"others\", \"others\", \"ottawa\", \"ottawa\", \"ottawa\", \"ottawa\", \"ottoman\", \"outlet\", \"outlet\", \"outlets\", \"output\", \"output\", \"ozone\", \"packard\", \"page\", \"page\", \"page\", \"page\", \"page\", \"page\", \"pain\", \"pain\", \"pain\", \"pains\", \"pairs\", \"pairs\", \"palestine\", \"palestinian\", \"palestinians\", \"panasonic\", \"parliament\", \"part\", \"part\", \"part\", \"part\", \"part\", \"part\", \"part\", \"part\", \"part\", \"part\", \"part\", \"part\", \"patches\", \"patent\", \"patents\", \"patient\", \"patient\", \"patients\", \"paul\", \"paul\", \"paul\", \"paul\", \"paul\", \"paul\", \"paul\", \"paul\", \"payload\", \"peace\", \"peace\", \"pens\", \"people\", \"people\", \"people\", \"people\", \"people\", \"people\", \"people\", \"people\", \"period\", \"period\", \"period\", \"period\", \"period\", \"period\", \"period\", \"period\", \"period\", \"perpendicular\", \"peter\", \"peter\", \"peter\", \"peter\", \"peter\", \"peter\", \"peter\", \"philadelphia\", \"philadelphia\", \"philadelphia\", \"phillies\", \"phone\", \"phone\", \"phone\", \"phone\", \"phone\", \"phone\", \"phone\", \"phones\", \"phrase\", \"physician\", \"pierce\", \"pinch\", \"pink\", \"pink\", \"pink\", \"pinouts\", \"pipe\", \"pipes\", \"pitch\", \"pitch\", \"pitcher\", \"pitching\", \"pitt\", \"pitt\", \"pittsburgh\", \"pittsburgh\", \"pittsburgh\", \"pixel\", \"plaintext\", \"plan\", \"plan\", \"plan\", \"plan\", \"plan\", \"plan\", \"plan\", \"plane\", \"plane\", \"plane\", \"planes\", \"planes\", \"planetary\", \"plants\", \"plate\", \"plate\", \"platforms\", \"platter\", \"platter\", \"play\", \"play\", \"play\", \"play\", \"play\", \"play\", \"play\", \"played\", \"played\", \"played\", \"played\", \"player\", \"player\", \"players\", \"playoff\", \"playoffs\", \"please\", \"please\", \"please\", \"please\", \"please\", \"please\", \"please\", \"please\", \"please\", \"point\", \"point\", \"point\", \"point\", \"point\", \"point\", \"point\", \"point\", \"point\", \"point\", \"point\", \"pointer\", \"pointer\", \"pointers\", \"points\", \"points\", \"points\", \"points\", \"points\", \"points\", \"points\", \"police\", \"police\", \"police\", \"police\", \"pope\", \"population\", \"population\", \"population\", \"population\", \"port\", \"port\", \"port\", \"ports\", \"postscript\", \"poulin\", \"power\", \"power\", \"power\", \"power\", \"power\", \"power\", \"power\", \"power\", \"power\", \"power\", \"power\", \"powerbook\", \"practically\", \"praise\", \"prefered\", \"premises\", \"presentations\", \"president\", \"president\", \"president\", \"pretty\", \"pretty\", \"pretty\", \"pretty\", \"pretty\", \"pretty\", \"pretty\", \"pretty\", \"pretty\", \"prevention\", \"price\", \"price\", \"price\", \"price\", \"price\", \"price\", \"price\", \"price\", \"price\", \"price\", \"print\", \"print\", \"print\", \"printer\", \"printer\", \"printf\", \"printing\", \"printing\", \"prison\", \"prison\", \"prisoners\", \"privacy\", \"private\", \"private\", \"private\", \"private\", \"private\", \"prize\", \"probably\", \"probably\", \"probably\", \"probably\", \"probably\", \"probably\", \"probably\", \"probably\", \"probably\", \"probably\", \"problem\", \"problem\", \"problem\", \"problem\", \"problem\", \"problem\", \"problem\", \"problem\", \"problem\", \"problem\", \"problem\", \"problem\", \"problems\", \"problems\", \"problems\", \"problems\", \"problems\", \"problems\", \"problems\", \"problems\", \"profile\", \"program\", \"program\", \"program\", \"program\", \"project\", \"project\", \"project\", \"project\", \"promise\", \"promo\", \"property\", \"property\", \"property\", \"property\", \"property\", \"prophecy\", \"proponents\", \"propulsion\", \"protect\", \"protect\", \"protect\", \"protect\", \"protect\", \"protestant\", \"pseudo\", \"public\", \"public\", \"public\", \"public\", \"public\", \"public\", \"public\", \"public\", \"public\", \"publication\", \"publication\", \"puck\", \"pulse\", \"quack\", \"quadra\", \"quebec\", \"quebec\", \"queens\", \"quest\", \"quest\", \"question\", \"question\", \"question\", \"question\", \"question\", \"question\", \"question\", \"question\", \"quicktime\", \"quite\", \"quite\", \"quite\", \"quite\", \"quite\", \"quite\", \"quite\", \"quite\", \"quote\", \"quran\", \"rabin\", \"radar\", \"radar\", \"radar\", \"radius\", \"radius\", \"random\", \"random\", \"random\", \"ranford\", \"rate\", \"rate\", \"rate\", \"rate\", \"rate\", \"rather\", \"rather\", \"rather\", \"rather\", \"rather\", \"rather\", \"rather\", \"rather\", \"rather\", \"rather\", \"reactions\", \"read\", \"read\", \"read\", \"read\", \"read\", \"read\", \"read\", \"read\", \"reagan\", \"really\", \"really\", \"really\", \"really\", \"really\", \"really\", \"really\", \"really\", \"really\", \"rear\", \"rear\", \"rear\", \"reason\", \"reason\", \"reason\", \"reason\", \"reason\", \"reason\", \"reason\", \"reason\", \"reason\", \"reasoning\", \"recchi\", \"recchi\", \"receiver\", \"reds\", \"reform\", \"reject\", \"religion\", \"religion\", \"religions\", \"remotes\", \"report\", \"report\", \"report\", \"report\", \"report\", \"report\", \"report\", \"republic\", \"republicans\", \"request\", \"request\", \"request\", \"request\", \"request\", \"research\", \"research\", \"research\", \"research\", \"research\", \"resource\", \"resource\", \"resurrection\", \"resurrection\", \"retail\", \"ride\", \"ride\", \"rider\", \"rider\", \"riders\", \"riding\", \"right\", \"right\", \"right\", \"right\", \"right\", \"right\", \"right\", \"right\", \"right\", \"right\", \"right\", \"rights\", \"rights\", \"rights\", \"rights\", \"rights\", \"ripem\", \"ripem\", \"ripem\", \"rockefeller\", \"rocket\", \"rocket\", \"roenick\", \"roger\", \"roof\", \"roof\", \"room\", \"room\", \"room\", \"room\", \"room\", \"room\", \"room\", \"ross\", \"rotor\", \"rounds\", \"runner\", \"runs\", \"runs\", \"runs\", \"runs\", \"runs\", \"russia\", \"russia\", \"russia\", \"russia\", \"russian\", \"russian\", \"russian\", \"russian\", \"sabbath\", \"said\", \"said\", \"said\", \"said\", \"said\", \"said\", \"said\", \"said\", \"said\", \"sale\", \"sale\", \"sale\", \"sale\", \"salvation\", \"salvation\", \"sandstrom\", \"sank\", \"satan\", \"satan\", \"satellite\", \"satellites\", \"saturn\", \"saves\", \"saves\", \"saves\", \"says\", \"says\", \"says\", \"says\", \"says\", \"says\", \"scheme\", \"science\", \"science\", \"scope\", \"scope\", \"scope\", \"scored\", \"scorer\", \"scoring\", \"scoring\", \"screws\", \"screws\", \"scripture\", \"scriptures\", \"scriptures\", \"scrolls\", \"scsi\", \"seagate\", \"season\", \"season\", \"second\", \"second\", \"second\", \"second\", \"second\", \"second\", \"second\", \"second\", \"second\", \"second\", \"second\", \"second\", \"secretary\", \"secretary\", \"secretary\", \"section\", \"section\", \"section\", \"section\", \"secure\", \"secure\", \"secure\", \"secure\", \"security\", \"security\", \"security\", \"security\", \"security\", \"segment\", \"segment\", \"self\", \"self\", \"self\", \"self\", \"self\", \"senate\", \"senator\", \"send\", \"send\", \"send\", \"send\", \"send\", \"send\", \"send\", \"send\", \"senior\", \"senior\", \"serdar\", \"serial\", \"serial\", \"series\", \"series\", \"series\", \"series\", \"series\", \"series\", \"series\", \"server\", \"servers\", \"service\", \"service\", \"service\", \"service\", \"service\", \"service\", \"service\", \"service\", \"service\", \"shack\", \"shafer\", \"shaft\", \"shall\", \"shall\", \"shall\", \"shall\", \"shall\", \"shall\", \"shameful\", \"shanahan\", \"sharks\", \"shipping\", \"shipping\", \"shipping\", \"shots\", \"shots\", \"shots\", \"shots\", \"shoulder\", \"shouting\", \"shuttle\", \"simm\", \"simms\", \"since\", \"since\", \"since\", \"since\", \"since\", \"since\", \"since\", \"since\", \"since\", \"since\", \"since\", \"since\", \"since\", \"since\", \"sins\", \"sins\", \"sister\", \"skepticism\", \"skip\", \"skipjack\", \"slave\", \"sleeve\", \"slots\", \"smith\", \"smith\", \"smith\", \"smith\", \"smith\", \"smith\", \"smoked\", \"smokeless\", \"smoking\", \"smoking\", \"sockets\", \"software\", \"software\", \"software\", \"solar\", \"solaris\", \"something\", \"something\", \"something\", \"something\", \"something\", \"something\", \"something\", \"something\", \"something\", \"soon\", \"soon\", \"soon\", \"soon\", \"soon\", \"soon\", \"soon\", \"soon\", \"soon\", \"soon\", \"soon\", \"soon\", \"source\", \"source\", \"source\", \"source\", \"source\", \"source\", \"source\", \"south\", \"south\", \"south\", \"south\", \"space\", \"space\", \"space\", \"space\", \"spacecraft\", \"spacewalks\", \"speakers\", \"speakers\", \"speed\", \"speed\", \"speed\", \"speed\", \"speed\", \"speedstar\", \"spending\", \"spending\", \"sphere\", \"sphere\", \"spirit\", \"spirit\", \"spiritual\", \"sqrt\", \"stalin\", \"stalin\", \"standard\", \"standard\", \"standard\", \"standard\", \"standard\", \"standard\", \"stanley\", \"started\", \"started\", \"started\", \"started\", \"started\", \"started\", \"starts\", \"starts\", \"starts\", \"starts\", \"state\", \"state\", \"state\", \"state\", \"state\", \"state\", \"state\", \"state\", \"state\", \"state\", \"states\", \"states\", \"states\", \"states\", \"states\", \"states\", \"stats\", \"stats\", \"stauber\", \"steady\", \"steady\", \"stealth\", \"stereo\", \"stereo\", \"stevens\", \"stevens\", \"still\", \"still\", \"still\", \"still\", \"still\", \"still\", \"still\", \"still\", \"still\", \"still\", \"still\", \"still\", \"stimulus\", \"stomach\", \"stomach\", \"string\", \"string\", \"studio\", \"stuff\", \"stuff\", \"stuff\", \"stuff\", \"stuff\", \"stuff\", \"stuff\", \"stuff\", \"subdirectory\", \"suck\", \"sumgait\", \"sunos\", \"support\", \"support\", \"support\", \"support\", \"support\", \"support\", \"support\", \"support\", \"supra\", \"sure\", \"sure\", \"sure\", \"sure\", \"sure\", \"sure\", \"sure\", \"sure\", \"sure\", \"sure\", \"sure\", \"surgery\", \"surgery\", \"surgery\", \"surrender\", \"surrender\", \"suter\", \"svga\", \"sweden\", \"sweden\", \"sweep\", \"sweep\", \"sword\", \"symbol\", \"symbol\", \"symptoms\", \"symptoms\", \"symptoms\", \"sync\", \"system\", \"system\", \"system\", \"system\", \"system\", \"system\", \"system\", \"system\", \"system\", \"system\", \"take\", \"take\", \"take\", \"take\", \"take\", \"take\", \"take\", \"take\", \"take\", \"take\", \"taught\", \"taxes\", \"taxes\", \"team\", \"team\", \"teams\", \"technology\", \"technology\", \"technology\", \"telecommunications\", \"telescope\", \"temp\", \"temporarily\", \"tension\", \"terminals\", \"testament\", \"testament\", \"thanks\", \"thanks\", \"thanks\", \"thanks\", \"thanks\", \"thanks\", \"thanks\", \"thanks\", \"therefore\", \"therefore\", \"therefore\", \"therefore\", \"therefore\", \"therefore\", \"things\", \"things\", \"things\", \"things\", \"things\", \"things\", \"things\", \"things\", \"things\", \"things\", \"think\", \"think\", \"think\", \"think\", \"think\", \"think\", \"think\", \"think\", \"think\", \"third\", \"third\", \"third\", \"third\", \"third\", \"third\", \"third\", \"third\", \"third\", \"third\", \"third\", \"thou\", \"thou\", \"though\", \"though\", \"though\", \"though\", \"though\", \"though\", \"though\", \"though\", \"though\", \"though\", \"three\", \"three\", \"three\", \"three\", \"three\", \"three\", \"three\", \"three\", \"three\", \"three\", \"three\", \"throttle\", \"thumb\", \"thumbs\", \"ticket\", \"ticket\", \"time\", \"time\", \"time\", \"time\", \"time\", \"time\", \"time\", \"time\", \"time\", \"time\", \"time\", \"time\", \"tire\", \"tire\", \"tires\", \"tires\", \"tobacco\", \"tobacco\", \"told\", \"told\", \"told\", \"told\", \"told\", \"tongues\", \"took\", \"took\", \"took\", \"took\", \"took\", \"took\", \"took\", \"toolkit\", \"toronto\", \"toronto\", \"toronto\", \"toronto\", \"torque\", \"tower\", \"tower\", \"toyota\", \"trained\", \"transmission\", \"transmission\", \"transmission\", \"treatment\", \"treatment\", \"treatment\", \"treatment\", \"treatments\", \"trial\", \"trial\", \"trial\", \"trial\", \"trial\", \"trial\", \"trinity\", \"troops\", \"troops\", \"troops\", \"truck\", \"true\", \"true\", \"true\", \"true\", \"true\", \"true\", \"true\", \"true\", \"true\", \"true\", \"truth\", \"truth\", \"truth\", \"turgeon\", \"turkey\", \"turkish\", \"turks\", \"tyre\", \"unit\", \"unit\", \"unit\", \"unit\", \"unit\", \"university\", \"university\", \"university\", \"university\", \"university\", \"university\", \"university\", \"university\", \"unix\", \"unix\", \"upgrade\", \"upgrading\", \"used\", \"used\", \"used\", \"used\", \"used\", \"used\", \"used\", \"used\", \"used\", \"used\", \"used\", \"used\", \"used\", \"user\", \"user\", \"user\", \"user\", \"using\", \"using\", \"using\", \"using\", \"using\", \"using\", \"using\", \"using\", \"using\", \"using\", \"using\", \"using\", \"uuencode\", \"vaginal\", \"vancouver\", \"vancouver\", \"vancouver\", \"vancouver\", \"vancouver\", \"venus\", \"vernon\", \"vernon\", \"verse\", \"version\", \"version\", \"version\", \"version\", \"version\", \"vesa\", \"vice\", \"vice\", \"vice\", \"vice\", \"vice\", \"video\", \"video\", \"video\", \"video\", \"video\", \"village\", \"villages\", \"violent\", \"violent\", \"visual\", \"vitamin\", \"voice\", \"voice\", \"voice\", \"voice\", \"voice\", \"voice\", \"voice\", \"voltage\", \"volume\", \"volume\", \"volume\", \"volume\", \"volume\", \"volume\", \"vpic\", \"vram\", \"waco\", \"waco\", \"want\", \"want\", \"want\", \"want\", \"want\", \"want\", \"want\", \"want\", \"want\", \"want\", \"washington\", \"washington\", \"washington\", \"washington\", \"washington\", \"washington\", \"water\", \"water\", \"water\", \"water\", \"water\", \"waters\", \"watts\", \"weapon\", \"weapon\", \"weapons\", \"weapons\", \"weaver\", \"well\", \"well\", \"well\", \"well\", \"well\", \"well\", \"well\", \"well\", \"well\", \"well\", \"well\", \"well\", \"went\", \"went\", \"went\", \"went\", \"wholesale\", \"widget\", \"widgets\", \"width\", \"width\", \"wife\", \"wife\", \"wife\", \"willis\", \"window\", \"window\", \"windows\", \"windows\", \"windows\", \"winfield\", \"winmarks\", \"winnipeg\", \"winnipeg\", \"wiped\", \"wire\", \"wired\", \"wiretap\", \"wiretap\", \"wiring\", \"wiring\", \"woman\", \"woman\", \"woman\", \"woman\", \"women\", \"women\", \"women\", \"women\", \"word\", \"word\", \"word\", \"word\", \"word\", \"word\", \"word\", \"word\", \"words\", \"words\", \"words\", \"words\", \"words\", \"words\", \"words\", \"work\", \"work\", \"work\", \"work\", \"work\", \"work\", \"work\", \"work\", \"work\", \"work\", \"work\", \"working\", \"working\", \"working\", \"working\", \"working\", \"working\", \"working\", \"working\", \"world\", \"world\", \"world\", \"world\", \"world\", \"world\", \"world\", \"world\", \"world\", \"world\", \"world\", \"worship\", \"would\", \"would\", \"would\", \"would\", \"would\", \"would\", \"would\", \"would\", \"would\", \"would\", \"would\", \"would\", \"would\", \"wrong\", \"wrong\", \"wrong\", \"wrong\", \"wrong\", \"wrong\", \"wrong\", \"wrong\", \"xlib\", \"xmodmap\", \"xterm\", \"yankees\", \"year\", \"year\", \"year\", \"year\", \"year\", \"year\", \"year\", \"year\", \"year\", \"years\", \"years\", \"years\", \"years\", \"years\", \"years\", \"years\", \"years\", \"years\", \"years\", \"years\", \"yeast\", \"yogurt\"]}, \"R\": 30, \"lambda.step\": 0.01, \"plot.opts\": {\"xlab\": \"PC1\", \"ylab\": \"PC2\"}, \"topic.order\": [13, 2, 1, 8, 17, 3, 12, 18, 11, 4, 9, 10, 14, 7, 16, 6, 5, 20, 15, 19]};\n",
       "\n",
       "function LDAvis_load_lib(url, callback){\n",
       "  var s = document.createElement('script');\n",
       "  s.src = url;\n",
       "  s.async = true;\n",
       "  s.onreadystatechange = s.onload = callback;\n",
       "  s.onerror = function(){console.warn(\"failed to load library \" + url);};\n",
       "  document.getElementsByTagName(\"head\")[0].appendChild(s);\n",
       "}\n",
       "\n",
       "if(typeof(LDAvis) !== \"undefined\"){\n",
       "   // already loaded: just create the visualization\n",
       "   !function(LDAvis){\n",
       "       new LDAvis(\"#\" + \"ldavis_el1244827383725194081679035814\", ldavis_el1244827383725194081679035814_data);\n",
       "   }(LDAvis);\n",
       "}else if(typeof define === \"function\" && define.amd){\n",
       "   // require.js is available: use it to load d3/LDAvis\n",
       "   require.config({paths: {d3: \"https://d3js.org/d3.v5\"}});\n",
       "   require([\"d3\"], function(d3){\n",
       "      window.d3 = d3;\n",
       "      LDAvis_load_lib(\"https://cdn.jsdelivr.net/gh/bmabey/pyLDAvis@3.3.1/pyLDAvis/js/ldavis.v3.0.0.js\", function(){\n",
       "        new LDAvis(\"#\" + \"ldavis_el1244827383725194081679035814\", ldavis_el1244827383725194081679035814_data);\n",
       "      });\n",
       "    });\n",
       "}else{\n",
       "    // require.js not available: dynamically load d3 & LDAvis\n",
       "    LDAvis_load_lib(\"https://d3js.org/d3.v5.js\", function(){\n",
       "         LDAvis_load_lib(\"https://cdn.jsdelivr.net/gh/bmabey/pyLDAvis@3.3.1/pyLDAvis/js/ldavis.v3.0.0.js\", function(){\n",
       "                 new LDAvis(\"#\" + \"ldavis_el1244827383725194081679035814\", ldavis_el1244827383725194081679035814_data);\n",
       "            })\n",
       "         });\n",
       "}\n",
       "</script>"
      ],
      "text/plain": [
       "<IPython.core.display.HTML object>"
      ]
     },
     "execution_count": 33,
     "metadata": {},
     "output_type": "execute_result"
    }
   ],
   "source": [
    "import pyLDAvis.gensim_models as gensimvis\n",
    "\n",
    "pyLDAvis.enable_notebook()\n",
    "vis = gensimvis.prepare(ldamodel, corpus, dictionary)\n",
    "pyLDAvis.display(vis)"
   ]
  },
  {
   "cell_type": "markdown",
   "id": "1cc2c046",
   "metadata": {},
   "source": [
    "## 문서 별 토픽 분포 보기\n",
    "각 문서의 토픽 분포는 이미 훈련된 LDA 모델인 ldamodel[]에 전체 데이터가 정수 인코딩 된 결과를 넣은 후에 확인이 가능"
   ]
  },
  {
   "cell_type": "code",
   "execution_count": 34,
   "id": "70e0d3e9",
   "metadata": {},
   "outputs": [
    {
     "name": "stdout",
     "output_type": "stream",
     "text": [
      "0 번째 문서의 topic 비율은 [(2, 0.018625509), (3, 0.107496455), (10, 0.40153766), (12, 0.3395035), (17, 0.10412686), (19, 0.017189693)]\n",
      "1 번째 문서의 topic 비율은 [(5, 0.027480708), (6, 0.027863849), (11, 0.105553955), (12, 0.8180339)]\n",
      "2 번째 문서의 topic 비율은 [(7, 0.07610894), (10, 0.43566224), (12, 0.47450432)]\n",
      "3 번째 문서의 topic 비율은 [(0, 0.036594503), (3, 0.02951936), (9, 0.121654324), (11, 0.150582), (12, 0.36450493), (13, 0.24006768), (16, 0.046744414)]\n",
      "4 번째 문서의 topic 비율은 [(8, 0.4088306), (11, 0.5578242)]\n"
     ]
    },
    {
     "name": "stderr",
     "output_type": "stream",
     "text": [
      "C:\\Users\\User\\anaconda3\\lib\\site-packages\\ipykernel\\ipkernel.py:287: DeprecationWarning: `should_run_async` will not call `transform_cell` automatically in the future. Please pass the result to `transformed_cell` argument and any exception that happen during thetransform in `preprocessing_exc_tuple` in IPython 7.17 and above.\n",
      "  and should_run_async(code)\n"
     ]
    }
   ],
   "source": [
    "for i, topic_list in enumerate(ldamodel[corpus]):\n",
    "    if i==5:\n",
    "        break\n",
    "    print(i,'번째 문서의 topic 비율은',topic_list)"
   ]
  },
  {
   "cell_type": "code",
   "execution_count": 35,
   "id": "24bf7482",
   "metadata": {},
   "outputs": [
    {
     "name": "stderr",
     "output_type": "stream",
     "text": [
      "C:\\Users\\User\\anaconda3\\lib\\site-packages\\ipykernel\\ipkernel.py:287: DeprecationWarning: `should_run_async` will not call `transform_cell` automatically in the future. Please pass the result to `transformed_cell` argument and any exception that happen during thetransform in `preprocessing_exc_tuple` in IPython 7.17 and above.\n",
      "  and should_run_async(code)\n"
     ]
    }
   ],
   "source": [
    "def make_topictable_per_doc(ldamodel, corpus):\n",
    "    topic_table = pd.DataFrame()\n",
    "\n",
    "    # 몇 번째 문서인지를 의미하는 문서 번호와 해당 문서의 토픽 비중을 한 줄씩 꺼내온다.\n",
    "    for i, topic_list in enumerate(ldamodel[corpus]):\n",
    "        doc = topic_list[0] if ldamodel.per_word_topics else topic_list            \n",
    "        doc = sorted(doc, key=lambda x: (x[1]), reverse=True)\n",
    "        # 각 문서에 대해서 비중이 높은 토픽순으로 토픽을 정렬한다.\n",
    "        # EX) 정렬 전 0번 문서 : (2번 토픽, 48.5%), (8번 토픽, 25%), (10번 토픽, 5%), (12번 토픽, 21.5%), \n",
    "        # Ex) 정렬 후 0번 문서 : (2번 토픽, 48.5%), (8번 토픽, 25%), (12번 토픽, 21.5%), (10번 토픽, 5%)\n",
    "        # 48 > 25 > 21 > 5 순으로 정렬이 된 것.\n",
    "\n",
    "        # 모든 문서에 대해서 각각 아래를 수행\n",
    "        for j, (topic_num, prop_topic) in enumerate(doc): #  몇 번 토픽인지와 비중을 나눠서 저장한다.\n",
    "            if j == 0:  # 정렬을 한 상태이므로 가장 앞에 있는 것이 가장 비중이 높은 토픽\n",
    "                topic_table = topic_table.append(pd.Series([int(topic_num), round(prop_topic,4), topic_list]), ignore_index=True)\n",
    "                # 가장 비중이 높은 토픽과, 가장 비중이 높은 토픽의 비중과, 전체 토픽의 비중을 저장한다.\n",
    "            else:\n",
    "                break\n",
    "    return(topic_table)"
   ]
  },
  {
   "cell_type": "code",
   "execution_count": 36,
   "id": "06d02d28",
   "metadata": {},
   "outputs": [
    {
     "name": "stderr",
     "output_type": "stream",
     "text": [
      "C:\\Users\\User\\anaconda3\\lib\\site-packages\\ipykernel\\ipkernel.py:287: DeprecationWarning: `should_run_async` will not call `transform_cell` automatically in the future. Please pass the result to `transformed_cell` argument and any exception that happen during thetransform in `preprocessing_exc_tuple` in IPython 7.17 and above.\n",
      "  and should_run_async(code)\n"
     ]
    },
    {
     "data": {
      "text/html": [
       "<div>\n",
       "<style scoped>\n",
       "    .dataframe tbody tr th:only-of-type {\n",
       "        vertical-align: middle;\n",
       "    }\n",
       "\n",
       "    .dataframe tbody tr th {\n",
       "        vertical-align: top;\n",
       "    }\n",
       "\n",
       "    .dataframe thead th {\n",
       "        text-align: right;\n",
       "    }\n",
       "</style>\n",
       "<table border=\"1\" class=\"dataframe\">\n",
       "  <thead>\n",
       "    <tr style=\"text-align: right;\">\n",
       "      <th></th>\n",
       "      <th>문서 번호</th>\n",
       "      <th>가장 비중이 높은 토픽</th>\n",
       "      <th>가장 높은 토픽의 비중</th>\n",
       "      <th>각 토픽의 비중</th>\n",
       "    </tr>\n",
       "  </thead>\n",
       "  <tbody>\n",
       "    <tr>\n",
       "      <th>0</th>\n",
       "      <td>0</td>\n",
       "      <td>10.0</td>\n",
       "      <td>0.4015</td>\n",
       "      <td>[(2, 0.018625285), (3, 0.107496336), (10, 0.40...</td>\n",
       "    </tr>\n",
       "    <tr>\n",
       "      <th>1</th>\n",
       "      <td>1</td>\n",
       "      <td>12.0</td>\n",
       "      <td>0.8180</td>\n",
       "      <td>[(5, 0.027480708), (6, 0.027863847), (11, 0.10...</td>\n",
       "    </tr>\n",
       "    <tr>\n",
       "      <th>2</th>\n",
       "      <td>2</td>\n",
       "      <td>12.0</td>\n",
       "      <td>0.4746</td>\n",
       "      <td>[(7, 0.07600142), (10, 0.43566146), (12, 0.474...</td>\n",
       "    </tr>\n",
       "    <tr>\n",
       "      <th>3</th>\n",
       "      <td>3</td>\n",
       "      <td>12.0</td>\n",
       "      <td>0.3645</td>\n",
       "      <td>[(0, 0.036573872), (3, 0.029512832), (9, 0.121...</td>\n",
       "    </tr>\n",
       "    <tr>\n",
       "      <th>4</th>\n",
       "      <td>4</td>\n",
       "      <td>11.0</td>\n",
       "      <td>0.5578</td>\n",
       "      <td>[(8, 0.4088138), (11, 0.557841)]</td>\n",
       "    </tr>\n",
       "    <tr>\n",
       "      <th>5</th>\n",
       "      <td>5</td>\n",
       "      <td>12.0</td>\n",
       "      <td>0.5155</td>\n",
       "      <td>[(4, 0.24937156), (10, 0.052091762), (12, 0.51...</td>\n",
       "    </tr>\n",
       "    <tr>\n",
       "      <th>6</th>\n",
       "      <td>6</td>\n",
       "      <td>11.0</td>\n",
       "      <td>0.3181</td>\n",
       "      <td>[(0, 0.2653504), (1, 0.15569118), (7, 0.054324...</td>\n",
       "    </tr>\n",
       "    <tr>\n",
       "      <th>7</th>\n",
       "      <td>7</td>\n",
       "      <td>12.0</td>\n",
       "      <td>0.4741</td>\n",
       "      <td>[(1, 0.054314386), (3, 0.102867305), (7, 0.146...</td>\n",
       "    </tr>\n",
       "    <tr>\n",
       "      <th>8</th>\n",
       "      <td>8</td>\n",
       "      <td>7.0</td>\n",
       "      <td>0.6282</td>\n",
       "      <td>[(1, 0.14216706), (2, 0.17536335), (7, 0.62822...</td>\n",
       "    </tr>\n",
       "    <tr>\n",
       "      <th>9</th>\n",
       "      <td>9</td>\n",
       "      <td>11.0</td>\n",
       "      <td>0.2759</td>\n",
       "      <td>[(0, 0.24634528), (3, 0.08892885), (7, 0.11603...</td>\n",
       "    </tr>\n",
       "  </tbody>\n",
       "</table>\n",
       "</div>"
      ],
      "text/plain": [
       "   문서 번호  가장 비중이 높은 토픽  가장 높은 토픽의 비중  \\\n",
       "0      0          10.0        0.4015   \n",
       "1      1          12.0        0.8180   \n",
       "2      2          12.0        0.4746   \n",
       "3      3          12.0        0.3645   \n",
       "4      4          11.0        0.5578   \n",
       "5      5          12.0        0.5155   \n",
       "6      6          11.0        0.3181   \n",
       "7      7          12.0        0.4741   \n",
       "8      8           7.0        0.6282   \n",
       "9      9          11.0        0.2759   \n",
       "\n",
       "                                            각 토픽의 비중  \n",
       "0  [(2, 0.018625285), (3, 0.107496336), (10, 0.40...  \n",
       "1  [(5, 0.027480708), (6, 0.027863847), (11, 0.10...  \n",
       "2  [(7, 0.07600142), (10, 0.43566146), (12, 0.474...  \n",
       "3  [(0, 0.036573872), (3, 0.029512832), (9, 0.121...  \n",
       "4                   [(8, 0.4088138), (11, 0.557841)]  \n",
       "5  [(4, 0.24937156), (10, 0.052091762), (12, 0.51...  \n",
       "6  [(0, 0.2653504), (1, 0.15569118), (7, 0.054324...  \n",
       "7  [(1, 0.054314386), (3, 0.102867305), (7, 0.146...  \n",
       "8  [(1, 0.14216706), (2, 0.17536335), (7, 0.62822...  \n",
       "9  [(0, 0.24634528), (3, 0.08892885), (7, 0.11603...  "
      ]
     },
     "execution_count": 36,
     "metadata": {},
     "output_type": "execute_result"
    }
   ],
   "source": [
    "topictable = make_topictable_per_doc(ldamodel, corpus)\n",
    "topictable = topictable.reset_index() # 문서 번호을 의미하는 열(column)로 사용하기 위해서 인덱스 열을 하나 더 만든다.\n",
    "topictable.columns = ['문서 번호', '가장 비중이 높은 토픽', '가장 높은 토픽의 비중', '각 토픽의 비중']\n",
    "topictable[:10]"
   ]
  },
  {
   "cell_type": "code",
   "execution_count": null,
   "id": "a58c80f3",
   "metadata": {},
   "outputs": [],
   "source": []
  }
 ],
 "metadata": {
  "kernelspec": {
   "display_name": "Python 3",
   "language": "python",
   "name": "python3"
  },
  "language_info": {
   "codemirror_mode": {
    "name": "ipython",
    "version": 3
   },
   "file_extension": ".py",
   "mimetype": "text/x-python",
   "name": "python",
   "nbconvert_exporter": "python",
   "pygments_lexer": "ipython3",
   "version": "3.8.8"
  }
 },
 "nbformat": 4,
 "nbformat_minor": 5
}
